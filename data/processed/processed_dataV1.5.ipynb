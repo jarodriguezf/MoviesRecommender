{
 "cells": [
  {
   "cell_type": "code",
   "execution_count": 6,
   "metadata": {},
   "outputs": [],
   "source": [
    "import pandas as pd\n",
    "import numpy as np\n",
    "from datetime import datetime"
   ]
  },
  {
   "cell_type": "markdown",
   "metadata": {},
   "source": [
    "En este script, procedere a limpiar y procesar los datos. Estas tranformaciones forman parte del modelado oficial del proyecto.\n",
    "\n",
    "Cada observacion dada en estas transformaciones se han visto analizadas previamente en los archivos del EDA.\n",
    "\n",
    "- Estamos ante la segunda version del modelo de recomendacion.\n",
    "- Los datos seran la fusion realizada previamente en el archivo 'processed_dataV1.0'"
   ]
  },
  {
   "cell_type": "code",
   "execution_count": 2,
   "metadata": {},
   "outputs": [],
   "source": [
    "df_ = pd.read_parquet('../raw/data_model/dataset_process_trainV1.0.parquet')#Carga de datos"
   ]
  },
  {
   "cell_type": "code",
   "execution_count": 3,
   "metadata": {},
   "outputs": [
    {
     "name": "stdout",
     "output_type": "stream",
     "text": [
      "<class 'pandas.core.frame.DataFrame'>\n",
      "RangeIndex: 15839932 entries, 0 to 15839931\n",
      "Data columns (total 9 columns):\n",
      " #   Column     Dtype  \n",
      "---  ------     -----  \n",
      " 0   userId     float64\n",
      " 1   movieId    int64  \n",
      " 2   rating     float64\n",
      " 3   timestamp  float64\n",
      " 4   title      object \n",
      " 5   genres     object \n",
      " 6   tagId      int64  \n",
      " 7   relevance  float64\n",
      " 8   tag        object \n",
      "dtypes: float64(4), int64(2), object(3)\n",
      "memory usage: 1.1+ GB\n"
     ]
    }
   ],
   "source": [
    "df_.info()"
   ]
  },
  {
   "cell_type": "code",
   "execution_count": 4,
   "metadata": {},
   "outputs": [
    {
     "data": {
      "text/plain": [
       "userId       12\n",
       "movieId       0\n",
       "rating       12\n",
       "timestamp    12\n",
       "title         2\n",
       "genres        2\n",
       "tagId         0\n",
       "relevance     0\n",
       "tag           0\n",
       "dtype: int64"
      ]
     },
     "execution_count": 4,
     "metadata": {},
     "output_type": "execute_result"
    }
   ],
   "source": [
    "# df_, revisando nulos\n",
    "df_.isna().sum()"
   ]
  },
  {
   "cell_type": "code",
   "execution_count": 10,
   "metadata": {},
   "outputs": [],
   "source": [
    "# Los valores nulos de df_ los eliminaremos\n",
    "def imputer_(df_):\n",
    "    df_ratings_copy = df_.copy()\n",
    "    df_ratings_copy=df_ratings_copy.dropna()\n",
    "\n",
    "    return df_ratings_copy"
   ]
  },
  {
   "cell_type": "code",
   "execution_count": 11,
   "metadata": {},
   "outputs": [],
   "source": [
    "df_=imputer_(df_)# Eliminamos los valores nulos"
   ]
  },
  {
   "cell_type": "code",
   "execution_count": 12,
   "metadata": {},
   "outputs": [
    {
     "data": {
      "text/plain": [
       "userId       0\n",
       "movieId      0\n",
       "rating       0\n",
       "timestamp    0\n",
       "title        0\n",
       "genres       0\n",
       "tagId        0\n",
       "relevance    0\n",
       "tag          0\n",
       "dtype: int64"
      ]
     },
     "execution_count": 12,
     "metadata": {},
     "output_type": "execute_result"
    }
   ],
   "source": [
    "df_.isna().sum()"
   ]
  },
  {
   "cell_type": "code",
   "execution_count": 14,
   "metadata": {},
   "outputs": [
    {
     "data": {
      "text/plain": [
       "userId         138493\n",
       "movieId         10369\n",
       "rating             10\n",
       "timestamp    12537611\n",
       "title           10369\n",
       "genres            930\n",
       "tagId             853\n",
       "relevance        1018\n",
       "tag               853\n",
       "dtype: int64"
      ]
     },
     "execution_count": 14,
     "metadata": {},
     "output_type": "execute_result"
    }
   ],
   "source": [
    "# df_ratings, revisando duplicados en titulos (no queremos el mismo titulo mas de 1 vez)\n",
    "df_.nunique() # Comprobamos los valores duplicados por columnas"
   ]
  },
  {
   "cell_type": "markdown",
   "metadata": {},
   "source": [
    "El dataset se encuentran correctamente con respecto a los duplicados.\n",
    "- En title no tenemos ningun titulo igual repetido.\n",
    "- En tags tenemos la misma cantidad de tag como de su id."
   ]
  },
  {
   "cell_type": "code",
   "execution_count": 15,
   "metadata": {},
   "outputs": [],
   "source": [
    "# Transformamos las variables del dataset \n",
    "# Timestamp, convertimos a datetime (referente a fecha de valoracion)\n",
    "def timestamp_to_datetime_df_(df_):\n",
    "    df_ratings_copy = df_.copy()\n",
    "    # Convertimos el timestamp a datetime, luego aplicamos el formato año/mes/dia devolviendo un string\n",
    "    df_ratings_copy['date_rating'] = df_ratings_copy['timestamp'].apply(lambda x: datetime.fromtimestamp(x).strftime('%Y-%m-%d'))\n",
    "    # Transformamos a Date el String\n",
    "    df_ratings_copy['date_rating'] = df_ratings_copy['date_rating'].apply(lambda x: datetime.strptime(x, '%Y-%m-%d'))\n",
    "    # Eliminamos variable timestamp\n",
    "    df_ratings_copy.drop('timestamp', axis=1, inplace=True)\n",
    "\n",
    "    return df_ratings_copy"
   ]
  },
  {
   "cell_type": "code",
   "execution_count": 16,
   "metadata": {},
   "outputs": [],
   "source": [
    "df_=timestamp_to_datetime_df_(df_) # Transforma timestamp a datetime (las fechas no valoradas se veran asi:\"1970-01-01\")"
   ]
  },
  {
   "cell_type": "code",
   "execution_count": 17,
   "metadata": {},
   "outputs": [],
   "source": [
    "# Transformamos las variables del dataset df_\n",
    "# date_rating, separamos año,mes y dia en variables independientes\n",
    "def date_df_indepenDates(df_):\n",
    "    df_ratings_copy = df_.copy()\n",
    "    # Extraemos en variables sepadas el año, mes y dia de date_rating\n",
    "    df_ratings_copy['year_rate'] = df_ratings_copy['date_rating'].dt.year\n",
    "    df_ratings_copy['month_rate'] = df_ratings_copy['date_rating'].dt.month\n",
    "    df_ratings_copy['day_rate'] = df_ratings_copy['date_rating'].dt.day\n",
    "    # Eliminamos variable timestamp\n",
    "    df_ratings_copy.drop('date_rating', axis=1, inplace=True)\n",
    "    return df_ratings_copy"
   ]
  },
  {
   "cell_type": "code",
   "execution_count": 18,
   "metadata": {},
   "outputs": [],
   "source": [
    "df_=date_df_indepenDates(df_)# Extraemos fechas independientes"
   ]
  },
  {
   "cell_type": "code",
   "execution_count": 20,
   "metadata": {},
   "outputs": [],
   "source": [
    "# Transformamos las variables del dataset df_\n",
    "# title, Extraemos el año de publicacion de cada pelicula en una variable nueva\n",
    "def launchYear_title_df_(df_):\n",
    "    df_ratings_copy = df_.copy()\n",
    "    # Extraemos con expresiones regulares los años del title, rellenamos los nulos con 0 y casteamos a int\n",
    "    df_ratings_copy['launch_year'] = df_ratings_copy['title'].str.extract(r'\\((\\d{4})\\)', expand=False).fillna('0').astype(int)\n",
    "    # Eliminamos el año y cualquier contenido entre paréntesis en la columna 'title'\n",
    "    df_ratings_copy['title'] = df_ratings_copy['title'].apply(lambda x: x.split(' (')[0])\n",
    "    return df_ratings_copy"
   ]
  },
  {
   "cell_type": "code",
   "execution_count": 21,
   "metadata": {},
   "outputs": [],
   "source": [
    "df_=launchYear_title_df_(df_) # Extrae año del titulo"
   ]
  },
  {
   "cell_type": "code",
   "execution_count": 22,
   "metadata": {},
   "outputs": [],
   "source": [
    "# Transformamos las variables del dataset df_\n",
    "# Convertimos userId a entero\n",
    "def int_userId_df_(df_):\n",
    "    df_ratings_copy=df_.copy()\n",
    "    # Convertir 'userId' a int\n",
    "    df_ratings_copy['userId'] = pd.to_numeric(df_ratings_copy['userId'], errors='coerce').astype('int64')\n",
    "    return df_ratings_copy"
   ]
  },
  {
   "cell_type": "code",
   "execution_count": 23,
   "metadata": {},
   "outputs": [],
   "source": [
    "df_=int_userId_df_(df_)# Convierte userId a entero"
   ]
  },
  {
   "cell_type": "code",
   "execution_count": 25,
   "metadata": {},
   "outputs": [],
   "source": [
    "# Transformamos las variables del dataset df_\n",
    "# Extraemos la longitud de cada title y lo añadimos como nueva variable\n",
    "def lenTitle_df_(df_):\n",
    "    df_ratings_copy=df_.copy()\n",
    "    #Extraemos la longitud de cada uno de los titulos\n",
    "    df_ratings_copy['len_title']=df_ratings_copy['title'].apply(lambda x: len(x))\n",
    "\n",
    "    return df_ratings_copy"
   ]
  },
  {
   "cell_type": "code",
   "execution_count": 26,
   "metadata": {},
   "outputs": [],
   "source": [
    "df_=lenTitle_df_(df_) # Extraemos longitud del titulo"
   ]
  },
  {
   "cell_type": "code",
   "execution_count": 27,
   "metadata": {},
   "outputs": [],
   "source": [
    "# Transformamos las variables del dataset df_\n",
    "# Extraemos  el genero principal de cada movieId (se considera principal al primero que aparece en genres antes del '|')\n",
    "def mainGenre_df_(df_):\n",
    "    df_ratings_copy=df_.copy()\n",
    "    # Extraemos el primer genero de la columna genres y lo almacenamos en una nueva variable\n",
    "    df_ratings_copy['main_genre']=df_ratings_copy['genres'].apply(lambda x: x.split('|')[0])\n",
    "    return df_ratings_copy"
   ]
  },
  {
   "cell_type": "code",
   "execution_count": 28,
   "metadata": {},
   "outputs": [],
   "source": [
    "df_=mainGenre_df_(df_) #Extraemos genero principal"
   ]
  },
  {
   "cell_type": "code",
   "execution_count": 39,
   "metadata": {},
   "outputs": [],
   "source": [
    "# Transformamos las variables del dataset df_\n",
    "# Extraemos el genero secundario de cada movieId (se considera secundario al segundo que aparece en genres antes del '|')\n",
    "def secundaryGenre_df_(df_):\n",
    "    df_ratings_copy=df_.copy()\n",
    "    df_ratings_copy['secondary_genre'] = df_ratings_copy['genres'].apply(lambda x: x.split('|')[1] if len(x.split('|')) >1 else 'no_secundary')\n",
    "    return df_ratings_copy"
   ]
  },
  {
   "cell_type": "code",
   "execution_count": 40,
   "metadata": {},
   "outputs": [],
   "source": [
    "df_ = secundaryGenre_df_(df_)#Extraemos genero secundario"
   ]
  },
  {
   "cell_type": "code",
   "execution_count": 42,
   "metadata": {},
   "outputs": [],
   "source": [
    "# Transformamos las variables del dataset df_\n",
    "# Extraemos el genero tercero de cada movieId (se considera secundario al tercero que aparece en genres antes del '|')\n",
    "def thirdGenre_df_(df_):\n",
    "    df_ratings_copy=df_.copy()\n",
    "    df_ratings_copy['third_genre'] = df_ratings_copy['genres'].apply(lambda x: x.split('|')[2] if len(x.split('|')) >2 else 'no_third')\n",
    "    return df_ratings_copy"
   ]
  },
  {
   "cell_type": "code",
   "execution_count": 43,
   "metadata": {},
   "outputs": [],
   "source": [
    "df_=thirdGenre_df_(df_)#Extraemos genero terciario"
   ]
  },
  {
   "cell_type": "code",
   "execution_count": 48,
   "metadata": {},
   "outputs": [],
   "source": [
    "def valoration_df(df_):\n",
    "    df_ratings_copy=df_.copy()\n",
    "    # Gestionamos el rating en funcion de sus valores y añadimos cuatro categorias: 'excellent','good','bad','unknown'\n",
    "    df_ratings_copy['valoration']=df_ratings_copy['rating'].apply(lambda x: 'excellent' if x == 5 else('good' if x >= 3 else ('unknown' if x == 0 else 'bad')))\n",
    "    return df_ratings_copy"
   ]
  },
  {
   "cell_type": "code",
   "execution_count": 49,
   "metadata": {},
   "outputs": [],
   "source": [
    "df_=valoration_df(df_)# Categorias en funcion de rating"
   ]
  },
  {
   "cell_type": "code",
   "execution_count": 51,
   "metadata": {},
   "outputs": [],
   "source": [
    "def drop_columns(df_):\n",
    "    df_ratings_copy=df_.copy()\n",
    "    df_ratings_copy.drop(['title','genres','tag'], axis=1, inplace=True)\n",
    "    return df_ratings_copy"
   ]
  },
  {
   "cell_type": "code",
   "execution_count": 52,
   "metadata": {},
   "outputs": [],
   "source": [
    "df_= drop_columns(df_)"
   ]
  },
  {
   "cell_type": "code",
   "execution_count": 53,
   "metadata": {},
   "outputs": [
    {
     "data": {
      "text/html": [
       "<div>\n",
       "<style scoped>\n",
       "    .dataframe tbody tr th:only-of-type {\n",
       "        vertical-align: middle;\n",
       "    }\n",
       "\n",
       "    .dataframe tbody tr th {\n",
       "        vertical-align: top;\n",
       "    }\n",
       "\n",
       "    .dataframe thead th {\n",
       "        text-align: right;\n",
       "    }\n",
       "</style>\n",
       "<table border=\"1\" class=\"dataframe\">\n",
       "  <thead>\n",
       "    <tr style=\"text-align: right;\">\n",
       "      <th></th>\n",
       "      <th>userId</th>\n",
       "      <th>movieId</th>\n",
       "      <th>rating</th>\n",
       "      <th>tagId</th>\n",
       "      <th>relevance</th>\n",
       "      <th>year_rate</th>\n",
       "      <th>month_rate</th>\n",
       "      <th>day_rate</th>\n",
       "      <th>launch_year</th>\n",
       "      <th>len_title</th>\n",
       "      <th>main_genre</th>\n",
       "      <th>secondary_genre</th>\n",
       "      <th>third_genre</th>\n",
       "      <th>valoration</th>\n",
       "    </tr>\n",
       "  </thead>\n",
       "  <tbody>\n",
       "    <tr>\n",
       "      <th>0</th>\n",
       "      <td>17807</td>\n",
       "      <td>1</td>\n",
       "      <td>5.0</td>\n",
       "      <td>1036</td>\n",
       "      <td>1.222095</td>\n",
       "      <td>1997</td>\n",
       "      <td>11</td>\n",
       "      <td>21</td>\n",
       "      <td>1995</td>\n",
       "      <td>9</td>\n",
       "      <td>Adventure</td>\n",
       "      <td>Animation</td>\n",
       "      <td>Children</td>\n",
       "      <td>excellent</td>\n",
       "    </tr>\n",
       "    <tr>\n",
       "      <th>1</th>\n",
       "      <td>47201</td>\n",
       "      <td>1</td>\n",
       "      <td>5.0</td>\n",
       "      <td>1036</td>\n",
       "      <td>1.222095</td>\n",
       "      <td>2001</td>\n",
       "      <td>11</td>\n",
       "      <td>21</td>\n",
       "      <td>1995</td>\n",
       "      <td>9</td>\n",
       "      <td>Adventure</td>\n",
       "      <td>Animation</td>\n",
       "      <td>Children</td>\n",
       "      <td>excellent</td>\n",
       "    </tr>\n",
       "    <tr>\n",
       "      <th>2</th>\n",
       "      <td>114858</td>\n",
       "      <td>1</td>\n",
       "      <td>2.0</td>\n",
       "      <td>1036</td>\n",
       "      <td>1.222095</td>\n",
       "      <td>1997</td>\n",
       "      <td>5</td>\n",
       "      <td>9</td>\n",
       "      <td>1995</td>\n",
       "      <td>9</td>\n",
       "      <td>Adventure</td>\n",
       "      <td>Animation</td>\n",
       "      <td>Children</td>\n",
       "      <td>bad</td>\n",
       "    </tr>\n",
       "    <tr>\n",
       "      <th>3</th>\n",
       "      <td>28104</td>\n",
       "      <td>1</td>\n",
       "      <td>3.0</td>\n",
       "      <td>1036</td>\n",
       "      <td>1.222095</td>\n",
       "      <td>1999</td>\n",
       "      <td>10</td>\n",
       "      <td>4</td>\n",
       "      <td>1995</td>\n",
       "      <td>9</td>\n",
       "      <td>Adventure</td>\n",
       "      <td>Animation</td>\n",
       "      <td>Children</td>\n",
       "      <td>good</td>\n",
       "    </tr>\n",
       "    <tr>\n",
       "      <th>4</th>\n",
       "      <td>54273</td>\n",
       "      <td>1</td>\n",
       "      <td>2.0</td>\n",
       "      <td>1036</td>\n",
       "      <td>1.222095</td>\n",
       "      <td>1996</td>\n",
       "      <td>12</td>\n",
       "      <td>30</td>\n",
       "      <td>1995</td>\n",
       "      <td>9</td>\n",
       "      <td>Adventure</td>\n",
       "      <td>Animation</td>\n",
       "      <td>Children</td>\n",
       "      <td>bad</td>\n",
       "    </tr>\n",
       "    <tr>\n",
       "      <th>...</th>\n",
       "      <td>...</td>\n",
       "      <td>...</td>\n",
       "      <td>...</td>\n",
       "      <td>...</td>\n",
       "      <td>...</td>\n",
       "      <td>...</td>\n",
       "      <td>...</td>\n",
       "      <td>...</td>\n",
       "      <td>...</td>\n",
       "      <td>...</td>\n",
       "      <td>...</td>\n",
       "      <td>...</td>\n",
       "      <td>...</td>\n",
       "      <td>...</td>\n",
       "    </tr>\n",
       "    <tr>\n",
       "      <th>15839927</th>\n",
       "      <td>34328</td>\n",
       "      <td>131013</td>\n",
       "      <td>2.5</td>\n",
       "      <td>979</td>\n",
       "      <td>-0.111757</td>\n",
       "      <td>2015</td>\n",
       "      <td>3</td>\n",
       "      <td>29</td>\n",
       "      <td>2015</td>\n",
       "      <td>8</td>\n",
       "      <td>Comedy</td>\n",
       "      <td>no_secundary</td>\n",
       "      <td>no_third</td>\n",
       "      <td>bad</td>\n",
       "    </tr>\n",
       "    <tr>\n",
       "      <th>15839928</th>\n",
       "      <td>99486</td>\n",
       "      <td>131013</td>\n",
       "      <td>3.0</td>\n",
       "      <td>979</td>\n",
       "      <td>-0.111757</td>\n",
       "      <td>2015</td>\n",
       "      <td>3</td>\n",
       "      <td>29</td>\n",
       "      <td>2015</td>\n",
       "      <td>8</td>\n",
       "      <td>Comedy</td>\n",
       "      <td>no_secundary</td>\n",
       "      <td>no_third</td>\n",
       "      <td>good</td>\n",
       "    </tr>\n",
       "    <tr>\n",
       "      <th>15839929</th>\n",
       "      <td>111949</td>\n",
       "      <td>131013</td>\n",
       "      <td>0.5</td>\n",
       "      <td>979</td>\n",
       "      <td>-0.111757</td>\n",
       "      <td>2015</td>\n",
       "      <td>3</td>\n",
       "      <td>31</td>\n",
       "      <td>2015</td>\n",
       "      <td>8</td>\n",
       "      <td>Comedy</td>\n",
       "      <td>no_secundary</td>\n",
       "      <td>no_third</td>\n",
       "      <td>bad</td>\n",
       "    </tr>\n",
       "    <tr>\n",
       "      <th>15839930</th>\n",
       "      <td>64060</td>\n",
       "      <td>131168</td>\n",
       "      <td>3.5</td>\n",
       "      <td>128</td>\n",
       "      <td>0.116878</td>\n",
       "      <td>2015</td>\n",
       "      <td>3</td>\n",
       "      <td>30</td>\n",
       "      <td>2014</td>\n",
       "      <td>7</td>\n",
       "      <td>Drama</td>\n",
       "      <td>no_secundary</td>\n",
       "      <td>no_third</td>\n",
       "      <td>good</td>\n",
       "    </tr>\n",
       "    <tr>\n",
       "      <th>15839931</th>\n",
       "      <td>95841</td>\n",
       "      <td>131170</td>\n",
       "      <td>3.5</td>\n",
       "      <td>887</td>\n",
       "      <td>-0.477062</td>\n",
       "      <td>2015</td>\n",
       "      <td>3</td>\n",
       "      <td>30</td>\n",
       "      <td>2015</td>\n",
       "      <td>9</td>\n",
       "      <td>Sci-Fi</td>\n",
       "      <td>no_secundary</td>\n",
       "      <td>no_third</td>\n",
       "      <td>good</td>\n",
       "    </tr>\n",
       "  </tbody>\n",
       "</table>\n",
       "<p>15839920 rows × 14 columns</p>\n",
       "</div>"
      ],
      "text/plain": [
       "          userId  movieId  rating  tagId  relevance  year_rate  month_rate  \\\n",
       "0          17807        1     5.0   1036   1.222095       1997          11   \n",
       "1          47201        1     5.0   1036   1.222095       2001          11   \n",
       "2         114858        1     2.0   1036   1.222095       1997           5   \n",
       "3          28104        1     3.0   1036   1.222095       1999          10   \n",
       "4          54273        1     2.0   1036   1.222095       1996          12   \n",
       "...          ...      ...     ...    ...        ...        ...         ...   \n",
       "15839927   34328   131013     2.5    979  -0.111757       2015           3   \n",
       "15839928   99486   131013     3.0    979  -0.111757       2015           3   \n",
       "15839929  111949   131013     0.5    979  -0.111757       2015           3   \n",
       "15839930   64060   131168     3.5    128   0.116878       2015           3   \n",
       "15839931   95841   131170     3.5    887  -0.477062       2015           3   \n",
       "\n",
       "          day_rate  launch_year  len_title main_genre secondary_genre  \\\n",
       "0               21         1995          9  Adventure       Animation   \n",
       "1               21         1995          9  Adventure       Animation   \n",
       "2                9         1995          9  Adventure       Animation   \n",
       "3                4         1995          9  Adventure       Animation   \n",
       "4               30         1995          9  Adventure       Animation   \n",
       "...            ...          ...        ...        ...             ...   \n",
       "15839927        29         2015          8     Comedy    no_secundary   \n",
       "15839928        29         2015          8     Comedy    no_secundary   \n",
       "15839929        31         2015          8     Comedy    no_secundary   \n",
       "15839930        30         2014          7      Drama    no_secundary   \n",
       "15839931        30         2015          9     Sci-Fi    no_secundary   \n",
       "\n",
       "         third_genre valoration  \n",
       "0           Children  excellent  \n",
       "1           Children  excellent  \n",
       "2           Children        bad  \n",
       "3           Children       good  \n",
       "4           Children        bad  \n",
       "...              ...        ...  \n",
       "15839927    no_third        bad  \n",
       "15839928    no_third       good  \n",
       "15839929    no_third        bad  \n",
       "15839930    no_third       good  \n",
       "15839931    no_third       good  \n",
       "\n",
       "[15839920 rows x 14 columns]"
      ]
     },
     "execution_count": 53,
     "metadata": {},
     "output_type": "execute_result"
    }
   ],
   "source": [
    "df_"
   ]
  },
  {
   "cell_type": "markdown",
   "metadata": {},
   "source": [
    "Dataset procesado version 1.5"
   ]
  }
 ],
 "metadata": {
  "kernelspec": {
   "display_name": "Python 3",
   "language": "python",
   "name": "python3"
  },
  "language_info": {
   "codemirror_mode": {
    "name": "ipython",
    "version": 3
   },
   "file_extension": ".py",
   "mimetype": "text/x-python",
   "name": "python",
   "nbconvert_exporter": "python",
   "pygments_lexer": "ipython3",
   "version": "3.11.7"
  }
 },
 "nbformat": 4,
 "nbformat_minor": 2
}
