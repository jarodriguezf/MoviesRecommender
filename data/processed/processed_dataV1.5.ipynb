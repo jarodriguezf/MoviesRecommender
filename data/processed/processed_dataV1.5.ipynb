{
 "cells": [
  {
   "cell_type": "code",
   "execution_count": 1,
   "metadata": {},
   "outputs": [],
   "source": [
    "import pandas as pd\n",
    "import numpy as np\n",
    "from datetime import datetime"
   ]
  },
  {
   "cell_type": "markdown",
   "metadata": {},
   "source": [
    "En este script, procedere a limpiar y procesar los datos. Estas tranformaciones forman parte del modelado oficial del proyecto.\n",
    "\n",
    "Cada observacion dada en estas transformaciones se han visto analizadas previamente en los archivos del EDA.\n",
    "\n",
    "- Estamos ante la segunda version del modelo de recomendacion.\n",
    "- Los datos seran la fusion realizada previamente en el archivo 'processed_dataV1.0'"
   ]
  },
  {
   "cell_type": "code",
   "execution_count": 2,
   "metadata": {},
   "outputs": [],
   "source": [
    "df_ = pd.read_parquet('../raw/data_model/dataset_process_trainV1.0.parquet')#Carga de datos"
   ]
  },
  {
   "cell_type": "code",
   "execution_count": 3,
   "metadata": {},
   "outputs": [
    {
     "name": "stdout",
     "output_type": "stream",
     "text": [
      "<class 'pandas.core.frame.DataFrame'>\n",
      "RangeIndex: 15839932 entries, 0 to 15839931\n",
      "Data columns (total 9 columns):\n",
      " #   Column     Dtype  \n",
      "---  ------     -----  \n",
      " 0   userId     float64\n",
      " 1   movieId    int64  \n",
      " 2   rating     float64\n",
      " 3   timestamp  float64\n",
      " 4   title      object \n",
      " 5   genres     object \n",
      " 6   tagId      int64  \n",
      " 7   relevance  float64\n",
      " 8   tag        object \n",
      "dtypes: float64(4), int64(2), object(3)\n",
      "memory usage: 1.1+ GB\n"
     ]
    }
   ],
   "source": [
    "df_.info()"
   ]
  },
  {
   "cell_type": "code",
   "execution_count": 4,
   "metadata": {},
   "outputs": [
    {
     "data": {
      "text/plain": [
       "userId       12\n",
       "movieId       0\n",
       "rating       12\n",
       "timestamp    12\n",
       "title         2\n",
       "genres        2\n",
       "tagId         0\n",
       "relevance     0\n",
       "tag           0\n",
       "dtype: int64"
      ]
     },
     "execution_count": 4,
     "metadata": {},
     "output_type": "execute_result"
    }
   ],
   "source": [
    "# df_, revisando nulos\n",
    "df_.isna().sum()"
   ]
  },
  {
   "cell_type": "code",
   "execution_count": 8,
   "metadata": {},
   "outputs": [],
   "source": [
    "# Los valores nulos de df_ los eliminaremos\n",
    "def imputer_(df_):\n",
    "    df_ratings_copy = df_.copy()\n",
    "    df_ratings_copy=df_ratings_copy.dropna()\n",
    "\n",
    "    return df_ratings_copy"
   ]
  },
  {
   "cell_type": "code",
   "execution_count": 9,
   "metadata": {},
   "outputs": [],
   "source": [
    "df_=imputer_(df_)# Eliminamos los valores nulos"
   ]
  },
  {
   "cell_type": "code",
   "execution_count": 10,
   "metadata": {},
   "outputs": [
    {
     "data": {
      "text/plain": [
       "userId       0\n",
       "movieId      0\n",
       "rating       0\n",
       "timestamp    0\n",
       "title        0\n",
       "genres       0\n",
       "tagId        0\n",
       "relevance    0\n",
       "tag          0\n",
       "dtype: int64"
      ]
     },
     "execution_count": 10,
     "metadata": {},
     "output_type": "execute_result"
    }
   ],
   "source": [
    "df_.isna().sum()"
   ]
  },
  {
   "cell_type": "code",
   "execution_count": 11,
   "metadata": {},
   "outputs": [
    {
     "data": {
      "text/plain": [
       "userId         138493\n",
       "movieId         10369\n",
       "rating             10\n",
       "timestamp    12537611\n",
       "title           10369\n",
       "genres            930\n",
       "tagId             853\n",
       "relevance        1018\n",
       "tag               853\n",
       "dtype: int64"
      ]
     },
     "execution_count": 11,
     "metadata": {},
     "output_type": "execute_result"
    }
   ],
   "source": [
    "# df_ratings, revisando duplicados en titulos (no queremos el mismo titulo mas de 1 vez)\n",
    "df_.nunique() # Comprobamos los valores duplicados por columnas"
   ]
  },
  {
   "cell_type": "markdown",
   "metadata": {},
   "source": [
    "El dataset se encuentran correctamente con respecto a los duplicados.\n",
    "- En title no tenemos ningun titulo igual repetido.\n",
    "- En tags tenemos la misma cantidad de tag como de su id."
   ]
  },
  {
   "cell_type": "code",
   "execution_count": 12,
   "metadata": {},
   "outputs": [],
   "source": [
    "# Transformamos las variables del dataset \n",
    "# Timestamp, convertimos a datetime (referente a fecha de valoracion)\n",
    "def timestamp_to_datetime_df_(df_):\n",
    "    df_ratings_copy = df_.copy()\n",
    "    # Convertimos el timestamp a datetime, luego aplicamos el formato año/mes/dia devolviendo un string\n",
    "    df_ratings_copy['date_rating'] = df_ratings_copy['timestamp'].apply(lambda x: datetime.fromtimestamp(x).strftime('%Y-%m-%d'))\n",
    "    # Transformamos a Date el String\n",
    "    df_ratings_copy['date_rating'] = df_ratings_copy['date_rating'].apply(lambda x: datetime.strptime(x, '%Y-%m-%d'))\n",
    "    # Eliminamos variable timestamp\n",
    "    df_ratings_copy.drop('timestamp', axis=1, inplace=True)\n",
    "\n",
    "    return df_ratings_copy"
   ]
  },
  {
   "cell_type": "code",
   "execution_count": 13,
   "metadata": {},
   "outputs": [],
   "source": [
    "df_=timestamp_to_datetime_df_(df_) # Transforma timestamp a datetime (las fechas no valoradas se veran asi:\"1970-01-01\")"
   ]
  },
  {
   "cell_type": "code",
   "execution_count": 14,
   "metadata": {},
   "outputs": [],
   "source": [
    "# Transformamos las variables del dataset df_\n",
    "# date_rating, separamos año,mes y dia en variables independientes\n",
    "def date_df_indepenDates(df_):\n",
    "    df_ratings_copy = df_.copy()\n",
    "    # Extraemos en variables sepadas el año, mes y dia de date_rating\n",
    "    df_ratings_copy['year_rate'] = df_ratings_copy['date_rating'].dt.year\n",
    "    df_ratings_copy['month_rate'] = df_ratings_copy['date_rating'].dt.month\n",
    "    df_ratings_copy['day_rate'] = df_ratings_copy['date_rating'].dt.day\n",
    "    # Eliminamos variable timestamp\n",
    "    df_ratings_copy.drop('date_rating', axis=1, inplace=True)\n",
    "    return df_ratings_copy"
   ]
  },
  {
   "cell_type": "code",
   "execution_count": 15,
   "metadata": {},
   "outputs": [],
   "source": [
    "df_=date_df_indepenDates(df_)# Extraemos fechas independientes"
   ]
  },
  {
   "cell_type": "code",
   "execution_count": 23,
   "metadata": {},
   "outputs": [],
   "source": [
    "# Aleatoriamente modificamos 5 peliculas por usuario para simular que no la han visto.\n",
    "def poner_no_vistas(grupo):\n",
    "    # Número de películas a poner como no vistas\n",
    "    num_no_vistas = 5\n",
    "    \n",
    "    # Selecciona aleatoriamente algunas películas para poner como no vistas\n",
    "    peliculas_no_vistas = np.random.choice(grupo['movieId'].unique(), size=num_no_vistas, replace=False)\n",
    "\n",
    "    # Actualiza el grupo\n",
    "    mask = grupo['movieId'].isin(peliculas_no_vistas)\n",
    "    grupo.loc[mask, ['rating', 'year_rate', 'month_rate' ,'day_rate']] = 0\n",
    "\n",
    "    return grupo"
   ]
  },
  {
   "cell_type": "code",
   "execution_count": 24,
   "metadata": {},
   "outputs": [],
   "source": [
    "df_=df_.groupby('userId').apply(poner_no_vistas)# Llamada a peliculas no vistas"
   ]
  },
  {
   "cell_type": "code",
   "execution_count": 28,
   "metadata": {},
   "outputs": [],
   "source": [
    "# Resetea el índice del DataFrame\n",
    "def reset_grupo_index(df_):\n",
    "    df_ = df_.reset_index(drop=True)\n",
    "    return df_"
   ]
  },
  {
   "cell_type": "code",
   "execution_count": 29,
   "metadata": {},
   "outputs": [],
   "source": [
    "df_=reset_grupo_index(df_)# llamada a reset index"
   ]
  },
  {
   "cell_type": "code",
   "execution_count": 40,
   "metadata": {},
   "outputs": [],
   "source": [
    "# Transformamos las variables del dataset df_\n",
    "# title, Extraemos el año de publicacion de cada pelicula en una variable nueva\n",
    "def launchYear_title_df_(df_):\n",
    "    df_ratings_copy = df_.copy()\n",
    "    # Extraemos con expresiones regulares los años del title, rellenamos los nulos con 0 y casteamos a int\n",
    "    df_ratings_copy['launch_year'] = df_ratings_copy['title'].str.extract(r'\\((\\d{4})\\)', expand=False).fillna('0').astype(int)\n",
    "    # Eliminamos el año y cualquier contenido entre paréntesis en la columna 'title'\n",
    "    df_ratings_copy['title'] = df_ratings_copy['title'].apply(lambda x: x.split(' (')[0])\n",
    "    return df_ratings_copy"
   ]
  },
  {
   "cell_type": "code",
   "execution_count": 41,
   "metadata": {},
   "outputs": [],
   "source": [
    "df_=launchYear_title_df_(df_) # Extrae año del titulo"
   ]
  },
  {
   "cell_type": "code",
   "execution_count": 42,
   "metadata": {},
   "outputs": [],
   "source": [
    "# Transformamos las variables del dataset df_\n",
    "# Convertimos userId a entero\n",
    "def int_userId_df_(df_):\n",
    "    df_ratings_copy=df_.copy()\n",
    "    # Convertir 'userId' a int\n",
    "    df_ratings_copy['userId'] = pd.to_numeric(df_ratings_copy['userId'], errors='coerce').astype('int64')\n",
    "    return df_ratings_copy"
   ]
  },
  {
   "cell_type": "code",
   "execution_count": 43,
   "metadata": {},
   "outputs": [],
   "source": [
    "df_=int_userId_df_(df_)# Convierte userId a entero"
   ]
  },
  {
   "cell_type": "code",
   "execution_count": 44,
   "metadata": {},
   "outputs": [],
   "source": [
    "# Transformamos las variables del dataset df_\n",
    "# Extraemos la longitud de cada title y lo añadimos como nueva variable\n",
    "def lenTitle_df_(df_):\n",
    "    df_ratings_copy=df_.copy()\n",
    "    #Extraemos la longitud de cada uno de los titulos\n",
    "    df_ratings_copy['len_title']=df_ratings_copy['title'].apply(lambda x: len(x))\n",
    "\n",
    "    return df_ratings_copy"
   ]
  },
  {
   "cell_type": "code",
   "execution_count": 45,
   "metadata": {},
   "outputs": [],
   "source": [
    "df_=lenTitle_df_(df_) # Extraemos longitud del titulo"
   ]
  },
  {
   "cell_type": "code",
   "execution_count": 46,
   "metadata": {},
   "outputs": [],
   "source": [
    "# Transformamos las variables del dataset df_\n",
    "# Extraemos  el genero principal de cada movieId (se considera principal al primero que aparece en genres antes del '|')\n",
    "def mainGenre_df_(df_):\n",
    "    df_ratings_copy=df_.copy()\n",
    "    # Extraemos el primer genero de la columna genres y lo almacenamos en una nueva variable\n",
    "    df_ratings_copy['main_genre']=df_ratings_copy['genres'].apply(lambda x: x.split('|')[0])\n",
    "    return df_ratings_copy"
   ]
  },
  {
   "cell_type": "code",
   "execution_count": 47,
   "metadata": {},
   "outputs": [],
   "source": [
    "df_=mainGenre_df_(df_) #Extraemos genero principal"
   ]
  },
  {
   "cell_type": "code",
   "execution_count": 48,
   "metadata": {},
   "outputs": [],
   "source": [
    "# Transformamos las variables del dataset df_\n",
    "# Extraemos el genero secundario de cada movieId (se considera secundario al segundo que aparece en genres antes del '|')\n",
    "def secundaryGenre_df_(df_):\n",
    "    df_ratings_copy=df_.copy()\n",
    "    df_ratings_copy['secondary_genre'] = df_ratings_copy['genres'].apply(lambda x: x.split('|')[1] if len(x.split('|')) >1 else 'no_secundary')\n",
    "    return df_ratings_copy"
   ]
  },
  {
   "cell_type": "code",
   "execution_count": 49,
   "metadata": {},
   "outputs": [],
   "source": [
    "df_ = secundaryGenre_df_(df_)#Extraemos genero secundario"
   ]
  },
  {
   "cell_type": "code",
   "execution_count": 50,
   "metadata": {},
   "outputs": [],
   "source": [
    "# Transformamos las variables del dataset df_\n",
    "# Extraemos el genero tercero de cada movieId (se considera secundario al tercero que aparece en genres antes del '|')\n",
    "def thirdGenre_df_(df_):\n",
    "    df_ratings_copy=df_.copy()\n",
    "    df_ratings_copy['third_genre'] = df_ratings_copy['genres'].apply(lambda x: x.split('|')[2] if len(x.split('|')) >2 else 'no_third')\n",
    "    return df_ratings_copy"
   ]
  },
  {
   "cell_type": "code",
   "execution_count": 51,
   "metadata": {},
   "outputs": [],
   "source": [
    "df_=thirdGenre_df_(df_)#Extraemos genero terciario"
   ]
  },
  {
   "cell_type": "code",
   "execution_count": 52,
   "metadata": {},
   "outputs": [],
   "source": [
    "def valoration_df(df_):\n",
    "    df_ratings_copy=df_.copy()\n",
    "    # Gestionamos el rating en funcion de sus valores y añadimos cuatro categorias: 'excellent','good','bad','unknown'\n",
    "    df_ratings_copy['valoration']=df_ratings_copy['rating'].apply(lambda x: 'excellent' if x == 5 else('good' if x >= 3 else ('unknown' if x == 0 else 'bad')))\n",
    "    return df_ratings_copy"
   ]
  },
  {
   "cell_type": "code",
   "execution_count": 53,
   "metadata": {},
   "outputs": [],
   "source": [
    "df_=valoration_df(df_)# Categorias en funcion de rating"
   ]
  },
  {
   "cell_type": "code",
   "execution_count": 54,
   "metadata": {},
   "outputs": [],
   "source": [
    "def drop_columns(df_):\n",
    "    df_ratings_copy=df_.copy()\n",
    "    df_ratings_copy.drop(['title','genres','tag'], axis=1, inplace=True)\n",
    "    return df_ratings_copy"
   ]
  },
  {
   "cell_type": "code",
   "execution_count": 55,
   "metadata": {},
   "outputs": [],
   "source": [
    "df_= drop_columns(df_)"
   ]
  },
  {
   "cell_type": "code",
   "execution_count": 56,
   "metadata": {},
   "outputs": [
    {
     "data": {
      "text/html": [
       "<div>\n",
       "<style scoped>\n",
       "    .dataframe tbody tr th:only-of-type {\n",
       "        vertical-align: middle;\n",
       "    }\n",
       "\n",
       "    .dataframe tbody tr th {\n",
       "        vertical-align: top;\n",
       "    }\n",
       "\n",
       "    .dataframe thead th {\n",
       "        text-align: right;\n",
       "    }\n",
       "</style>\n",
       "<table border=\"1\" class=\"dataframe\">\n",
       "  <thead>\n",
       "    <tr style=\"text-align: right;\">\n",
       "      <th></th>\n",
       "      <th>userId</th>\n",
       "      <th>movieId</th>\n",
       "      <th>rating</th>\n",
       "      <th>tagId</th>\n",
       "      <th>relevance</th>\n",
       "      <th>year_rate</th>\n",
       "      <th>month_rate</th>\n",
       "      <th>day_rate</th>\n",
       "      <th>launch_year</th>\n",
       "      <th>len_title</th>\n",
       "      <th>main_genre</th>\n",
       "      <th>secondary_genre</th>\n",
       "      <th>third_genre</th>\n",
       "      <th>valoration</th>\n",
       "    </tr>\n",
       "  </thead>\n",
       "  <tbody>\n",
       "    <tr>\n",
       "      <th>0</th>\n",
       "      <td>1</td>\n",
       "      <td>2</td>\n",
       "      <td>3.5</td>\n",
       "      <td>29</td>\n",
       "      <td>0.409360</td>\n",
       "      <td>2005</td>\n",
       "      <td>4</td>\n",
       "      <td>3</td>\n",
       "      <td>1995</td>\n",
       "      <td>7</td>\n",
       "      <td>Adventure</td>\n",
       "      <td>Children</td>\n",
       "      <td>Fantasy</td>\n",
       "      <td>good</td>\n",
       "    </tr>\n",
       "    <tr>\n",
       "      <th>1</th>\n",
       "      <td>1</td>\n",
       "      <td>29</td>\n",
       "      <td>3.5</td>\n",
       "      <td>287</td>\n",
       "      <td>1.159197</td>\n",
       "      <td>2005</td>\n",
       "      <td>4</td>\n",
       "      <td>3</td>\n",
       "      <td>1995</td>\n",
       "      <td>26</td>\n",
       "      <td>Adventure</td>\n",
       "      <td>Drama</td>\n",
       "      <td>Fantasy</td>\n",
       "      <td>good</td>\n",
       "    </tr>\n",
       "    <tr>\n",
       "      <th>2</th>\n",
       "      <td>1</td>\n",
       "      <td>32</td>\n",
       "      <td>3.5</td>\n",
       "      <td>1027</td>\n",
       "      <td>1.073053</td>\n",
       "      <td>2005</td>\n",
       "      <td>4</td>\n",
       "      <td>3</td>\n",
       "      <td>1995</td>\n",
       "      <td>14</td>\n",
       "      <td>Mystery</td>\n",
       "      <td>Sci-Fi</td>\n",
       "      <td>Thriller</td>\n",
       "      <td>good</td>\n",
       "    </tr>\n",
       "    <tr>\n",
       "      <th>3</th>\n",
       "      <td>1</td>\n",
       "      <td>47</td>\n",
       "      <td>3.5</td>\n",
       "      <td>300</td>\n",
       "      <td>0.579532</td>\n",
       "      <td>2005</td>\n",
       "      <td>4</td>\n",
       "      <td>3</td>\n",
       "      <td>1995</td>\n",
       "      <td>5</td>\n",
       "      <td>Mystery</td>\n",
       "      <td>Thriller</td>\n",
       "      <td>no_third</td>\n",
       "      <td>good</td>\n",
       "    </tr>\n",
       "    <tr>\n",
       "      <th>4</th>\n",
       "      <td>1</td>\n",
       "      <td>50</td>\n",
       "      <td>3.5</td>\n",
       "      <td>758</td>\n",
       "      <td>1.196798</td>\n",
       "      <td>2005</td>\n",
       "      <td>4</td>\n",
       "      <td>3</td>\n",
       "      <td>1995</td>\n",
       "      <td>19</td>\n",
       "      <td>Crime</td>\n",
       "      <td>Mystery</td>\n",
       "      <td>Thriller</td>\n",
       "      <td>good</td>\n",
       "    </tr>\n",
       "    <tr>\n",
       "      <th>...</th>\n",
       "      <td>...</td>\n",
       "      <td>...</td>\n",
       "      <td>...</td>\n",
       "      <td>...</td>\n",
       "      <td>...</td>\n",
       "      <td>...</td>\n",
       "      <td>...</td>\n",
       "      <td>...</td>\n",
       "      <td>...</td>\n",
       "      <td>...</td>\n",
       "      <td>...</td>\n",
       "      <td>...</td>\n",
       "      <td>...</td>\n",
       "      <td>...</td>\n",
       "    </tr>\n",
       "    <tr>\n",
       "      <th>15839915</th>\n",
       "      <td>138493</td>\n",
       "      <td>68319</td>\n",
       "      <td>4.5</td>\n",
       "      <td>987</td>\n",
       "      <td>1.048844</td>\n",
       "      <td>2009</td>\n",
       "      <td>12</td>\n",
       "      <td>7</td>\n",
       "      <td>2009</td>\n",
       "      <td>24</td>\n",
       "      <td>Action</td>\n",
       "      <td>Sci-Fi</td>\n",
       "      <td>Thriller</td>\n",
       "      <td>good</td>\n",
       "    </tr>\n",
       "    <tr>\n",
       "      <th>15839916</th>\n",
       "      <td>138493</td>\n",
       "      <td>69526</td>\n",
       "      <td>4.5</td>\n",
       "      <td>437</td>\n",
       "      <td>1.184218</td>\n",
       "      <td>2009</td>\n",
       "      <td>12</td>\n",
       "      <td>3</td>\n",
       "      <td>2009</td>\n",
       "      <td>35</td>\n",
       "      <td>Action</td>\n",
       "      <td>Adventure</td>\n",
       "      <td>Sci-Fi</td>\n",
       "      <td>good</td>\n",
       "    </tr>\n",
       "    <tr>\n",
       "      <th>15839917</th>\n",
       "      <td>138493</td>\n",
       "      <td>69644</td>\n",
       "      <td>3.0</td>\n",
       "      <td>64</td>\n",
       "      <td>0.569222</td>\n",
       "      <td>2009</td>\n",
       "      <td>12</td>\n",
       "      <td>7</td>\n",
       "      <td>2009</td>\n",
       "      <td>30</td>\n",
       "      <td>Action</td>\n",
       "      <td>Adventure</td>\n",
       "      <td>Animation</td>\n",
       "      <td>good</td>\n",
       "    </tr>\n",
       "    <tr>\n",
       "      <th>15839918</th>\n",
       "      <td>138493</td>\n",
       "      <td>70286</td>\n",
       "      <td>5.0</td>\n",
       "      <td>45</td>\n",
       "      <td>0.884267</td>\n",
       "      <td>2009</td>\n",
       "      <td>11</td>\n",
       "      <td>13</td>\n",
       "      <td>2009</td>\n",
       "      <td>10</td>\n",
       "      <td>Mystery</td>\n",
       "      <td>Sci-Fi</td>\n",
       "      <td>Thriller</td>\n",
       "      <td>excellent</td>\n",
       "    </tr>\n",
       "    <tr>\n",
       "      <th>15839919</th>\n",
       "      <td>138493</td>\n",
       "      <td>71619</td>\n",
       "      <td>2.5</td>\n",
       "      <td>381</td>\n",
       "      <td>0.706282</td>\n",
       "      <td>2009</td>\n",
       "      <td>10</td>\n",
       "      <td>17</td>\n",
       "      <td>2009</td>\n",
       "      <td>18</td>\n",
       "      <td>Drama</td>\n",
       "      <td>no_secundary</td>\n",
       "      <td>no_third</td>\n",
       "      <td>bad</td>\n",
       "    </tr>\n",
       "  </tbody>\n",
       "</table>\n",
       "<p>15839920 rows × 14 columns</p>\n",
       "</div>"
      ],
      "text/plain": [
       "          userId  movieId  rating  tagId  relevance  year_rate  month_rate  \\\n",
       "0              1        2     3.5     29   0.409360       2005           4   \n",
       "1              1       29     3.5    287   1.159197       2005           4   \n",
       "2              1       32     3.5   1027   1.073053       2005           4   \n",
       "3              1       47     3.5    300   0.579532       2005           4   \n",
       "4              1       50     3.5    758   1.196798       2005           4   \n",
       "...          ...      ...     ...    ...        ...        ...         ...   \n",
       "15839915  138493    68319     4.5    987   1.048844       2009          12   \n",
       "15839916  138493    69526     4.5    437   1.184218       2009          12   \n",
       "15839917  138493    69644     3.0     64   0.569222       2009          12   \n",
       "15839918  138493    70286     5.0     45   0.884267       2009          11   \n",
       "15839919  138493    71619     2.5    381   0.706282       2009          10   \n",
       "\n",
       "          day_rate  launch_year  len_title main_genre secondary_genre  \\\n",
       "0                3         1995          7  Adventure        Children   \n",
       "1                3         1995         26  Adventure           Drama   \n",
       "2                3         1995         14    Mystery          Sci-Fi   \n",
       "3                3         1995          5    Mystery        Thriller   \n",
       "4                3         1995         19      Crime         Mystery   \n",
       "...            ...          ...        ...        ...             ...   \n",
       "15839915         7         2009         24     Action          Sci-Fi   \n",
       "15839916         3         2009         35     Action       Adventure   \n",
       "15839917         7         2009         30     Action       Adventure   \n",
       "15839918        13         2009         10    Mystery          Sci-Fi   \n",
       "15839919        17         2009         18      Drama    no_secundary   \n",
       "\n",
       "         third_genre valoration  \n",
       "0            Fantasy       good  \n",
       "1            Fantasy       good  \n",
       "2           Thriller       good  \n",
       "3           no_third       good  \n",
       "4           Thriller       good  \n",
       "...              ...        ...  \n",
       "15839915    Thriller       good  \n",
       "15839916      Sci-Fi       good  \n",
       "15839917   Animation       good  \n",
       "15839918    Thriller  excellent  \n",
       "15839919    no_third        bad  \n",
       "\n",
       "[15839920 rows x 14 columns]"
      ]
     },
     "execution_count": 56,
     "metadata": {},
     "output_type": "execute_result"
    }
   ],
   "source": [
    "df_"
   ]
  },
  {
   "cell_type": "markdown",
   "metadata": {},
   "source": [
    "Dataset procesado version 1.5"
   ]
  }
 ],
 "metadata": {
  "kernelspec": {
   "display_name": "Python 3",
   "language": "python",
   "name": "python3"
  },
  "language_info": {
   "codemirror_mode": {
    "name": "ipython",
    "version": 3
   },
   "file_extension": ".py",
   "mimetype": "text/x-python",
   "name": "python",
   "nbconvert_exporter": "python",
   "pygments_lexer": "ipython3",
   "version": "3.11.7"
  }
 },
 "nbformat": 4,
 "nbformat_minor": 2
}
