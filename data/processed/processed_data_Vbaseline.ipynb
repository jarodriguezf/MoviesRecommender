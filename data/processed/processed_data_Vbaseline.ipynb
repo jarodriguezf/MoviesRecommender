{
 "cells": [
  {
   "cell_type": "code",
   "execution_count": 1,
   "metadata": {},
   "outputs": [],
   "source": [
    "import pandas as pd\n",
    "import numpy as np\n",
    "from sklearn.impute import SimpleImputer\n",
    "from datetime import datetime\n",
    "from sklearn.preprocessing import power_transform"
   ]
  },
  {
   "cell_type": "markdown",
   "metadata": {},
   "source": [
    "En este script, se realizará el procesamiento y limpieza referente al modelo de la baseline, por tanto, no implica los cambios definitivos.\n",
    "\n",
    "Cada transformacion y limpieza se ha realizado dadas las observaciones y analisis del EDA."
   ]
  },
  {
   "cell_type": "code",
   "execution_count": 4,
   "metadata": {},
   "outputs": [],
   "source": [
    "# Carga de datos\n",
    "df_ratings = pd.read_parquet('../raw/data_model/ratings_train.parquet')\n",
    "df_tags = pd.read_parquet('../raw/data_model/tags_train.parquet')"
   ]
  },
  {
   "cell_type": "code",
   "execution_count": 5,
   "metadata": {},
   "outputs": [
    {
     "name": "stdout",
     "output_type": "stream",
     "text": [
      "<class 'pandas.core.frame.DataFrame'>\n",
      "RangeIndex: 9367814 entries, 0 to 9367813\n",
      "Data columns (total 4 columns):\n",
      " #   Column     Dtype  \n",
      "---  ------     -----  \n",
      " 0   movieId    int64  \n",
      " 1   tagId      int64  \n",
      " 2   relevance  float64\n",
      " 3   tag        object \n",
      "dtypes: float64(1), int64(2), object(1)\n",
      "memory usage: 285.9+ MB\n"
     ]
    }
   ],
   "source": [
    "df_tags.info()"
   ]
  },
  {
   "cell_type": "code",
   "execution_count": 6,
   "metadata": {},
   "outputs": [
    {
     "name": "stdout",
     "output_type": "stream",
     "text": [
      "<class 'pandas.core.frame.DataFrame'>\n",
      "RangeIndex: 16000175 entries, 0 to 16000174\n",
      "Data columns (total 6 columns):\n",
      " #   Column     Dtype  \n",
      "---  ------     -----  \n",
      " 0   userId     float64\n",
      " 1   movieId    int64  \n",
      " 2   rating     float64\n",
      " 3   timestamp  float64\n",
      " 4   title      object \n",
      " 5   genres     object \n",
      "dtypes: float64(3), int64(1), object(2)\n",
      "memory usage: 732.4+ MB\n"
     ]
    }
   ],
   "source": [
    "df_ratings.info()"
   ]
  },
  {
   "cell_type": "markdown",
   "metadata": {},
   "source": [
    "Transformaciones de variables e ingenieria de caracteristicas en df_tags"
   ]
  },
  {
   "cell_type": "code",
   "execution_count": 5,
   "metadata": {},
   "outputs": [],
   "source": [
    "# Nos quedamos con el top 3 tag mas relevante por cada movieId\n",
    "df_tags = df_tags.groupby('movieId').apply(lambda x: x.nlargest(3, 'relevance')).reset_index(drop=True)"
   ]
  },
  {
   "cell_type": "code",
   "execution_count": 6,
   "metadata": {},
   "outputs": [],
   "source": [
    "# Tranformamos distribucion relevance a normal, se encuentra sesgada\n",
    "def distribution_relevance_dfTags(df_tags):\n",
    "    df_tags_copy = df_tags.copy()\n",
    "    df_tags_copy['relevance']=power_transform(df_tags_copy[['relevance']], method='box-cox')\n",
    "    return df_tags_copy"
   ]
  },
  {
   "cell_type": "code",
   "execution_count": 7,
   "metadata": {},
   "outputs": [],
   "source": [
    "df_tags=distribution_relevance_dfTags(df_tags) # Realizamos transformacion de distribucion relevance"
   ]
  },
  {
   "cell_type": "markdown",
   "metadata": {},
   "source": [
    "Fusionamos dataset rating y tags"
   ]
  },
  {
   "cell_type": "code",
   "execution_count": 8,
   "metadata": {},
   "outputs": [],
   "source": [
    "df_fullData = df_ratings.merge(df_tags, how='right', on='movieId')"
   ]
  },
  {
   "cell_type": "markdown",
   "metadata": {},
   "source": [
    "Limpieza de datos: nulos y duplicados"
   ]
  },
  {
   "cell_type": "code",
   "execution_count": 9,
   "metadata": {},
   "outputs": [
    {
     "data": {
      "text/plain": [
       "userId       36\n",
       "movieId       0\n",
       "rating       36\n",
       "timestamp    36\n",
       "title         6\n",
       "genres        6\n",
       "tagId         0\n",
       "relevance     0\n",
       "tag           0\n",
       "dtype: int64"
      ]
     },
     "execution_count": 9,
     "metadata": {},
     "output_type": "execute_result"
    }
   ],
   "source": [
    "# df_ratings, revisando nulos\n",
    "df_fullData.isna().sum()"
   ]
  },
  {
   "cell_type": "code",
   "execution_count": 10,
   "metadata": {},
   "outputs": [],
   "source": [
    "# Los valores nulos de df_ratings los modificaremos con el valor 0\n",
    "def imputer_(df_ratings):\n",
    "    df_ratings_copy = df_ratings.copy()\n",
    "    \n",
    "    # Columnas numéricas\n",
    "    columns_numeric = ['userId', 'rating', 'timestamp']\n",
    "    imp_numeric = SimpleImputer(strategy=\"constant\", fill_value=0)\n",
    "    df_ratings_copy[columns_numeric] = imp_numeric.fit_transform(df_ratings_copy[columns_numeric])\n",
    "\n",
    "    # Columnas categóricas\n",
    "    columns_categorical = ['title', 'genres']\n",
    "    imp_categorical = SimpleImputer(strategy=\"constant\", fill_value='unknown')\n",
    "    df_ratings_copy[columns_categorical] = imp_categorical.fit_transform(df_ratings_copy[columns_categorical])\n",
    "\n",
    "    return df_ratings_copy"
   ]
  },
  {
   "cell_type": "code",
   "execution_count": 11,
   "metadata": {},
   "outputs": [],
   "source": [
    "df_ratings= imputer_(df_fullData)# llamada a funcion de limpieza de nulos "
   ]
  },
  {
   "cell_type": "markdown",
   "metadata": {},
   "source": [
    "Referente a los valores nulos, hemos modificado los NaN a 0, dado que hay peliculas en el df_ratings que no han sido valoradas por ningun usuario.\n",
    "Asi tambien, he modificado los NaN de las categoricas a 'unknown'."
   ]
  },
  {
   "cell_type": "code",
   "execution_count": 19,
   "metadata": {},
   "outputs": [
    {
     "data": {
      "text/plain": [
       "userId         138494\n",
       "movieId         10381\n",
       "rating             11\n",
       "timestamp    12537612\n",
       "title           10380\n",
       "genres            931\n",
       "tagId            1019\n",
       "relevance        1614\n",
       "tag              1019\n",
       "dtype: int64"
      ]
     },
     "execution_count": 19,
     "metadata": {},
     "output_type": "execute_result"
    }
   ],
   "source": [
    "# df_ratings, revisando duplicados en titulos (no queremos el mismo titulo mas de 1 vez)\n",
    "df_ratings.nunique() # Comprobamos los valores duplicados por columnas"
   ]
  },
  {
   "cell_type": "markdown",
   "metadata": {},
   "source": [
    "El dataset se encuentran correctamente con respecto a los duplicados.\n",
    "- En title no tenemos ningun titulo igual repetido. Lo unico repetido son los valores unknown\n",
    "- En tags tenemos la misma cantidad de tag como de su id."
   ]
  },
  {
   "cell_type": "markdown",
   "metadata": {},
   "source": [
    "Transformaciones de variables e ingenieria de caracteristicas en df_ratings"
   ]
  },
  {
   "cell_type": "code",
   "execution_count": 20,
   "metadata": {},
   "outputs": [],
   "source": [
    "# Transformamos las variables del dataset df_ratings\n",
    "# Timestamp, convertimos a datetime (referente a fecha de valoracion)\n",
    "def timestamp_to_datetime_dfRatings(df_ratings):\n",
    "    df_ratings_copy = df_ratings.copy()\n",
    "    # Convertimos el timestamp a datetime, luego aplicamos el formato año/mes/dia devolviendo un string\n",
    "    df_ratings_copy['date_rating'] = df_ratings_copy['timestamp'].apply(lambda x: datetime.fromtimestamp(x).strftime('%Y-%m-%d'))\n",
    "    # Transformamos a Date el String\n",
    "    df_ratings_copy['date_rating'] = df_ratings_copy['date_rating'].apply(lambda x: datetime.strptime(x, '%Y-%m-%d'))\n",
    "    # Eliminamos variable timestamp\n",
    "    df_ratings_copy.drop('timestamp', axis=1, inplace=True)\n",
    "\n",
    "    return df_ratings_copy"
   ]
  },
  {
   "cell_type": "code",
   "execution_count": 21,
   "metadata": {},
   "outputs": [],
   "source": [
    "df_ratings=timestamp_to_datetime_dfRatings(df_ratings) # Transforma timestamp a datetime (las fechas no valoradas se veran asi:\"1970-01-01\")"
   ]
  },
  {
   "cell_type": "code",
   "execution_count": 25,
   "metadata": {},
   "outputs": [],
   "source": [
    "# Transformamos las variables del dataset df_ratings\n",
    "# date_rating, separamos año,mes y dia en variables independientes\n",
    "def date_rating_indepenDates(df_ratings):\n",
    "    df_ratings_copy = df_ratings.copy()\n",
    "    # Extraemos en variables sepadas el año, mes y dia de date_rating\n",
    "    df_ratings_copy['year_rate'] = df_ratings_copy['date_rating'].dt.year\n",
    "    df_ratings_copy['month_rate'] = df_ratings_copy['date_rating'].dt.month\n",
    "    df_ratings_copy['day_rate'] = df_ratings_copy['date_rating'].dt.day\n",
    "    # Eliminamos variable timestamp\n",
    "    df_ratings_copy.drop('date_rating', axis=1, inplace=True)\n",
    "    return df_ratings_copy"
   ]
  },
  {
   "cell_type": "code",
   "execution_count": 26,
   "metadata": {},
   "outputs": [],
   "source": [
    "df_ratings=date_rating_indepenDates(df_ratings)# Extraemos fechas independientes"
   ]
  },
  {
   "cell_type": "code",
   "execution_count": 29,
   "metadata": {},
   "outputs": [],
   "source": [
    "# Transformamos las variables del dataset df_ratings\n",
    "# title, Extraemos el año de publicacion de cada pelicula en una variable nueva\n",
    "def launchYear_title_dfRatings(df_ratings):\n",
    "    df_ratings_copy = df_ratings.copy()\n",
    "    # Extraemos con expresiones regulares los años del title, rellenamos los nulos con 0 y casteamos a int\n",
    "    df_ratings_copy['launch_year'] = df_ratings_copy['title'].str.extract(r'\\((\\d{4})\\)', expand=False).fillna('0').astype(int)\n",
    "    # Eliminamos el año y cualquier contenido entre paréntesis en la columna 'title'\n",
    "    df_ratings_copy['title'] = df_ratings_copy['title'].apply(lambda x: x.split(' (')[0])\n",
    "    return df_ratings_copy"
   ]
  },
  {
   "cell_type": "code",
   "execution_count": 30,
   "metadata": {},
   "outputs": [],
   "source": [
    "df_ratings=launchYear_title_dfRatings(df_ratings) # Extrae año del titulo"
   ]
  },
  {
   "cell_type": "code",
   "execution_count": 31,
   "metadata": {},
   "outputs": [],
   "source": [
    "# Transformamos las variables del dataset df_ratings\n",
    "# Convertimos userId a entero\n",
    "def int_userId_dfRatings(df_ratings):\n",
    "    df_ratings_copy=df_ratings.copy()\n",
    "    # Convertir 'userId' a int\n",
    "    df_ratings_copy['userId'] = pd.to_numeric(df_ratings_copy['userId'], errors='coerce').astype('int64')\n",
    "    return df_ratings_copy"
   ]
  },
  {
   "cell_type": "code",
   "execution_count": 32,
   "metadata": {},
   "outputs": [],
   "source": [
    "df_ratings=int_userId_dfRatings(df_ratings)# Convierte userId a entero"
   ]
  },
  {
   "cell_type": "code",
   "execution_count": 33,
   "metadata": {},
   "outputs": [],
   "source": [
    "# Transformamos las variables del dataset df_ratings\n",
    "# Extraemos la longitud de cada title y lo añadimos como nueva variable\n",
    "def lenTitle_dfRatings(df_ratings):\n",
    "    df_ratings_copy=df_ratings.copy()\n",
    "    #Extraemos la longitud de cada uno de los titulos\n",
    "    df_ratings_copy['len_title']=df_ratings_copy['title'].apply(lambda x: len(x))\n",
    "\n",
    "    return df_ratings_copy"
   ]
  },
  {
   "cell_type": "code",
   "execution_count": 34,
   "metadata": {},
   "outputs": [],
   "source": [
    "df_ratings=lenTitle_dfRatings(df_ratings) # Extraemos longitud del titulo"
   ]
  },
  {
   "cell_type": "code",
   "execution_count": 35,
   "metadata": {},
   "outputs": [],
   "source": [
    "# Transformamos las variables del dataset df_ratings\n",
    "# Extraemos  el genero principal de cada movieId (se considera principal al primero que aparece en genres antes del '|')\n",
    "def mainGenre_dfRatings(df_ratings):\n",
    "    df_ratings_copy=df_ratings.copy()\n",
    "    # Extraemos el primer genero de la columna genres y lo almacenamos en una nueva variable\n",
    "    df_ratings_copy['main_genre']=df_ratings_copy['genres'].apply(lambda x: x.split('|')[0])\n",
    "    return df_ratings_copy\n"
   ]
  },
  {
   "cell_type": "code",
   "execution_count": 36,
   "metadata": {},
   "outputs": [],
   "source": [
    "df_ratings=mainGenre_dfRatings(df_ratings) #Extraemos genero principal"
   ]
  },
  {
   "cell_type": "code",
   "execution_count": 40,
   "metadata": {},
   "outputs": [],
   "source": [
    "# Guardamos cambios de datos procesados (esto nos permite un mayor control ante nuevos cambios)\n",
    "df_ratings.to_parquet('../raw/data_model/dataset_process_trainV0.1.parquet', index=False)"
   ]
  }
 ],
 "metadata": {
  "kernelspec": {
   "display_name": "Python 3",
   "language": "python",
   "name": "python3"
  },
  "language_info": {
   "codemirror_mode": {
    "name": "ipython",
    "version": 3
   },
   "file_extension": ".py",
   "mimetype": "text/x-python",
   "name": "python",
   "nbconvert_exporter": "python",
   "pygments_lexer": "ipython3",
   "version": "3.11.7"
  }
 },
 "nbformat": 4,
 "nbformat_minor": 2
}
