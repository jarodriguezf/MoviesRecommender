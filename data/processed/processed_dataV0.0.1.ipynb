{
 "cells": [
  {
   "cell_type": "code",
   "execution_count": 1,
   "metadata": {},
   "outputs": [],
   "source": [
    "import pandas as pd\n",
    "import numpy as np\n",
    "from sklearn.model_selection import train_test_split"
   ]
  },
  {
   "cell_type": "markdown",
   "metadata": {},
   "source": [
    "Procederemos a cargar y guardar los dataset que necesitamos para procesar y modelar el sistema de recomendacion."
   ]
  },
  {
   "cell_type": "markdown",
   "metadata": {},
   "source": [
    "Cargamos los conjuntos de datos y mergeamos"
   ]
  },
  {
   "cell_type": "code",
   "execution_count": 2,
   "metadata": {},
   "outputs": [],
   "source": [
    "df_tagScores = pd.read_csv('../raw/ml-20m/genome-scores.csv')\n",
    "df_movies = pd.read_csv('../raw/ml-20m/movies_processedV0.1.csv')\n",
    "df_ratings = pd.read_csv('../raw/ml-20m/ratings.csv')\n",
    "df_tags = pd.read_csv('../raw/ml-20m/genome-tags.csv')"
   ]
  },
  {
   "cell_type": "code",
   "execution_count": 3,
   "metadata": {},
   "outputs": [],
   "source": [
    "# Merge de los datasets df_movies/df_ratings\n",
    "df_tags_scores = df_tagScores.merge(df_tags, how='right', on='tagId')"
   ]
  },
  {
   "cell_type": "code",
   "execution_count": 4,
   "metadata": {},
   "outputs": [
    {
     "data": {
      "text/plain": [
       "(11709768, 4)"
      ]
     },
     "execution_count": 4,
     "metadata": {},
     "output_type": "execute_result"
    }
   ],
   "source": [
    "df_tags_scores.shape"
   ]
  },
  {
   "cell_type": "code",
   "execution_count": 5,
   "metadata": {},
   "outputs": [],
   "source": [
    "# Merge de los datasets df_movies/df_ratings\n",
    "df_movies_ratings = df_ratings.merge(df_movies, how='right', on='movieId')"
   ]
  },
  {
   "cell_type": "code",
   "execution_count": 6,
   "metadata": {},
   "outputs": [
    {
     "data": {
      "text/plain": [
       "(20000797, 6)"
      ]
     },
     "execution_count": 6,
     "metadata": {},
     "output_type": "execute_result"
    }
   ],
   "source": [
    "df_movies_ratings.shape"
   ]
  },
  {
   "cell_type": "code",
   "execution_count": null,
   "metadata": {},
   "outputs": [],
   "source": [
    "# Guardamos los csv\n",
    "df_tags_scores.to_parquet('../raw/ml-20m/df_scores_tags.parquet', index=False)\n",
    "df_movies_ratings.to_parquet('../raw/ml-20m/df_movies_ratings.parquet', index=False)"
   ]
  },
  {
   "cell_type": "markdown",
   "metadata": {},
   "source": [
    "Descripcion de los dos dataset:\n",
    "\n",
    "- df_movies_ratings: Contiene informacion especifica de pelicula y usuario.\n",
    "- df_scores_tags: Contiene informacion relevante de pelicula, como las etiquetas (palabras claves) de cada pelicula.\n",
    "\n",
    "Debido a la gran cantidad de datos, no es posible en mi caso fusionar ambos dataset (seria lo mejor), por tanto, trabajare con los dos de forma simultanea. Posteriormente, los fusionare solo con los 3 tipos de tag mas relevantes."
   ]
  },
  {
   "cell_type": "code",
   "execution_count": 3,
   "metadata": {},
   "outputs": [],
   "source": [
    "df_ratings = pd.read_parquet('../raw/ml-20m/df_movies_ratings.parquet')\n",
    "df_tags = pd.read_parquet('../raw/ml-20m/df_scores_tags.parquet')"
   ]
  },
  {
   "cell_type": "code",
   "execution_count": 9,
   "metadata": {},
   "outputs": [],
   "source": [
    "# Separamos los dataset en prueba y entrenamiento (almacenandolos para su posterior uso)\n",
    "ratings_train, ratings_test = train_test_split(df_ratings, test_size=0.2, random_state=42)\n",
    "tags_train, tags_test = train_test_split(df_tags, test_size=0.2, random_state=42)"
   ]
  },
  {
   "cell_type": "code",
   "execution_count": 15,
   "metadata": {},
   "outputs": [],
   "source": [
    "# Guardamos los datos\n",
    "ratings_train.to_parquet('../raw/data_model/ratings_train.parquet', index=False)\n",
    "ratings_test.to_parquet('../raw/data_model/ratings_test.parquet', index=False)\n",
    "tags_train.to_parquet('../raw/data_model/tags_train.parquet', index=False)\n",
    "tags_test.to_parquet('../raw/data_model/tags_test.parquet', index=False)"
   ]
  }
 ],
 "metadata": {
  "kernelspec": {
   "display_name": "Python 3",
   "language": "python",
   "name": "python3"
  },
  "language_info": {
   "codemirror_mode": {
    "name": "ipython",
    "version": 3
   },
   "file_extension": ".py",
   "mimetype": "text/x-python",
   "name": "python",
   "nbconvert_exporter": "python",
   "pygments_lexer": "ipython3",
   "version": "3.11.7"
  }
 },
 "nbformat": 4,
 "nbformat_minor": 2
}
