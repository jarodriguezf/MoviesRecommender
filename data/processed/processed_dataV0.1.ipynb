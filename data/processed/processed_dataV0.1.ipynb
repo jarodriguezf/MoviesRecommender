{
 "cells": [
  {
   "cell_type": "code",
   "execution_count": 13,
   "metadata": {},
   "outputs": [],
   "source": [
    "import pandas as pd\n",
    "import numpy as np\n",
    "from sklearn.impute import SimpleImputer\n",
    "from datetime import datetime\n",
    "from sklearn.preprocessing import power_transform"
   ]
  },
  {
   "cell_type": "markdown",
   "metadata": {},
   "source": [
    "Trabajaremos con los dos dataset a la par, limpiandolos y procesandolos.\n",
    "\n",
    "Cada transformacion y limpieza se ha realizado dadas las observaciones y analisis del EDA."
   ]
  },
  {
   "cell_type": "code",
   "execution_count": 2,
   "metadata": {},
   "outputs": [],
   "source": [
    "# Carga de datos\n",
    "df_ratings = pd.read_parquet('../raw/data_model/ratings_train.parquet')\n",
    "df_tags = pd.read_parquet('../raw/data_model/tags_train.parquet')"
   ]
  },
  {
   "cell_type": "code",
   "execution_count": 3,
   "metadata": {},
   "outputs": [
    {
     "name": "stdout",
     "output_type": "stream",
     "text": [
      "<class 'pandas.core.frame.DataFrame'>\n",
      "RangeIndex: 16000175 entries, 0 to 16000174\n",
      "Data columns (total 6 columns):\n",
      " #   Column     Dtype  \n",
      "---  ------     -----  \n",
      " 0   userId     float64\n",
      " 1   movieId    int64  \n",
      " 2   rating     float64\n",
      " 3   timestamp  float64\n",
      " 4   title      object \n",
      " 5   genres     object \n",
      "dtypes: float64(3), int64(1), object(2)\n",
      "memory usage: 732.4+ MB\n"
     ]
    }
   ],
   "source": [
    "df_ratings.info()"
   ]
  },
  {
   "cell_type": "code",
   "execution_count": 3,
   "metadata": {},
   "outputs": [
    {
     "name": "stdout",
     "output_type": "stream",
     "text": [
      "<class 'pandas.core.frame.DataFrame'>\n",
      "RangeIndex: 9367814 entries, 0 to 9367813\n",
      "Data columns (total 4 columns):\n",
      " #   Column     Dtype  \n",
      "---  ------     -----  \n",
      " 0   movieId    int64  \n",
      " 1   tagId      int64  \n",
      " 2   relevance  float64\n",
      " 3   tag        object \n",
      "dtypes: float64(1), int64(2), object(1)\n",
      "memory usage: 285.9+ MB\n"
     ]
    }
   ],
   "source": [
    "df_tags.info()"
   ]
  },
  {
   "cell_type": "markdown",
   "metadata": {},
   "source": [
    "Limpieza de datos: nulos y duplicados"
   ]
  },
  {
   "cell_type": "code",
   "execution_count": 5,
   "metadata": {},
   "outputs": [
    {
     "data": {
      "text/plain": [
       "userId       415\n",
       "movieId        0\n",
       "rating       415\n",
       "timestamp    415\n",
       "title          0\n",
       "genres         0\n",
       "dtype: int64"
      ]
     },
     "execution_count": 5,
     "metadata": {},
     "output_type": "execute_result"
    }
   ],
   "source": [
    "# df_ratings, revisando nulos\n",
    "df_ratings.isna().sum()"
   ]
  },
  {
   "cell_type": "code",
   "execution_count": 4,
   "metadata": {},
   "outputs": [],
   "source": [
    "# Los valores nulos de df_ratings los modificaremos con el valor 0\n",
    "def imputer_dfRatings (df_ratings):\n",
    "\n",
    "    df_ratings_copy = df_ratings.copy()\n",
    "    # Instancia del imputer\n",
    "    imp_0 = SimpleImputer(strategy=\"constant\", fill_value=0)\n",
    "    df_ratings_copy = imp_0.fit_transform(df_ratings_copy)\n",
    "\n",
    "    #Convertir a dataframe nuevamente\n",
    "    df_ratings_copy = pd.DataFrame(df_ratings_copy, columns=imp_0.get_feature_names_out())\n",
    "    return df_ratings_copy"
   ]
  },
  {
   "cell_type": "code",
   "execution_count": 5,
   "metadata": {},
   "outputs": [],
   "source": [
    "df_ratings= imputer_dfRatings(df_ratings)# llamada a funcion de limpieza de nulos "
   ]
  },
  {
   "cell_type": "code",
   "execution_count": 6,
   "metadata": {},
   "outputs": [
    {
     "data": {
      "text/plain": [
       "movieId      0\n",
       "tagId        0\n",
       "relevance    0\n",
       "tag          0\n",
       "dtype: int64"
      ]
     },
     "execution_count": 6,
     "metadata": {},
     "output_type": "execute_result"
    }
   ],
   "source": [
    "# df_tags, revisando nulos\n",
    "df_tags.isna().sum()"
   ]
  },
  {
   "cell_type": "markdown",
   "metadata": {},
   "source": [
    "Referente a los valores nulos, hemos modificado los NaN a 0, dado que hay peliculas en el df_ratings que no han sido valoradas por ningun usuario.\n",
    "\n",
    "415 peliculas no han sido vistas ni valoradas"
   ]
  },
  {
   "cell_type": "code",
   "execution_count": 9,
   "metadata": {},
   "outputs": [
    {
     "data": {
      "text/html": [
       "<div>\n",
       "<style scoped>\n",
       "    .dataframe tbody tr th:only-of-type {\n",
       "        vertical-align: middle;\n",
       "    }\n",
       "\n",
       "    .dataframe tbody tr th {\n",
       "        vertical-align: top;\n",
       "    }\n",
       "\n",
       "    .dataframe thead th {\n",
       "        text-align: right;\n",
       "    }\n",
       "</style>\n",
       "<table border=\"1\" class=\"dataframe\">\n",
       "  <thead>\n",
       "    <tr style=\"text-align: right;\">\n",
       "      <th></th>\n",
       "      <th>userId</th>\n",
       "      <th>movieId</th>\n",
       "      <th>rating</th>\n",
       "      <th>timestamp</th>\n",
       "      <th>title</th>\n",
       "      <th>genres</th>\n",
       "    </tr>\n",
       "  </thead>\n",
       "  <tbody>\n",
       "    <tr>\n",
       "      <th>20615</th>\n",
       "      <td>0</td>\n",
       "      <td>113949</td>\n",
       "      <td>0</td>\n",
       "      <td>0</td>\n",
       "      <td>Aaron Loves Angela (1975)</td>\n",
       "      <td>Comedy|Drama|Romance|Thriller</td>\n",
       "    </tr>\n",
       "    <tr>\n",
       "      <th>80864</th>\n",
       "      <td>0</td>\n",
       "      <td>117610</td>\n",
       "      <td>0</td>\n",
       "      <td>0</td>\n",
       "      <td>Doctor at Large (1957)</td>\n",
       "      <td>Comedy|Romance</td>\n",
       "    </tr>\n",
       "    <tr>\n",
       "      <th>91125</th>\n",
       "      <td>0</td>\n",
       "      <td>127851</td>\n",
       "      <td>0</td>\n",
       "      <td>0</td>\n",
       "      <td>Incredible Rocky Mountain Race (1977)</td>\n",
       "      <td>Drama</td>\n",
       "    </tr>\n",
       "    <tr>\n",
       "      <th>118641</th>\n",
       "      <td>0</td>\n",
       "      <td>117178</td>\n",
       "      <td>0</td>\n",
       "      <td>0</td>\n",
       "      <td>Amira &amp; Sam (2014)</td>\n",
       "      <td>Comedy|Drama|Romance</td>\n",
       "    </tr>\n",
       "    <tr>\n",
       "      <th>127055</th>\n",
       "      <td>0</td>\n",
       "      <td>121055</td>\n",
       "      <td>0</td>\n",
       "      <td>0</td>\n",
       "      <td>Harvest (1937)</td>\n",
       "      <td>Drama</td>\n",
       "    </tr>\n",
       "    <tr>\n",
       "      <th>...</th>\n",
       "      <td>...</td>\n",
       "      <td>...</td>\n",
       "      <td>...</td>\n",
       "      <td>...</td>\n",
       "      <td>...</td>\n",
       "      <td>...</td>\n",
       "    </tr>\n",
       "    <tr>\n",
       "      <th>15881848</th>\n",
       "      <td>0</td>\n",
       "      <td>118183</td>\n",
       "      <td>0</td>\n",
       "      <td>0</td>\n",
       "      <td>Dying Room Only (1973)</td>\n",
       "      <td>Horror|Mystery|Thriller</td>\n",
       "    </tr>\n",
       "    <tr>\n",
       "      <th>15903193</th>\n",
       "      <td>0</td>\n",
       "      <td>105796</td>\n",
       "      <td>0</td>\n",
       "      <td>0</td>\n",
       "      <td>Back in the Saddle (Back in the Saddle Again) ...</td>\n",
       "      <td>Action|Drama|Western</td>\n",
       "    </tr>\n",
       "    <tr>\n",
       "      <th>15931978</th>\n",
       "      <td>0</td>\n",
       "      <td>121875</td>\n",
       "      <td>0</td>\n",
       "      <td>0</td>\n",
       "      <td>Submarine (1928)</td>\n",
       "      <td>Action|Drama</td>\n",
       "    </tr>\n",
       "    <tr>\n",
       "      <th>15955176</th>\n",
       "      <td>0</td>\n",
       "      <td>115376</td>\n",
       "      <td>0</td>\n",
       "      <td>0</td>\n",
       "      <td>Black Sleep, The (1956)</td>\n",
       "      <td>Horror|Sci-Fi</td>\n",
       "    </tr>\n",
       "    <tr>\n",
       "      <th>15968713</th>\n",
       "      <td>0</td>\n",
       "      <td>115756</td>\n",
       "      <td>0</td>\n",
       "      <td>0</td>\n",
       "      <td>Cube of Sugar, A (Ye Habe Ghand) (2011)</td>\n",
       "      <td>Comedy|Drama</td>\n",
       "    </tr>\n",
       "  </tbody>\n",
       "</table>\n",
       "<p>415 rows × 6 columns</p>\n",
       "</div>"
      ],
      "text/plain": [
       "         userId movieId rating timestamp  \\\n",
       "20615         0  113949      0         0   \n",
       "80864         0  117610      0         0   \n",
       "91125         0  127851      0         0   \n",
       "118641        0  117178      0         0   \n",
       "127055        0  121055      0         0   \n",
       "...         ...     ...    ...       ...   \n",
       "15881848      0  118183      0         0   \n",
       "15903193      0  105796      0         0   \n",
       "15931978      0  121875      0         0   \n",
       "15955176      0  115376      0         0   \n",
       "15968713      0  115756      0         0   \n",
       "\n",
       "                                                      title  \\\n",
       "20615                             Aaron Loves Angela (1975)   \n",
       "80864                                Doctor at Large (1957)   \n",
       "91125                 Incredible Rocky Mountain Race (1977)   \n",
       "118641                                   Amira & Sam (2014)   \n",
       "127055                                       Harvest (1937)   \n",
       "...                                                     ...   \n",
       "15881848                             Dying Room Only (1973)   \n",
       "15903193  Back in the Saddle (Back in the Saddle Again) ...   \n",
       "15931978                                   Submarine (1928)   \n",
       "15955176                            Black Sleep, The (1956)   \n",
       "15968713            Cube of Sugar, A (Ye Habe Ghand) (2011)   \n",
       "\n",
       "                                 genres  \n",
       "20615     Comedy|Drama|Romance|Thriller  \n",
       "80864                    Comedy|Romance  \n",
       "91125                             Drama  \n",
       "118641             Comedy|Drama|Romance  \n",
       "127055                            Drama  \n",
       "...                                 ...  \n",
       "15881848        Horror|Mystery|Thriller  \n",
       "15903193           Action|Drama|Western  \n",
       "15931978                   Action|Drama  \n",
       "15955176                  Horror|Sci-Fi  \n",
       "15968713                   Comedy|Drama  \n",
       "\n",
       "[415 rows x 6 columns]"
      ]
     },
     "execution_count": 9,
     "metadata": {},
     "output_type": "execute_result"
    }
   ],
   "source": [
    "df_ratings[df_ratings['userId']==0]"
   ]
  },
  {
   "cell_type": "code",
   "execution_count": 10,
   "metadata": {},
   "outputs": [
    {
     "data": {
      "text/plain": [
       "userId         138494\n",
       "movieId         26255\n",
       "rating             11\n",
       "timestamp    12685451\n",
       "title           26255\n",
       "genres           1328\n",
       "dtype: int64"
      ]
     },
     "execution_count": 10,
     "metadata": {},
     "output_type": "execute_result"
    }
   ],
   "source": [
    "# df_ratings, revisando duplicados en titulos (no queremos el mismo titulo mas de 1 vez)\n",
    "df_ratings.nunique() # Comprobamos los valores duplicados por columnas"
   ]
  },
  {
   "cell_type": "code",
   "execution_count": 11,
   "metadata": {},
   "outputs": [
    {
     "data": {
      "text/plain": [
       "movieId      10381\n",
       "tagId         1128\n",
       "relevance     4000\n",
       "tag           1128\n",
       "dtype: int64"
      ]
     },
     "execution_count": 11,
     "metadata": {},
     "output_type": "execute_result"
    }
   ],
   "source": [
    "df_tags.nunique() # Comprobamos duplicados en tags, en este caso no es necesario hacer nada"
   ]
  },
  {
   "cell_type": "markdown",
   "metadata": {},
   "source": [
    "Los dataset se encuentran correctamente con respecto a los duplicados.\n",
    "- En df_ratings no tenemos ningun titulo igual repetido.\n",
    "- En df_tags tenemos la misma cantidad de tag como de su id."
   ]
  },
  {
   "cell_type": "markdown",
   "metadata": {},
   "source": [
    "Transformaciones de variables e ingenieria de caracteristicas en df_ratings"
   ]
  },
  {
   "cell_type": "code",
   "execution_count": 9,
   "metadata": {},
   "outputs": [],
   "source": [
    "# Transformamos las variables del dataset df_ratings\n",
    "# Timestamp, convertimos a datetime (referente a fecha de valoracion)\n",
    "def timestamp_to_datetime_dfRatings(df_ratings):\n",
    "    df_ratings_copy = df_ratings.copy()\n",
    "    # Convertimos el timestamp a datetime, luego aplicamos el formato año/mes/dia devolviendo un string\n",
    "    df_ratings_copy['date_rating'] = df_ratings_copy['timestamp'].apply(lambda x: datetime.fromtimestamp(x).strftime('%Y-%m-%d'))\n",
    "    # Transformamos a Date el String\n",
    "    df_ratings_copy['date_rating'] = df_ratings_copy['date_rating'].apply(lambda x: datetime.strptime(x, '%Y-%m-%d'))\n",
    "    # Eliminamos variable timestamp\n",
    "    df_ratings_copy.drop('timestamp', axis=1, inplace=True)\n",
    "\n",
    "    return df_ratings_copy"
   ]
  },
  {
   "cell_type": "code",
   "execution_count": 10,
   "metadata": {},
   "outputs": [],
   "source": [
    "df_ratings=timestamp_to_datetime_dfRatings(df_ratings) # Transforma timestamp a datetime (las fechas no valoradas se veran asi:\"1970-01-01\")"
   ]
  },
  {
   "cell_type": "code",
   "execution_count": 15,
   "metadata": {},
   "outputs": [],
   "source": [
    "# Transformamos las variables del dataset df_ratings\n",
    "# title, Extraemos el año de publicacion de cada pelicula en una variable nueva\n",
    "def launchYear_title_dfRatings(df_ratings):\n",
    "    df_ratings_copy = df_ratings.copy()\n",
    "    # Extraemos con expresiones regulares los años del title, rellenamos los nulos con 0 y casteamos a int\n",
    "    df_ratings_copy['launch_year'] = df_ratings_copy['title'].str.extract(r'\\((\\d{4})\\)', expand=False).fillna('0').astype(int)\n",
    "    # Eliminamos el año y cualquier contenido entre paréntesis en la columna 'title'\n",
    "    df_ratings_copy['title'] = df_ratings_copy['title'].apply(lambda x: x.split(' (')[0])\n",
    "    return df_ratings_copy"
   ]
  },
  {
   "cell_type": "code",
   "execution_count": 16,
   "metadata": {},
   "outputs": [],
   "source": [
    "df_ratings=launchYear_title_dfRatings(df_ratings) # Extrae año del titulo"
   ]
  },
  {
   "cell_type": "code",
   "execution_count": 19,
   "metadata": {},
   "outputs": [],
   "source": [
    "# Transformamos las variables del dataset df_ratings\n",
    "# Convertimos userId a entero\n",
    "def int_userId_dfRatings(df_ratings):\n",
    "    df_ratings_copy=df_ratings.copy()\n",
    "    # Convertir 'userId' a int\n",
    "    df_ratings_copy['userId'] = pd.to_numeric(df_ratings_copy['userId'], errors='coerce').astype('int64')\n",
    "    return df_ratings_copy"
   ]
  },
  {
   "cell_type": "code",
   "execution_count": 20,
   "metadata": {},
   "outputs": [],
   "source": [
    "df_ratings=int_userId_dfRatings(df_ratings)# Convierte userId a entero"
   ]
  },
  {
   "cell_type": "code",
   "execution_count": 27,
   "metadata": {},
   "outputs": [],
   "source": [
    "# Transformamos las variables del dataset df_ratings\n",
    "# Extraemos la longitud de cada title y lo añadimos como nueva variable\n",
    "def lenTitle_dfRatings(df_ratings):\n",
    "    df_ratings_copy=df_ratings.copy()\n",
    "    #Extraemos la longitud de cada uno de los titulos\n",
    "    df_ratings_copy['len_title']=df_ratings_copy['title'].apply(lambda x: len(x))\n",
    "\n",
    "    return df_ratings_copy"
   ]
  },
  {
   "cell_type": "code",
   "execution_count": 28,
   "metadata": {},
   "outputs": [],
   "source": [
    "df_ratings=lenTitle_dfRatings(df_ratings) # Extraemos longitud del titulo"
   ]
  },
  {
   "cell_type": "code",
   "execution_count": 32,
   "metadata": {},
   "outputs": [],
   "source": [
    "# Transformamos las variables del dataset df_ratings\n",
    "# Extraemos  el genero principal de cada movieId (se considera principal al primero que aparece en genres antes del '|')\n",
    "def mainGenre_dfRatings(df_ratings):\n",
    "    df_ratings_copy=df_ratings.copy()\n",
    "    # Extraemos el primer genero de la columna genres y lo almacenamos en una nueva variable\n",
    "    df_ratings_copy['main_genre']=df_ratings_copy['genres'].apply(lambda x: x.split('|')[0])\n",
    "    return df_ratings_copy\n"
   ]
  },
  {
   "cell_type": "code",
   "execution_count": 33,
   "metadata": {},
   "outputs": [],
   "source": [
    "df_ratings=mainGenre_dfRatings(df_ratings) #Extraemos genero principal"
   ]
  },
  {
   "cell_type": "code",
   "execution_count": 38,
   "metadata": {},
   "outputs": [],
   "source": [
    "# Guardamos cambios de datos procesados (esto nos permite un mayor control ante nuevos cambios)\n",
    "df_ratings.to_parquet('../raw/data_model/ratings_train_processV0.1.parquet', index=False)"
   ]
  },
  {
   "cell_type": "markdown",
   "metadata": {},
   "source": [
    "Transformaciones de variables e ingenieria de caracteristicas en df_tags"
   ]
  },
  {
   "cell_type": "code",
   "execution_count": 4,
   "metadata": {},
   "outputs": [
    {
     "data": {
      "text/html": [
       "<div>\n",
       "<style scoped>\n",
       "    .dataframe tbody tr th:only-of-type {\n",
       "        vertical-align: middle;\n",
       "    }\n",
       "\n",
       "    .dataframe tbody tr th {\n",
       "        vertical-align: top;\n",
       "    }\n",
       "\n",
       "    .dataframe thead th {\n",
       "        text-align: right;\n",
       "    }\n",
       "</style>\n",
       "<table border=\"1\" class=\"dataframe\">\n",
       "  <thead>\n",
       "    <tr style=\"text-align: right;\">\n",
       "      <th></th>\n",
       "      <th>movieId</th>\n",
       "      <th>tagId</th>\n",
       "      <th>relevance</th>\n",
       "      <th>tag</th>\n",
       "    </tr>\n",
       "  </thead>\n",
       "  <tbody>\n",
       "    <tr>\n",
       "      <th>0</th>\n",
       "      <td>2961</td>\n",
       "      <td>1024</td>\n",
       "      <td>0.27850</td>\n",
       "      <td>thought-provoking</td>\n",
       "    </tr>\n",
       "    <tr>\n",
       "      <th>1</th>\n",
       "      <td>91371</td>\n",
       "      <td>1031</td>\n",
       "      <td>0.01175</td>\n",
       "      <td>tom clancy</td>\n",
       "    </tr>\n",
       "    <tr>\n",
       "      <th>2</th>\n",
       "      <td>992</td>\n",
       "      <td>380</td>\n",
       "      <td>0.02700</td>\n",
       "      <td>fascism</td>\n",
       "    </tr>\n",
       "    <tr>\n",
       "      <th>3</th>\n",
       "      <td>545</td>\n",
       "      <td>164</td>\n",
       "      <td>0.04000</td>\n",
       "      <td>british</td>\n",
       "    </tr>\n",
       "    <tr>\n",
       "      <th>4</th>\n",
       "      <td>1845</td>\n",
       "      <td>411</td>\n",
       "      <td>0.05750</td>\n",
       "      <td>french</td>\n",
       "    </tr>\n",
       "    <tr>\n",
       "      <th>...</th>\n",
       "      <td>...</td>\n",
       "      <td>...</td>\n",
       "      <td>...</td>\n",
       "      <td>...</td>\n",
       "    </tr>\n",
       "    <tr>\n",
       "      <th>9367809</th>\n",
       "      <td>2904</td>\n",
       "      <td>216</td>\n",
       "      <td>0.08225</td>\n",
       "      <td>classic car</td>\n",
       "    </tr>\n",
       "    <tr>\n",
       "      <th>9367810</th>\n",
       "      <td>25769</td>\n",
       "      <td>415</td>\n",
       "      <td>0.39150</td>\n",
       "      <td>fun movie</td>\n",
       "    </tr>\n",
       "    <tr>\n",
       "      <th>9367811</th>\n",
       "      <td>1594</td>\n",
       "      <td>972</td>\n",
       "      <td>0.40350</td>\n",
       "      <td>storytelling</td>\n",
       "    </tr>\n",
       "    <tr>\n",
       "      <th>9367812</th>\n",
       "      <td>238</td>\n",
       "      <td>632</td>\n",
       "      <td>0.01025</td>\n",
       "      <td>marvel</td>\n",
       "    </tr>\n",
       "    <tr>\n",
       "      <th>9367813</th>\n",
       "      <td>49347</td>\n",
       "      <td>619</td>\n",
       "      <td>0.08675</td>\n",
       "      <td>macabre</td>\n",
       "    </tr>\n",
       "  </tbody>\n",
       "</table>\n",
       "<p>9367814 rows × 4 columns</p>\n",
       "</div>"
      ],
      "text/plain": [
       "         movieId  tagId  relevance                tag\n",
       "0           2961   1024    0.27850  thought-provoking\n",
       "1          91371   1031    0.01175         tom clancy\n",
       "2            992    380    0.02700            fascism\n",
       "3            545    164    0.04000            british\n",
       "4           1845    411    0.05750             french\n",
       "...          ...    ...        ...                ...\n",
       "9367809     2904    216    0.08225        classic car\n",
       "9367810    25769    415    0.39150          fun movie\n",
       "9367811     1594    972    0.40350       storytelling\n",
       "9367812      238    632    0.01025             marvel\n",
       "9367813    49347    619    0.08675            macabre\n",
       "\n",
       "[9367814 rows x 4 columns]"
      ]
     },
     "execution_count": 4,
     "metadata": {},
     "output_type": "execute_result"
    }
   ],
   "source": [
    "df_tags"
   ]
  },
  {
   "cell_type": "code",
   "execution_count": 10,
   "metadata": {},
   "outputs": [],
   "source": [
    "# Tranformamos distribucion relevance a normal, se encuentra sesgada\n",
    "def distribution_relevance_dfTags(df_tags):\n",
    "    df_tags_copy = df_tags.copy()\n",
    "    df_tags_copy['relevance']=power_transform(df_tags_copy[['relevance']], method='box-cox')\n",
    "    return df_tags_copy"
   ]
  },
  {
   "cell_type": "code",
   "execution_count": 11,
   "metadata": {},
   "outputs": [],
   "source": [
    "df_tags=distribution_relevance_dfTags(df_tags) # Realizamos transformacion de distribucion relevance"
   ]
  },
  {
   "cell_type": "code",
   "execution_count": 16,
   "metadata": {},
   "outputs": [],
   "source": [
    "# Guardamos cambios de datos procesados (esto nos permite un mayor control ante nuevos cambios)\n",
    "df_tags.to_parquet('../raw/data_model/tags_train_processV0.1.parquet', index=False)"
   ]
  }
 ],
 "metadata": {
  "kernelspec": {
   "display_name": "Python 3",
   "language": "python",
   "name": "python3"
  },
  "language_info": {
   "codemirror_mode": {
    "name": "ipython",
    "version": 3
   },
   "file_extension": ".py",
   "mimetype": "text/x-python",
   "name": "python",
   "nbconvert_exporter": "python",
   "pygments_lexer": "ipython3",
   "version": "3.11.7"
  }
 },
 "nbformat": 4,
 "nbformat_minor": 2
}
