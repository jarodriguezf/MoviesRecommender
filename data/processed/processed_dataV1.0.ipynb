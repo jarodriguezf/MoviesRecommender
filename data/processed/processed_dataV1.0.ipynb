{
 "cells": [
  {
   "cell_type": "code",
   "execution_count": 1,
   "metadata": {},
   "outputs": [],
   "source": [
    "import pandas as pd\n",
    "import numpy as np\n",
    "from sklearn.impute import SimpleImputer\n",
    "from datetime import datetime\n",
    "from sklearn.preprocessing import power_transform"
   ]
  },
  {
   "cell_type": "markdown",
   "metadata": {},
   "source": [
    "En este script, procedere a limpiar y procesar los datos. Estas tranformaciones forman parte del modelado oficial del proyecto.\n",
    "\n",
    "Cada observacion dada en estas transformaciones se han visto analizadas previamente en los archivos del EDA.\n",
    "\n",
    "- Estamos ante la primera version del modelo de recomendacion."
   ]
  },
  {
   "cell_type": "code",
   "execution_count": 2,
   "metadata": {},
   "outputs": [],
   "source": [
    "# Carga de datos\n",
    "df_ratings = pd.read_parquet('../raw/data_model/ratings_train.parquet')\n",
    "df_tags = pd.read_parquet('../raw/data_model/tags_train.parquet')"
   ]
  },
  {
   "cell_type": "code",
   "execution_count": 3,
   "metadata": {},
   "outputs": [
    {
     "name": "stdout",
     "output_type": "stream",
     "text": [
      "<class 'pandas.core.frame.DataFrame'>\n",
      "RangeIndex: 9367814 entries, 0 to 9367813\n",
      "Data columns (total 4 columns):\n",
      " #   Column     Dtype  \n",
      "---  ------     -----  \n",
      " 0   movieId    int64  \n",
      " 1   tagId      int64  \n",
      " 2   relevance  float64\n",
      " 3   tag        object \n",
      "dtypes: float64(1), int64(2), object(1)\n",
      "memory usage: 285.9+ MB\n"
     ]
    }
   ],
   "source": [
    "df_tags.info()"
   ]
  },
  {
   "cell_type": "code",
   "execution_count": 4,
   "metadata": {},
   "outputs": [
    {
     "name": "stdout",
     "output_type": "stream",
     "text": [
      "<class 'pandas.core.frame.DataFrame'>\n",
      "RangeIndex: 16000175 entries, 0 to 16000174\n",
      "Data columns (total 6 columns):\n",
      " #   Column     Dtype  \n",
      "---  ------     -----  \n",
      " 0   userId     float64\n",
      " 1   movieId    int64  \n",
      " 2   rating     float64\n",
      " 3   timestamp  float64\n",
      " 4   title      object \n",
      " 5   genres     object \n",
      "dtypes: float64(3), int64(1), object(2)\n",
      "memory usage: 732.4+ MB\n"
     ]
    }
   ],
   "source": [
    "df_ratings.info()"
   ]
  },
  {
   "cell_type": "markdown",
   "metadata": {},
   "source": [
    "Transformaciones de variables e ingenieria de caracteristicas en df_tags (lo siguiente se realiza tambien en testV1.0.parquet)"
   ]
  },
  {
   "cell_type": "code",
   "execution_count": 5,
   "metadata": {},
   "outputs": [],
   "source": [
    "# Nos quedamos con el top tag mas relevante por cada movieId\n",
    "df_tags = df_tags.groupby('movieId').apply(lambda x: x.nlargest(1, 'relevance')).reset_index(drop=True)"
   ]
  },
  {
   "cell_type": "code",
   "execution_count": 6,
   "metadata": {},
   "outputs": [],
   "source": [
    "# Tranformamos distribucion relevance a normal, se encuentra sesgada hacia la derecha\n",
    "def distribution_relevance_dfTags(df_tags):\n",
    "    df_tags_copy = df_tags.copy()\n",
    "    df_tags_copy['relevance']=power_transform(df_tags_copy[['relevance']], method='box-cox')\n",
    "    return df_tags_copy"
   ]
  },
  {
   "cell_type": "code",
   "execution_count": 7,
   "metadata": {},
   "outputs": [],
   "source": [
    "df_tags=distribution_relevance_dfTags(df_tags) # Realizamos transformacion de distribucion relevance"
   ]
  },
  {
   "cell_type": "markdown",
   "metadata": {},
   "source": [
    "Fusionamos datasets df_tags y df_rating, poesteriormente guardamos en nuevo archivo"
   ]
  },
  {
   "cell_type": "code",
   "execution_count": null,
   "metadata": {},
   "outputs": [],
   "source": [
    "df_fullData = df_ratings.merge(df_tags, how='right', on='movieId')"
   ]
  },
  {
   "cell_type": "code",
   "execution_count": 10,
   "metadata": {},
   "outputs": [],
   "source": [
    "df_fullData.to_parquet('../raw/data_model/dataset_process_trainV1.0.parquet')# Guardamos dataset fusionado"
   ]
  },
  {
   "cell_type": "markdown",
   "metadata": {},
   "source": [
    "Comienzo de procesamiento de datos en el conjunto de entrenamiento"
   ]
  },
  {
   "cell_type": "code",
   "execution_count": 2,
   "metadata": {},
   "outputs": [],
   "source": [
    "df_ = pd.read_parquet('../raw/data_model/dataset_process_trainV1.0.parquet')#Carga de datos fusionados"
   ]
  },
  {
   "cell_type": "code",
   "execution_count": 3,
   "metadata": {},
   "outputs": [
    {
     "name": "stdout",
     "output_type": "stream",
     "text": [
      "<class 'pandas.core.frame.DataFrame'>\n",
      "RangeIndex: 15839932 entries, 0 to 15839931\n",
      "Data columns (total 9 columns):\n",
      " #   Column     Dtype  \n",
      "---  ------     -----  \n",
      " 0   userId     float64\n",
      " 1   movieId    int64  \n",
      " 2   rating     float64\n",
      " 3   timestamp  float64\n",
      " 4   title      object \n",
      " 5   genres     object \n",
      " 6   tagId      int64  \n",
      " 7   relevance  float64\n",
      " 8   tag        object \n",
      "dtypes: float64(4), int64(2), object(3)\n",
      "memory usage: 1.1+ GB\n"
     ]
    }
   ],
   "source": [
    "df_.info()"
   ]
  },
  {
   "cell_type": "code",
   "execution_count": 4,
   "metadata": {},
   "outputs": [
    {
     "data": {
      "text/plain": [
       "userId       12\n",
       "movieId       0\n",
       "rating       12\n",
       "timestamp    12\n",
       "title         2\n",
       "genres        2\n",
       "tagId         0\n",
       "relevance     0\n",
       "tag           0\n",
       "dtype: int64"
      ]
     },
     "execution_count": 4,
     "metadata": {},
     "output_type": "execute_result"
    }
   ],
   "source": [
    "# df_, revisando nulos\n",
    "df_.isna().sum()"
   ]
  },
  {
   "cell_type": "code",
   "execution_count": 3,
   "metadata": {},
   "outputs": [],
   "source": [
    "# Los valores nulos de df_ los modificaremos con el valor 0 y 'unknown'\n",
    "def imputer_(df_):\n",
    "    df_ratings_copy = df_.copy()\n",
    "    \n",
    "    # Columnas numéricas\n",
    "    columns_numeric = ['userId', 'rating', 'timestamp']\n",
    "    imp_numeric = SimpleImputer(strategy=\"constant\", fill_value=0)\n",
    "    df_ratings_copy[columns_numeric] = imp_numeric.fit_transform(df_ratings_copy[columns_numeric])\n",
    "\n",
    "    # Columnas categóricas\n",
    "    columns_categorical = ['title', 'genres']\n",
    "    \n",
    "    # Limpieza de valores nulos en columnas categóricas\n",
    "    df_ratings_copy[columns_categorical] = df_ratings_copy[columns_categorical].fillna('unknown')\n",
    "\n",
    "    # Imputación de valores constantes en columnas categóricas\n",
    "    imp_categorical = SimpleImputer(strategy=\"constant\", fill_value='unknown')\n",
    "    df_ratings_copy[columns_categorical] = imp_categorical.fit_transform(df_ratings_copy[columns_categorical])\n",
    "\n",
    "    return df_ratings_copy\n"
   ]
  },
  {
   "cell_type": "code",
   "execution_count": 4,
   "metadata": {},
   "outputs": [],
   "source": [
    "df_= imputer_(df_)# llamada a funcion de limpieza de nulos "
   ]
  },
  {
   "cell_type": "code",
   "execution_count": 7,
   "metadata": {},
   "outputs": [
    {
     "data": {
      "text/plain": [
       "userId       0\n",
       "movieId      0\n",
       "rating       0\n",
       "timestamp    0\n",
       "title        0\n",
       "genres       0\n",
       "tagId        0\n",
       "relevance    0\n",
       "tag          0\n",
       "dtype: int64"
      ]
     },
     "execution_count": 7,
     "metadata": {},
     "output_type": "execute_result"
    }
   ],
   "source": [
    "# df_, revisando nulos despues de la imputacion\n",
    "df_.isna().sum()"
   ]
  },
  {
   "cell_type": "code",
   "execution_count": 8,
   "metadata": {},
   "outputs": [
    {
     "data": {
      "text/html": [
       "<div>\n",
       "<style scoped>\n",
       "    .dataframe tbody tr th:only-of-type {\n",
       "        vertical-align: middle;\n",
       "    }\n",
       "\n",
       "    .dataframe tbody tr th {\n",
       "        vertical-align: top;\n",
       "    }\n",
       "\n",
       "    .dataframe thead th {\n",
       "        text-align: right;\n",
       "    }\n",
       "</style>\n",
       "<table border=\"1\" class=\"dataframe\">\n",
       "  <thead>\n",
       "    <tr style=\"text-align: right;\">\n",
       "      <th></th>\n",
       "      <th>userId</th>\n",
       "      <th>movieId</th>\n",
       "      <th>rating</th>\n",
       "      <th>timestamp</th>\n",
       "      <th>title</th>\n",
       "      <th>genres</th>\n",
       "      <th>tagId</th>\n",
       "      <th>relevance</th>\n",
       "      <th>tag</th>\n",
       "    </tr>\n",
       "  </thead>\n",
       "  <tbody>\n",
       "    <tr>\n",
       "      <th>15264903</th>\n",
       "      <td>0.0</td>\n",
       "      <td>64997</td>\n",
       "      <td>0.0</td>\n",
       "      <td>0.0</td>\n",
       "      <td>unknown</td>\n",
       "      <td>unknown</td>\n",
       "      <td>43</td>\n",
       "      <td>0.468197</td>\n",
       "      <td>alien</td>\n",
       "    </tr>\n",
       "    <tr>\n",
       "      <th>15835210</th>\n",
       "      <td>0.0</td>\n",
       "      <td>115991</td>\n",
       "      <td>0.0</td>\n",
       "      <td>0.0</td>\n",
       "      <td>unknown</td>\n",
       "      <td>unknown</td>\n",
       "      <td>610</td>\n",
       "      <td>0.024171</td>\n",
       "      <td>loneliness</td>\n",
       "    </tr>\n",
       "    <tr>\n",
       "      <th>15837321</th>\n",
       "      <td>0.0</td>\n",
       "      <td>117438</td>\n",
       "      <td>0.0</td>\n",
       "      <td>0.0</td>\n",
       "      <td>When Marnie Was There (2014)</td>\n",
       "      <td>Animation|Drama</td>\n",
       "      <td>640</td>\n",
       "      <td>-0.157685</td>\n",
       "      <td>melancholic</td>\n",
       "    </tr>\n",
       "    <tr>\n",
       "      <th>15839696</th>\n",
       "      <td>0.0</td>\n",
       "      <td>127108</td>\n",
       "      <td>0.0</td>\n",
       "      <td>0.0</td>\n",
       "      <td>Brooklyn (2015)</td>\n",
       "      <td>Comedy|Drama|Romance</td>\n",
       "      <td>563</td>\n",
       "      <td>1.122008</td>\n",
       "      <td>irish</td>\n",
       "    </tr>\n",
       "    <tr>\n",
       "      <th>15839697</th>\n",
       "      <td>0.0</td>\n",
       "      <td>127114</td>\n",
       "      <td>0.0</td>\n",
       "      <td>0.0</td>\n",
       "      <td>The End of the Tour (2015)</td>\n",
       "      <td>Drama</td>\n",
       "      <td>303</td>\n",
       "      <td>-0.260872</td>\n",
       "      <td>dialogue driven</td>\n",
       "    </tr>\n",
       "    <tr>\n",
       "      <th>15839700</th>\n",
       "      <td>0.0</td>\n",
       "      <td>127130</td>\n",
       "      <td>0.0</td>\n",
       "      <td>0.0</td>\n",
       "      <td>Mistress America (2015)</td>\n",
       "      <td>Comedy</td>\n",
       "      <td>846</td>\n",
       "      <td>-0.470699</td>\n",
       "      <td>relationships</td>\n",
       "    </tr>\n",
       "    <tr>\n",
       "      <th>15839704</th>\n",
       "      <td>0.0</td>\n",
       "      <td>127140</td>\n",
       "      <td>0.0</td>\n",
       "      <td>0.0</td>\n",
       "      <td>Sleeping with Other People (2015)</td>\n",
       "      <td>Comedy</td>\n",
       "      <td>865</td>\n",
       "      <td>0.099736</td>\n",
       "      <td>romantic comedy</td>\n",
       "    </tr>\n",
       "    <tr>\n",
       "      <th>15839705</th>\n",
       "      <td>0.0</td>\n",
       "      <td>127146</td>\n",
       "      <td>0.0</td>\n",
       "      <td>0.0</td>\n",
       "      <td>Kurt Cobain: Montage of Heck (2015)</td>\n",
       "      <td>Documentary</td>\n",
       "      <td>687</td>\n",
       "      <td>-0.088399</td>\n",
       "      <td>musicians</td>\n",
       "    </tr>\n",
       "    <tr>\n",
       "      <th>15839710</th>\n",
       "      <td>0.0</td>\n",
       "      <td>127164</td>\n",
       "      <td>0.0</td>\n",
       "      <td>0.0</td>\n",
       "      <td>What Happened, Miss Simone? (2015)</td>\n",
       "      <td>Documentary</td>\n",
       "      <td>578</td>\n",
       "      <td>-0.842222</td>\n",
       "      <td>jazz</td>\n",
       "    </tr>\n",
       "    <tr>\n",
       "      <th>15839711</th>\n",
       "      <td>0.0</td>\n",
       "      <td>127178</td>\n",
       "      <td>0.0</td>\n",
       "      <td>0.0</td>\n",
       "      <td>99 Homes (2014)</td>\n",
       "      <td>Drama</td>\n",
       "      <td>922</td>\n",
       "      <td>0.458299</td>\n",
       "      <td>single father</td>\n",
       "    </tr>\n",
       "    <tr>\n",
       "      <th>15839720</th>\n",
       "      <td>0.0</td>\n",
       "      <td>127204</td>\n",
       "      <td>0.0</td>\n",
       "      <td>0.0</td>\n",
       "      <td>The Overnight (2015)</td>\n",
       "      <td>Comedy</td>\n",
       "      <td>625</td>\n",
       "      <td>-1.129450</td>\n",
       "      <td>male nudity</td>\n",
       "    </tr>\n",
       "    <tr>\n",
       "      <th>15839722</th>\n",
       "      <td>0.0</td>\n",
       "      <td>127208</td>\n",
       "      <td>0.0</td>\n",
       "      <td>0.0</td>\n",
       "      <td>Results (2015)</td>\n",
       "      <td>Comedy|Romance</td>\n",
       "      <td>742</td>\n",
       "      <td>-2.016446</td>\n",
       "      <td>original</td>\n",
       "    </tr>\n",
       "  </tbody>\n",
       "</table>\n",
       "</div>"
      ],
      "text/plain": [
       "          userId  movieId  rating  timestamp  \\\n",
       "15264903     0.0    64997     0.0        0.0   \n",
       "15835210     0.0   115991     0.0        0.0   \n",
       "15837321     0.0   117438     0.0        0.0   \n",
       "15839696     0.0   127108     0.0        0.0   \n",
       "15839697     0.0   127114     0.0        0.0   \n",
       "15839700     0.0   127130     0.0        0.0   \n",
       "15839704     0.0   127140     0.0        0.0   \n",
       "15839705     0.0   127146     0.0        0.0   \n",
       "15839710     0.0   127164     0.0        0.0   \n",
       "15839711     0.0   127178     0.0        0.0   \n",
       "15839720     0.0   127204     0.0        0.0   \n",
       "15839722     0.0   127208     0.0        0.0   \n",
       "\n",
       "                                        title                genres  tagId  \\\n",
       "15264903                              unknown               unknown     43   \n",
       "15835210                              unknown               unknown    610   \n",
       "15837321         When Marnie Was There (2014)       Animation|Drama    640   \n",
       "15839696                      Brooklyn (2015)  Comedy|Drama|Romance    563   \n",
       "15839697           The End of the Tour (2015)                 Drama    303   \n",
       "15839700              Mistress America (2015)                Comedy    846   \n",
       "15839704    Sleeping with Other People (2015)                Comedy    865   \n",
       "15839705  Kurt Cobain: Montage of Heck (2015)           Documentary    687   \n",
       "15839710   What Happened, Miss Simone? (2015)           Documentary    578   \n",
       "15839711                      99 Homes (2014)                 Drama    922   \n",
       "15839720                 The Overnight (2015)                Comedy    625   \n",
       "15839722                       Results (2015)        Comedy|Romance    742   \n",
       "\n",
       "          relevance              tag  \n",
       "15264903   0.468197            alien  \n",
       "15835210   0.024171       loneliness  \n",
       "15837321  -0.157685      melancholic  \n",
       "15839696   1.122008            irish  \n",
       "15839697  -0.260872  dialogue driven  \n",
       "15839700  -0.470699    relationships  \n",
       "15839704   0.099736  romantic comedy  \n",
       "15839705  -0.088399        musicians  \n",
       "15839710  -0.842222             jazz  \n",
       "15839711   0.458299    single father  \n",
       "15839720  -1.129450      male nudity  \n",
       "15839722  -2.016446         original  "
      ]
     },
     "execution_count": 8,
     "metadata": {},
     "output_type": "execute_result"
    }
   ],
   "source": [
    "df_[df_['rating']==0] # Peliculas no vistas por ningun usuario"
   ]
  },
  {
   "cell_type": "markdown",
   "metadata": {},
   "source": [
    "Referente a los valores nulos, hemos modificado los NaN a 0, dado que hay peliculas en el df_ratings que no han sido valoradas por ningun usuario.\n",
    "Asi tambien, he modificado los NaN de las categoricas a 'unknown'."
   ]
  },
  {
   "cell_type": "code",
   "execution_count": 9,
   "metadata": {},
   "outputs": [
    {
     "data": {
      "text/plain": [
       "userId         138494\n",
       "movieId         10381\n",
       "rating             11\n",
       "timestamp    12537612\n",
       "title           10380\n",
       "genres            931\n",
       "tagId             853\n",
       "relevance        1018\n",
       "tag               853\n",
       "dtype: int64"
      ]
     },
     "execution_count": 9,
     "metadata": {},
     "output_type": "execute_result"
    }
   ],
   "source": [
    "# df_ratings, revisando duplicados en titulos (no queremos el mismo titulo mas de 1 vez)\n",
    "df_.nunique() # Comprobamos los valores duplicados por columnas"
   ]
  },
  {
   "cell_type": "markdown",
   "metadata": {},
   "source": [
    "El dataset se encuentran correctamente con respecto a los duplicados.\n",
    "- En title no tenemos ningun titulo igual repetido. Lo unico repetido son los valores unknown\n",
    "- En tags tenemos la misma cantidad de tag como de su id."
   ]
  },
  {
   "cell_type": "code",
   "execution_count": 5,
   "metadata": {},
   "outputs": [],
   "source": [
    "# Transformamos las variables del dataset \n",
    "# Timestamp, convertimos a datetime (referente a fecha de valoracion)\n",
    "def timestamp_to_datetime_df_(df_):\n",
    "    df_ratings_copy = df_.copy()\n",
    "    # Convertimos el timestamp a datetime, luego aplicamos el formato año/mes/dia devolviendo un string\n",
    "    df_ratings_copy['date_rating'] = df_ratings_copy['timestamp'].apply(lambda x: datetime.fromtimestamp(x).strftime('%Y-%m-%d'))\n",
    "    # Transformamos a Date el String\n",
    "    df_ratings_copy['date_rating'] = df_ratings_copy['date_rating'].apply(lambda x: datetime.strptime(x, '%Y-%m-%d'))\n",
    "    # Eliminamos variable timestamp\n",
    "    df_ratings_copy.drop('timestamp', axis=1, inplace=True)\n",
    "\n",
    "    return df_ratings_copy"
   ]
  },
  {
   "cell_type": "code",
   "execution_count": 6,
   "metadata": {},
   "outputs": [],
   "source": [
    "df_=timestamp_to_datetime_df_(df_) # Transforma timestamp a datetime (las fechas no valoradas se veran asi:\"1970-01-01\")"
   ]
  },
  {
   "cell_type": "code",
   "execution_count": 7,
   "metadata": {},
   "outputs": [],
   "source": [
    "# Transformamos las variables del dataset df_\n",
    "# date_rating, separamos año,mes y dia en variables independientes\n",
    "def date_df_indepenDates(df_):\n",
    "    df_ratings_copy = df_.copy()\n",
    "    # Extraemos en variables sepadas el año, mes y dia de date_rating\n",
    "    df_ratings_copy['year_rate'] = df_ratings_copy['date_rating'].dt.year\n",
    "    df_ratings_copy['month_rate'] = df_ratings_copy['date_rating'].dt.month\n",
    "    df_ratings_copy['day_rate'] = df_ratings_copy['date_rating'].dt.day\n",
    "    # Eliminamos variable timestamp\n",
    "    df_ratings_copy.drop('date_rating', axis=1, inplace=True)\n",
    "    return df_ratings_copy"
   ]
  },
  {
   "cell_type": "code",
   "execution_count": 8,
   "metadata": {},
   "outputs": [],
   "source": [
    "df_=date_df_indepenDates(df_)# Extraemos fechas independientes"
   ]
  },
  {
   "cell_type": "code",
   "execution_count": 9,
   "metadata": {},
   "outputs": [],
   "source": [
    "# Transformamos las variables del dataset df_\n",
    "# title, Extraemos el año de publicacion de cada pelicula en una variable nueva\n",
    "def launchYear_title_df_(df_):\n",
    "    df_ratings_copy = df_.copy()\n",
    "    # Extraemos con expresiones regulares los años del title, rellenamos los nulos con 0 y casteamos a int\n",
    "    df_ratings_copy['launch_year'] = df_ratings_copy['title'].str.extract(r'\\((\\d{4})\\)', expand=False).fillna('0').astype(int)\n",
    "    # Eliminamos el año y cualquier contenido entre paréntesis en la columna 'title'\n",
    "    df_ratings_copy['title'] = df_ratings_copy['title'].apply(lambda x: x.split(' (')[0])\n",
    "    return df_ratings_copy"
   ]
  },
  {
   "cell_type": "code",
   "execution_count": 10,
   "metadata": {},
   "outputs": [],
   "source": [
    "df_=launchYear_title_df_(df_) # Extrae año del titulo"
   ]
  },
  {
   "cell_type": "code",
   "execution_count": 11,
   "metadata": {},
   "outputs": [],
   "source": [
    "# Transformamos las variables del dataset df_\n",
    "# Convertimos userId a entero\n",
    "def int_userId_df_(df_):\n",
    "    df_ratings_copy=df_.copy()\n",
    "    # Convertir 'userId' a int\n",
    "    df_ratings_copy['userId'] = pd.to_numeric(df_ratings_copy['userId'], errors='coerce').astype('int64')\n",
    "    return df_ratings_copy"
   ]
  },
  {
   "cell_type": "code",
   "execution_count": 12,
   "metadata": {},
   "outputs": [],
   "source": [
    "df_=int_userId_df_(df_)# Convierte userId a entero"
   ]
  },
  {
   "cell_type": "code",
   "execution_count": 13,
   "metadata": {},
   "outputs": [],
   "source": [
    "# Transformamos las variables del dataset df_\n",
    "# Extraemos la longitud de cada title y lo añadimos como nueva variable\n",
    "def lenTitle_df_(df_):\n",
    "    df_ratings_copy=df_.copy()\n",
    "    #Extraemos la longitud de cada uno de los titulos\n",
    "    df_ratings_copy['len_title']=df_ratings_copy['title'].apply(lambda x: len(x))\n",
    "\n",
    "    return df_ratings_copy"
   ]
  },
  {
   "cell_type": "code",
   "execution_count": 14,
   "metadata": {},
   "outputs": [],
   "source": [
    "df_=lenTitle_df_(df_) # Extraemos longitud del titulo"
   ]
  },
  {
   "cell_type": "code",
   "execution_count": 15,
   "metadata": {},
   "outputs": [],
   "source": [
    "# Transformamos las variables del dataset df_\n",
    "# Extraemos  el genero principal de cada movieId (se considera principal al primero que aparece en genres antes del '|')\n",
    "def mainGenre_df_(df_):\n",
    "    df_ratings_copy=df_.copy()\n",
    "    # Extraemos el primer genero de la columna genres y lo almacenamos en una nueva variable\n",
    "    df_ratings_copy['main_genre']=df_ratings_copy['genres'].apply(lambda x: x.split('|')[0])\n",
    "    return df_ratings_copy\n"
   ]
  },
  {
   "cell_type": "code",
   "execution_count": 16,
   "metadata": {},
   "outputs": [],
   "source": [
    "df_=mainGenre_df_(df_) #Extraemos genero principal"
   ]
  },
  {
   "cell_type": "code",
   "execution_count": 17,
   "metadata": {},
   "outputs": [],
   "source": [
    "def valoration_df(df_):\n",
    "    df_ratings_copy=df_.copy()\n",
    "    # Gestionamos el rating en funcion de sus valores y añadimos cuatro categorias: 'excellent','good','bad','unknown'\n",
    "    df_ratings_copy['valoration']=df_ratings_copy['rating'].apply(lambda x: 'excellent' if x == 5 else('good' if x >= 3 else ('unknown' if x == 0 else 'bad')))\n",
    "    return df_ratings_copy"
   ]
  },
  {
   "cell_type": "code",
   "execution_count": 18,
   "metadata": {},
   "outputs": [],
   "source": [
    "df_=valoration_df(df_)# Categorias en funcion de rating"
   ]
  },
  {
   "cell_type": "markdown",
   "metadata": {},
   "source": [
    "Dataset procesado version 1"
   ]
  }
 ],
 "metadata": {
  "kernelspec": {
   "display_name": "Python 3",
   "language": "python",
   "name": "python3"
  },
  "language_info": {
   "codemirror_mode": {
    "name": "ipython",
    "version": 3
   },
   "file_extension": ".py",
   "mimetype": "text/x-python",
   "name": "python",
   "nbconvert_exporter": "python",
   "pygments_lexer": "ipython3",
   "version": "3.11.7"
  }
 },
 "nbformat": 4,
 "nbformat_minor": 2
}
