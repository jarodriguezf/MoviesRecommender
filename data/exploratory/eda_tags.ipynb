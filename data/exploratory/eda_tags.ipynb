{
 "cells": [
  {
   "cell_type": "code",
   "execution_count": 1,
   "metadata": {},
   "outputs": [],
   "source": [
    "import pandas as pd\n",
    "import numpy as np\n",
    "import matplotlib.pyplot as plt\n",
    "import seaborn as sns"
   ]
  },
  {
   "cell_type": "code",
   "execution_count": 2,
   "metadata": {},
   "outputs": [
    {
     "data": {
      "text/html": [
       "<div>\n",
       "<style scoped>\n",
       "    .dataframe tbody tr th:only-of-type {\n",
       "        vertical-align: middle;\n",
       "    }\n",
       "\n",
       "    .dataframe tbody tr th {\n",
       "        vertical-align: top;\n",
       "    }\n",
       "\n",
       "    .dataframe thead th {\n",
       "        text-align: right;\n",
       "    }\n",
       "</style>\n",
       "<table border=\"1\" class=\"dataframe\">\n",
       "  <thead>\n",
       "    <tr style=\"text-align: right;\">\n",
       "      <th></th>\n",
       "      <th>tagId</th>\n",
       "      <th>tag</th>\n",
       "    </tr>\n",
       "  </thead>\n",
       "  <tbody>\n",
       "    <tr>\n",
       "      <th>0</th>\n",
       "      <td>1</td>\n",
       "      <td>007</td>\n",
       "    </tr>\n",
       "    <tr>\n",
       "      <th>1</th>\n",
       "      <td>2</td>\n",
       "      <td>007 (series)</td>\n",
       "    </tr>\n",
       "    <tr>\n",
       "      <th>2</th>\n",
       "      <td>3</td>\n",
       "      <td>18th century</td>\n",
       "    </tr>\n",
       "    <tr>\n",
       "      <th>3</th>\n",
       "      <td>4</td>\n",
       "      <td>1920s</td>\n",
       "    </tr>\n",
       "    <tr>\n",
       "      <th>4</th>\n",
       "      <td>5</td>\n",
       "      <td>1930s</td>\n",
       "    </tr>\n",
       "    <tr>\n",
       "      <th>...</th>\n",
       "      <td>...</td>\n",
       "      <td>...</td>\n",
       "    </tr>\n",
       "    <tr>\n",
       "      <th>1123</th>\n",
       "      <td>1124</td>\n",
       "      <td>writing</td>\n",
       "    </tr>\n",
       "    <tr>\n",
       "      <th>1124</th>\n",
       "      <td>1125</td>\n",
       "      <td>wuxia</td>\n",
       "    </tr>\n",
       "    <tr>\n",
       "      <th>1125</th>\n",
       "      <td>1126</td>\n",
       "      <td>wwii</td>\n",
       "    </tr>\n",
       "    <tr>\n",
       "      <th>1126</th>\n",
       "      <td>1127</td>\n",
       "      <td>zombie</td>\n",
       "    </tr>\n",
       "    <tr>\n",
       "      <th>1127</th>\n",
       "      <td>1128</td>\n",
       "      <td>zombies</td>\n",
       "    </tr>\n",
       "  </tbody>\n",
       "</table>\n",
       "<p>1128 rows × 2 columns</p>\n",
       "</div>"
      ],
      "text/plain": [
       "      tagId           tag\n",
       "0         1           007\n",
       "1         2  007 (series)\n",
       "2         3  18th century\n",
       "3         4         1920s\n",
       "4         5         1930s\n",
       "...     ...           ...\n",
       "1123   1124       writing\n",
       "1124   1125         wuxia\n",
       "1125   1126          wwii\n",
       "1126   1127        zombie\n",
       "1127   1128       zombies\n",
       "\n",
       "[1128 rows x 2 columns]"
      ]
     },
     "execution_count": 2,
     "metadata": {},
     "output_type": "execute_result"
    }
   ],
   "source": [
    "# Conjunto de datos con tags y identificador unico por cada uno.\n",
    "df_tags = pd.read_csv('../raw/ml-20m/genome-tags.csv')\n",
    "df_tags"
   ]
  },
  {
   "cell_type": "code",
   "execution_count": 3,
   "metadata": {},
   "outputs": [
    {
     "data": {
      "text/html": [
       "<div>\n",
       "<style scoped>\n",
       "    .dataframe tbody tr th:only-of-type {\n",
       "        vertical-align: middle;\n",
       "    }\n",
       "\n",
       "    .dataframe tbody tr th {\n",
       "        vertical-align: top;\n",
       "    }\n",
       "\n",
       "    .dataframe thead th {\n",
       "        text-align: right;\n",
       "    }\n",
       "</style>\n",
       "<table border=\"1\" class=\"dataframe\">\n",
       "  <thead>\n",
       "    <tr style=\"text-align: right;\">\n",
       "      <th></th>\n",
       "      <th>movieId</th>\n",
       "      <th>tagId</th>\n",
       "      <th>relevance</th>\n",
       "    </tr>\n",
       "  </thead>\n",
       "  <tbody>\n",
       "    <tr>\n",
       "      <th>0</th>\n",
       "      <td>1</td>\n",
       "      <td>1</td>\n",
       "      <td>0.02500</td>\n",
       "    </tr>\n",
       "    <tr>\n",
       "      <th>1</th>\n",
       "      <td>1</td>\n",
       "      <td>2</td>\n",
       "      <td>0.02500</td>\n",
       "    </tr>\n",
       "    <tr>\n",
       "      <th>2</th>\n",
       "      <td>1</td>\n",
       "      <td>3</td>\n",
       "      <td>0.05775</td>\n",
       "    </tr>\n",
       "    <tr>\n",
       "      <th>3</th>\n",
       "      <td>1</td>\n",
       "      <td>4</td>\n",
       "      <td>0.09675</td>\n",
       "    </tr>\n",
       "    <tr>\n",
       "      <th>4</th>\n",
       "      <td>1</td>\n",
       "      <td>5</td>\n",
       "      <td>0.14675</td>\n",
       "    </tr>\n",
       "    <tr>\n",
       "      <th>...</th>\n",
       "      <td>...</td>\n",
       "      <td>...</td>\n",
       "      <td>...</td>\n",
       "    </tr>\n",
       "    <tr>\n",
       "      <th>11709763</th>\n",
       "      <td>131170</td>\n",
       "      <td>1124</td>\n",
       "      <td>0.58775</td>\n",
       "    </tr>\n",
       "    <tr>\n",
       "      <th>11709764</th>\n",
       "      <td>131170</td>\n",
       "      <td>1125</td>\n",
       "      <td>0.01075</td>\n",
       "    </tr>\n",
       "    <tr>\n",
       "      <th>11709765</th>\n",
       "      <td>131170</td>\n",
       "      <td>1126</td>\n",
       "      <td>0.01575</td>\n",
       "    </tr>\n",
       "    <tr>\n",
       "      <th>11709766</th>\n",
       "      <td>131170</td>\n",
       "      <td>1127</td>\n",
       "      <td>0.11450</td>\n",
       "    </tr>\n",
       "    <tr>\n",
       "      <th>11709767</th>\n",
       "      <td>131170</td>\n",
       "      <td>1128</td>\n",
       "      <td>0.02175</td>\n",
       "    </tr>\n",
       "  </tbody>\n",
       "</table>\n",
       "<p>11709768 rows × 3 columns</p>\n",
       "</div>"
      ],
      "text/plain": [
       "          movieId  tagId  relevance\n",
       "0               1      1    0.02500\n",
       "1               1      2    0.02500\n",
       "2               1      3    0.05775\n",
       "3               1      4    0.09675\n",
       "4               1      5    0.14675\n",
       "...           ...    ...        ...\n",
       "11709763   131170   1124    0.58775\n",
       "11709764   131170   1125    0.01075\n",
       "11709765   131170   1126    0.01575\n",
       "11709766   131170   1127    0.11450\n",
       "11709767   131170   1128    0.02175\n",
       "\n",
       "[11709768 rows x 3 columns]"
      ]
     },
     "execution_count": 3,
     "metadata": {},
     "output_type": "execute_result"
    }
   ],
   "source": [
    "# Conjunto de datos con scores relevantes para cada pelicula segun los tags\n",
    "df_tagScores = pd.read_csv('../raw/ml-20m/genome-scores.csv')\n",
    "df_tagScores"
   ]
  },
  {
   "cell_type": "code",
   "execution_count": 4,
   "metadata": {},
   "outputs": [
    {
     "data": {
      "text/html": [
       "<div>\n",
       "<style scoped>\n",
       "    .dataframe tbody tr th:only-of-type {\n",
       "        vertical-align: middle;\n",
       "    }\n",
       "\n",
       "    .dataframe tbody tr th {\n",
       "        vertical-align: top;\n",
       "    }\n",
       "\n",
       "    .dataframe thead th {\n",
       "        text-align: right;\n",
       "    }\n",
       "</style>\n",
       "<table border=\"1\" class=\"dataframe\">\n",
       "  <thead>\n",
       "    <tr style=\"text-align: right;\">\n",
       "      <th></th>\n",
       "      <th>movieId</th>\n",
       "      <th>tagId</th>\n",
       "      <th>relevance</th>\n",
       "      <th>tag</th>\n",
       "    </tr>\n",
       "  </thead>\n",
       "  <tbody>\n",
       "    <tr>\n",
       "      <th>0</th>\n",
       "      <td>1</td>\n",
       "      <td>1</td>\n",
       "      <td>0.02500</td>\n",
       "      <td>007</td>\n",
       "    </tr>\n",
       "    <tr>\n",
       "      <th>1</th>\n",
       "      <td>2</td>\n",
       "      <td>1</td>\n",
       "      <td>0.03975</td>\n",
       "      <td>007</td>\n",
       "    </tr>\n",
       "    <tr>\n",
       "      <th>2</th>\n",
       "      <td>3</td>\n",
       "      <td>1</td>\n",
       "      <td>0.04350</td>\n",
       "      <td>007</td>\n",
       "    </tr>\n",
       "    <tr>\n",
       "      <th>3</th>\n",
       "      <td>4</td>\n",
       "      <td>1</td>\n",
       "      <td>0.03725</td>\n",
       "      <td>007</td>\n",
       "    </tr>\n",
       "    <tr>\n",
       "      <th>4</th>\n",
       "      <td>5</td>\n",
       "      <td>1</td>\n",
       "      <td>0.04200</td>\n",
       "      <td>007</td>\n",
       "    </tr>\n",
       "    <tr>\n",
       "      <th>...</th>\n",
       "      <td>...</td>\n",
       "      <td>...</td>\n",
       "      <td>...</td>\n",
       "      <td>...</td>\n",
       "    </tr>\n",
       "    <tr>\n",
       "      <th>11709763</th>\n",
       "      <td>130578</td>\n",
       "      <td>1128</td>\n",
       "      <td>0.01325</td>\n",
       "      <td>zombies</td>\n",
       "    </tr>\n",
       "    <tr>\n",
       "      <th>11709764</th>\n",
       "      <td>130840</td>\n",
       "      <td>1128</td>\n",
       "      <td>0.13375</td>\n",
       "      <td>zombies</td>\n",
       "    </tr>\n",
       "    <tr>\n",
       "      <th>11709765</th>\n",
       "      <td>131013</td>\n",
       "      <td>1128</td>\n",
       "      <td>0.01625</td>\n",
       "      <td>zombies</td>\n",
       "    </tr>\n",
       "    <tr>\n",
       "      <th>11709766</th>\n",
       "      <td>131168</td>\n",
       "      <td>1128</td>\n",
       "      <td>0.01725</td>\n",
       "      <td>zombies</td>\n",
       "    </tr>\n",
       "    <tr>\n",
       "      <th>11709767</th>\n",
       "      <td>131170</td>\n",
       "      <td>1128</td>\n",
       "      <td>0.02175</td>\n",
       "      <td>zombies</td>\n",
       "    </tr>\n",
       "  </tbody>\n",
       "</table>\n",
       "<p>11709768 rows × 4 columns</p>\n",
       "</div>"
      ],
      "text/plain": [
       "          movieId  tagId  relevance      tag\n",
       "0               1      1    0.02500      007\n",
       "1               2      1    0.03975      007\n",
       "2               3      1    0.04350      007\n",
       "3               4      1    0.03725      007\n",
       "4               5      1    0.04200      007\n",
       "...           ...    ...        ...      ...\n",
       "11709763   130578   1128    0.01325  zombies\n",
       "11709764   130840   1128    0.13375  zombies\n",
       "11709765   131013   1128    0.01625  zombies\n",
       "11709766   131168   1128    0.01725  zombies\n",
       "11709767   131170   1128    0.02175  zombies\n",
       "\n",
       "[11709768 rows x 4 columns]"
      ]
     },
     "execution_count": 4,
     "metadata": {},
     "output_type": "execute_result"
    }
   ],
   "source": [
    "# Merge de los dos conjuntos de datos\n",
    "df_movies_tags = df_tagScores.merge(df_tags, how='right', on='tagId')\n",
    "df_movies_tags"
   ]
  },
  {
   "cell_type": "code",
   "execution_count": 10,
   "metadata": {},
   "outputs": [
    {
     "name": "stdout",
     "output_type": "stream",
     "text": [
      "<class 'pandas.core.frame.DataFrame'>\n",
      "RangeIndex: 11709768 entries, 0 to 11709767\n",
      "Data columns (total 4 columns):\n",
      " #   Column     Dtype  \n",
      "---  ------     -----  \n",
      " 0   movieId    int64  \n",
      " 1   tagId      int64  \n",
      " 2   relevance  float64\n",
      " 3   tag        object \n",
      "dtypes: float64(1), int64(2), object(1)\n",
      "memory usage: 357.4+ MB\n"
     ]
    }
   ],
   "source": [
    "df_movies_tags.info()"
   ]
  },
  {
   "cell_type": "markdown",
   "metadata": {},
   "source": [
    "Podemos observar que el dataframe resultante informa por cada una de las peliculas el nivel de relevancia para todos y cada uno de los tags"
   ]
  },
  {
   "cell_type": "code",
   "execution_count": 11,
   "metadata": {},
   "outputs": [
    {
     "data": {
      "text/html": [
       "<div>\n",
       "<style scoped>\n",
       "    .dataframe tbody tr th:only-of-type {\n",
       "        vertical-align: middle;\n",
       "    }\n",
       "\n",
       "    .dataframe tbody tr th {\n",
       "        vertical-align: top;\n",
       "    }\n",
       "\n",
       "    .dataframe thead th {\n",
       "        text-align: right;\n",
       "    }\n",
       "</style>\n",
       "<table border=\"1\" class=\"dataframe\">\n",
       "  <thead>\n",
       "    <tr style=\"text-align: right;\">\n",
       "      <th></th>\n",
       "      <th>movieId</th>\n",
       "      <th>tagId</th>\n",
       "      <th>relevance</th>\n",
       "    </tr>\n",
       "  </thead>\n",
       "  <tbody>\n",
       "    <tr>\n",
       "      <th>count</th>\n",
       "      <td>1.170977e+07</td>\n",
       "      <td>1.170977e+07</td>\n",
       "      <td>1.170977e+07</td>\n",
       "    </tr>\n",
       "    <tr>\n",
       "      <th>mean</th>\n",
       "      <td>2.584297e+04</td>\n",
       "      <td>5.645000e+02</td>\n",
       "      <td>1.164833e-01</td>\n",
       "    </tr>\n",
       "    <tr>\n",
       "      <th>std</th>\n",
       "      <td>3.467615e+04</td>\n",
       "      <td>3.256254e+02</td>\n",
       "      <td>1.542463e-01</td>\n",
       "    </tr>\n",
       "    <tr>\n",
       "      <th>min</th>\n",
       "      <td>1.000000e+00</td>\n",
       "      <td>1.000000e+00</td>\n",
       "      <td>2.500000e-04</td>\n",
       "    </tr>\n",
       "    <tr>\n",
       "      <th>25%</th>\n",
       "      <td>2.926000e+03</td>\n",
       "      <td>2.827500e+02</td>\n",
       "      <td>2.425000e-02</td>\n",
       "    </tr>\n",
       "    <tr>\n",
       "      <th>50%</th>\n",
       "      <td>6.017000e+03</td>\n",
       "      <td>5.645000e+02</td>\n",
       "      <td>5.650000e-02</td>\n",
       "    </tr>\n",
       "    <tr>\n",
       "      <th>75%</th>\n",
       "      <td>4.606200e+04</td>\n",
       "      <td>8.462500e+02</td>\n",
       "      <td>1.415000e-01</td>\n",
       "    </tr>\n",
       "    <tr>\n",
       "      <th>max</th>\n",
       "      <td>1.311700e+05</td>\n",
       "      <td>1.128000e+03</td>\n",
       "      <td>1.000000e+00</td>\n",
       "    </tr>\n",
       "  </tbody>\n",
       "</table>\n",
       "</div>"
      ],
      "text/plain": [
       "            movieId         tagId     relevance\n",
       "count  1.170977e+07  1.170977e+07  1.170977e+07\n",
       "mean   2.584297e+04  5.645000e+02  1.164833e-01\n",
       "std    3.467615e+04  3.256254e+02  1.542463e-01\n",
       "min    1.000000e+00  1.000000e+00  2.500000e-04\n",
       "25%    2.926000e+03  2.827500e+02  2.425000e-02\n",
       "50%    6.017000e+03  5.645000e+02  5.650000e-02\n",
       "75%    4.606200e+04  8.462500e+02  1.415000e-01\n",
       "max    1.311700e+05  1.128000e+03  1.000000e+00"
      ]
     },
     "execution_count": 11,
     "metadata": {},
     "output_type": "execute_result"
    }
   ],
   "source": [
    "# Analisis descriptivo\n",
    "df_movies_tags.describe()"
   ]
  },
  {
   "cell_type": "markdown",
   "metadata": {},
   "source": [
    "El analisis se centrara en la columna relevance:\n",
    "\n",
    "- Media: Es aproximadamente 0.116,en promedio, los tags tienen una relevancia moderada en las películas.\n",
    "- Desviacion estandar: Dado que la desviación estándar es relativamente alta (aproximadamente 0.154), podemos\n",
    "hacer referencia a presencias de outliers.\n",
    "- Min/Max: La relevancia mínima es 0.00025, lo que sugiere que algunos tags tienen una relevancia muy baja en algunas películas. La relevancia máxima es 1, lo que indica que algunos tags son muy relevantes en ciertos casos."
   ]
  },
  {
   "cell_type": "code",
   "execution_count": 12,
   "metadata": {},
   "outputs": [
    {
     "data": {
      "text/plain": [
       "<Axes: xlabel='relevance', ylabel='Count'>"
      ]
     },
     "execution_count": 12,
     "metadata": {},
     "output_type": "execute_result"
    },
    {
     "data": {
      "image/png": "[encoded data removed]",
      "text/plain": [
       "<Figure size 640x480 with 1 Axes>"
      ]
     },
     "metadata": {},
     "output_type": "display_data"
    }
   ],
   "source": [
    "# Distribucion relevance en grafico\n",
    "sns.histplot(data=df_movies_tags, x='relevance', kde=True)"
   ]
  },
  {
   "cell_type": "markdown",
   "metadata": {},
   "source": [
    "Claramente observamos un sesgo hacia la derecha. La mayoria de los tags no presentan ni un 20% de relevancia.\n",
    "\n",
    "También, contamos con muchos valores atipicos a lo largo de la distribucion"
   ]
  },
  {
   "cell_type": "code",
   "execution_count": 47,
   "metadata": {},
   "outputs": [],
   "source": [
    "# mediana de cada tag \n",
    "group_tags = df_movies_tags.groupby(['tagId'])['relevance'].median()"
   ]
  },
  {
   "cell_type": "code",
   "execution_count": 50,
   "metadata": {},
   "outputs": [
    {
     "data": {
      "image/png": "[encoded data removed]",
      "text/plain": [
       "<Figure size 1500x600 with 1 Axes>"
      ]
     },
     "metadata": {},
     "output_type": "display_data"
    }
   ],
   "source": [
    "# Outliers\n",
    "# Graficamos la agrupacion de tag calculada la mediana\n",
    "plt.figure(figsize=(15, 6))\n",
    "sns.boxplot( y=group_tags, color='skyblue')\n",
    "plt.title('Distribución de Outliers por Tag')\n",
    "plt.xlabel('Tag ID')\n",
    "plt.ylabel('Relevancia')\n",
    "plt.show()"
   ]
  },
  {
   "cell_type": "markdown",
   "metadata": {},
   "source": [
    "Tras agrupar los tag y calcular su mediana, podemos observar como los atipicos se mantienen, presentando bastantes de ellos"
   ]
  },
  {
   "cell_type": "code",
   "execution_count": 51,
   "metadata": {},
   "outputs": [
    {
     "data": {
      "image/png": "[encoded data removed]",
      "text/plain": [
       "<Figure size 1000x800 with 2 Axes>"
      ]
     },
     "metadata": {},
     "output_type": "display_data"
    }
   ],
   "source": [
    "# Correlacion entre relevancia y tags\n",
    "df_numeric = df_movies_tags.drop(['movieId', 'tag'], axis=1)\n",
    "corr = df_numeric.corr()\n",
    "\n",
    "plt.figure(figsize=(10, 8))\n",
    "# Crear el heatmap con etiquetas y formato\n",
    "sns.heatmap(corr, annot=True, fmt=\".2f\", cmap=\"Blues\", vmin=-1, vmax=1)\n",
    "plt.title(\"Matriz de Correlación\")\n",
    "plt.show()"
   ]
  },
  {
   "cell_type": "markdown",
   "metadata": {},
   "source": [
    "No hay relacion directa entre los tag y el nivel de relevancia"
   ]
  }
 ],
 "metadata": {
  "kernelspec": {
   "display_name": "Python 3",
   "language": "python",
   "name": "python3"
  },
  "language_info": {
   "codemirror_mode": {
    "name": "ipython",
    "version": 3
   },
   "file_extension": ".py",
   "mimetype": "text/x-python",
   "name": "python",
   "nbconvert_exporter": "python",
   "pygments_lexer": "ipython3",
   "version": "3.11.7"
  }
 },
 "nbformat": 4,
 "nbformat_minor": 2
}
