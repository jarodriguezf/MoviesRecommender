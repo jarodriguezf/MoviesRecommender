{
 "cells": [
  {
   "cell_type": "code",
   "execution_count": 1,
   "metadata": {},
   "outputs": [],
   "source": [
    "import pandas as pd\n",
    "import numpy as np\n",
    "from sklearn.model_selection import train_test_split\n",
    "from sklearn.preprocessing import MinMaxScaler\n",
    "from sklearn.linear_model import LinearRegression\n",
    "from sklearn.metrics import mean_squared_error"
   ]
  },
  {
   "cell_type": "markdown",
   "metadata": {},
   "source": [
    "En este script realizare un modelo inicial base, el procesamiento de datos viene del script 'data/processed/processed_data_Vbaseline.pynb'."
   ]
  },
  {
   "cell_type": "code",
   "execution_count": 2,
   "metadata": {},
   "outputs": [],
   "source": [
    "# Carga de datos\n",
    "df_ratings = pd.read_parquet('../../data/raw/data_model/dataset_process_trainV0.1.parquet')"
   ]
  },
  {
   "cell_type": "code",
   "execution_count": 3,
   "metadata": {},
   "outputs": [],
   "source": [
    "# Movemos variable rating a predecir al final del dataset\n",
    "rating=df_ratings.pop('rating')\n",
    "df_ratings.insert(13,'rating',rating.values)"
   ]
  },
  {
   "cell_type": "code",
   "execution_count": 4,
   "metadata": {},
   "outputs": [],
   "source": [
    "# Dividimos en X e y\n",
    "X_ratings = df_ratings.iloc[:, :-1]\n",
    "y_rating = df_ratings.iloc[:, 13]"
   ]
  },
  {
   "cell_type": "markdown",
   "metadata": {},
   "source": [
    "Funciones para preparar los datos para la posterior fase del modelado"
   ]
  },
  {
   "cell_type": "code",
   "execution_count": 5,
   "metadata": {},
   "outputs": [],
   "source": [
    "def extract_numerics_columns(X):\n",
    "    numeric_columns = X.select_dtypes(include='number')\n",
    "    return numeric_columns"
   ]
  },
  {
   "cell_type": "code",
   "execution_count": 6,
   "metadata": {},
   "outputs": [],
   "source": [
    "def extract_categorical_columns(X):\n",
    "    categorical_columns = X.select_dtypes(exclude='number')\n",
    "    return categorical_columns"
   ]
  },
  {
   "cell_type": "code",
   "execution_count": 7,
   "metadata": {},
   "outputs": [],
   "source": [
    "# Codificacion de variables numericas\n",
    "def numeric_normalize(X):\n",
    "    # Extraemos las columnas numéricas\n",
    "    numeric_columns=extract_numerics_columns(X)\n",
    "\n",
    "    # Creamos un MinMaxScaler y normalizamos las columnas numéricas\n",
    "    normalizer = MinMaxScaler()\n",
    "    normalized_numeric_columns = normalizer.fit_transform(numeric_columns)\n",
    "\n",
    "    # Retorna ndarray \n",
    "    return normalized_numeric_columns"
   ]
  },
  {
   "cell_type": "code",
   "execution_count": 8,
   "metadata": {},
   "outputs": [],
   "source": [
    "# Codificacion de variables categoricas\n",
    "def categorical_encoder(X):\n",
    "    # Extraemos las columnas categoricas\n",
    "    categorical_columns=extract_categorical_columns(X)\n",
    "    coded_categorical=[]\n",
    "    # encoder de cada columna categorica\n",
    "    for column in categorical_columns:\n",
    "        encoded_column = pd.Categorical(X[column]).codes\n",
    "        coded_categorical.append(encoded_column)\n",
    "\n",
    "    # Convierte la lista de arrays categorical a 2D, para poder concatenar correctamente\n",
    "    coded_categorical = np.column_stack(coded_categorical)\n",
    "    return coded_categorical\n",
    "    "
   ]
  },
  {
   "cell_type": "code",
   "execution_count": 9,
   "metadata": {},
   "outputs": [],
   "source": [
    "# Concatenamos la codificacion de los valores numericos y categoricos\n",
    "def concat_types(X):\n",
    "    numeric=numeric_normalize(X)\n",
    "    categorical=categorical_encoder(X)\n",
    "    \n",
    "    return np.concatenate((numeric,categorical), axis=1)"
   ]
  },
  {
   "cell_type": "code",
   "execution_count": 10,
   "metadata": {},
   "outputs": [],
   "source": [
    "X_ratings=concat_types(X_ratings) # Concatenacion"
   ]
  },
  {
   "cell_type": "markdown",
   "metadata": {},
   "source": [
    "Creacion del modelo (Baseline)"
   ]
  },
  {
   "cell_type": "code",
   "execution_count": 11,
   "metadata": {},
   "outputs": [],
   "source": [
    "# Dividir en val y train\n",
    "X_train, X_val, y_train, y_val = train_test_split(X_ratings, y_rating, test_size=0.2, stratify=y_rating, random_state=123)"
   ]
  },
  {
   "cell_type": "code",
   "execution_count": 12,
   "metadata": {},
   "outputs": [],
   "source": [
    "# 1. Modelo\n",
    "# Modelado del dataset, objetivo: predecir variable rating.\n",
    "\n",
    "# Entrenamos el modelo de regresion lineal\n",
    "def baseline_lr_ratings(X_train, y_train):\n",
    "    reg_trained = LinearRegression().fit(X_train, y_train)\n",
    "    return reg_trained"
   ]
  },
  {
   "cell_type": "code",
   "execution_count": 13,
   "metadata": {},
   "outputs": [],
   "source": [
    "baseline_model=baseline_lr_ratings(X_train, y_train)# Llamada y entrenamos modelo"
   ]
  },
  {
   "cell_type": "code",
   "execution_count": 14,
   "metadata": {},
   "outputs": [],
   "source": [
    "# Predecimos el ratings\n",
    "def predict_baseline(X_val):\n",
    "    prediction= baseline_model.predict(X_val)\n",
    "    return prediction"
   ]
  },
  {
   "cell_type": "code",
   "execution_count": 15,
   "metadata": {},
   "outputs": [],
   "source": [
    "y_pred = predict_baseline(X_val)# Llamada y retornamos la prediccion"
   ]
  },
  {
   "cell_type": "code",
   "execution_count": 16,
   "metadata": {},
   "outputs": [
    {
     "data": {
      "text/plain": [
       "1.0609190132361324"
      ]
     },
     "execution_count": 16,
     "metadata": {},
     "output_type": "execute_result"
    }
   ],
   "source": [
    "# Analizamos error cuadratico medio del modelo\n",
    "mean_squared_error(y_val, y_pred)"
   ]
  },
  {
   "cell_type": "markdown",
   "metadata": {},
   "source": [
    "El ECM es bastante alto, indicando que en promedio tenemos un error de 1 en nuestras valoraciones.\n",
    "Al ser una baseline la usaremos para medir otros modelos"
   ]
  },
  {
   "cell_type": "markdown",
   "metadata": {},
   "source": [
    "Prediccion con el conjunto de prueba"
   ]
  },
  {
   "cell_type": "code",
   "execution_count": 22,
   "metadata": {},
   "outputs": [],
   "source": [
    "# Carga de datos\n",
    "df_prueba = pd.read_parquet('../../data/raw/data_model/dataset_process_testV0.1.parquet')"
   ]
  },
  {
   "cell_type": "code",
   "execution_count": 23,
   "metadata": {},
   "outputs": [],
   "source": [
    "y_true_prueba = df_prueba['rating']# Nos quedamos con la y real, para estimar el rendimiento del modelo ante datos no vistos"
   ]
  },
  {
   "cell_type": "code",
   "execution_count": 24,
   "metadata": {},
   "outputs": [],
   "source": [
    "df_prueba.drop('rating', axis=1, inplace=True)# Eliminamos y 'rating'"
   ]
  },
  {
   "cell_type": "code",
   "execution_count": 25,
   "metadata": {},
   "outputs": [],
   "source": [
    "X_prueba=concat_types(df_prueba)# procesamos los numericos y categoricos"
   ]
  },
  {
   "cell_type": "code",
   "execution_count": 27,
   "metadata": {},
   "outputs": [],
   "source": [
    "y_pred_prueba = predict_baseline(X_prueba)# Llamada y retornamos la prediccion"
   ]
  },
  {
   "cell_type": "code",
   "execution_count": 28,
   "metadata": {},
   "outputs": [
    {
     "data": {
      "text/plain": [
       "1.0756326423441425"
      ]
     },
     "execution_count": 28,
     "metadata": {},
     "output_type": "execute_result"
    }
   ],
   "source": [
    "# Analizamos error cuadratico medio del modelo\n",
    "mean_squared_error(y_true_prueba, y_pred_prueba)"
   ]
  },
  {
   "cell_type": "markdown",
   "metadata": {},
   "source": [
    "El error en el conjunto de prueba es del 1 punto en promedio"
   ]
  }
 ],
 "metadata": {
  "kernelspec": {
   "display_name": "Python 3",
   "language": "python",
   "name": "python3"
  },
  "language_info": {
   "codemirror_mode": {
    "name": "ipython",
    "version": 3
   },
   "file_extension": ".py",
   "mimetype": "text/x-python",
   "name": "python",
   "nbconvert_exporter": "python",
   "pygments_lexer": "ipython3",
   "version": "3.11.7"
  }
 },
 "nbformat": 4,
 "nbformat_minor": 2
}
