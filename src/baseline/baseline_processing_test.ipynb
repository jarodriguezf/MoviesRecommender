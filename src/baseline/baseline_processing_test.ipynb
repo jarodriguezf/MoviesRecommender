{
 "cells": [
  {
   "cell_type": "code",
   "execution_count": 1,
   "metadata": {},
   "outputs": [],
   "source": [
    "import pandas as pd\n",
    "import numpy as np\n",
    "from sklearn.impute import SimpleImputer\n",
    "from datetime import datetime\n",
    "from sklearn.preprocessing import power_transform"
   ]
  },
  {
   "cell_type": "markdown",
   "metadata": {},
   "source": [
    "Aplicamos la misma transformacion que el script 'processed_data_Vbaseline.ipynb' referente a la baseline"
   ]
  },
  {
   "cell_type": "code",
   "execution_count": 2,
   "metadata": {},
   "outputs": [],
   "source": [
    "# Carga de datos\n",
    "df_ratings = pd.read_parquet('../../data/raw/data_model/ratings_test.parquet')\n",
    "df_tags = pd.read_parquet('../../data/raw/data_model/tags_test.parquet')"
   ]
  },
  {
   "cell_type": "code",
   "execution_count": 5,
   "metadata": {},
   "outputs": [],
   "source": [
    "# Nos quedamos con el top 3 tag mas relevante por cada movieId\n",
    "df_tags = df_tags.groupby('movieId').apply(lambda x: x.nlargest(3, 'relevance')).reset_index(drop=True)"
   ]
  },
  {
   "cell_type": "code",
   "execution_count": 6,
   "metadata": {},
   "outputs": [],
   "source": [
    "# Tranformamos distribucion relevance a normal, se encuentra sesgada\n",
    "def distribution_relevance_dfTags(df_tags):\n",
    "    df_tags_copy = df_tags.copy()\n",
    "    df_tags_copy['relevance']=power_transform(df_tags_copy[['relevance']], method='box-cox')\n",
    "    return df_tags_copy"
   ]
  },
  {
   "cell_type": "code",
   "execution_count": 7,
   "metadata": {},
   "outputs": [],
   "source": [
    "df_tags=distribution_relevance_dfTags(df_tags) # Realizamos transformacion de distribucion relevance"
   ]
  },
  {
   "cell_type": "code",
   "execution_count": 8,
   "metadata": {},
   "outputs": [],
   "source": [
    "df_fullData = df_ratings.merge(df_tags, how='right', on='movieId')"
   ]
  },
  {
   "cell_type": "code",
   "execution_count": 10,
   "metadata": {},
   "outputs": [],
   "source": [
    "# Los valores nulos de df_ratings los modificaremos con el valor 0\n",
    "def imputer_(df_ratings):\n",
    "    df_ratings_copy = df_ratings.copy()\n",
    "    \n",
    "    # Columnas numéricas\n",
    "    columns_numeric = ['userId', 'rating', 'timestamp']\n",
    "    imp_numeric = SimpleImputer(strategy=\"constant\", fill_value=0)\n",
    "    df_ratings_copy[columns_numeric] = imp_numeric.fit_transform(df_ratings_copy[columns_numeric])\n",
    "\n",
    "    # Columnas categóricas\n",
    "    columns_categorical = ['title', 'genres']\n",
    "    imp_categorical = SimpleImputer(strategy=\"constant\", fill_value='unknown')\n",
    "    df_ratings_copy[columns_categorical] = imp_categorical.fit_transform(df_ratings_copy[columns_categorical])\n",
    "\n",
    "    return df_ratings_copy"
   ]
  },
  {
   "cell_type": "code",
   "execution_count": 11,
   "metadata": {},
   "outputs": [],
   "source": [
    "df_ratings= imputer_(df_fullData)# llamada a funcion de limpieza de nulos "
   ]
  },
  {
   "cell_type": "code",
   "execution_count": 13,
   "metadata": {},
   "outputs": [],
   "source": [
    "def timestamp_to_datetime_dfRatings(df_ratings):\n",
    "    df_ratings_copy = df_ratings.copy()\n",
    "    # Convertimos el timestamp a datetime, luego aplicamos el formato año/mes/dia devolviendo un string\n",
    "    df_ratings_copy['date_rating'] = df_ratings_copy['timestamp'].apply(lambda x: datetime.fromtimestamp(x).strftime('%Y-%m-%d'))\n",
    "    # Transformamos a Date el String\n",
    "    df_ratings_copy['date_rating'] = df_ratings_copy['date_rating'].apply(lambda x: datetime.strptime(x, '%Y-%m-%d'))\n",
    "    # Eliminamos variable timestamp\n",
    "    df_ratings_copy.drop('timestamp', axis=1, inplace=True)\n",
    "\n",
    "    return df_ratings_copy"
   ]
  },
  {
   "cell_type": "code",
   "execution_count": 14,
   "metadata": {},
   "outputs": [],
   "source": [
    "df_ratings=timestamp_to_datetime_dfRatings(df_ratings) # Transforma timestamp a datetime (las fechas no valoradas se veran asi:\"1970-01-01\")"
   ]
  },
  {
   "cell_type": "code",
   "execution_count": 15,
   "metadata": {},
   "outputs": [],
   "source": [
    "# Transformamos las variables del dataset df_ratings\n",
    "# date_rating, separamos año,mes y dia en variables independientes\n",
    "def date_rating_indepenDates(df_ratings):\n",
    "    df_ratings_copy = df_ratings.copy()\n",
    "    # Extraemos en variables sepadas el año, mes y dia de date_rating\n",
    "    df_ratings_copy['year_rate'] = df_ratings_copy['date_rating'].dt.year\n",
    "    df_ratings_copy['month_rate'] = df_ratings_copy['date_rating'].dt.month\n",
    "    df_ratings_copy['day_rate'] = df_ratings_copy['date_rating'].dt.day\n",
    "    # Eliminamos variable timestamp\n",
    "    df_ratings_copy.drop('date_rating', axis=1, inplace=True)\n",
    "    return df_ratings_copy"
   ]
  },
  {
   "cell_type": "code",
   "execution_count": 16,
   "metadata": {},
   "outputs": [],
   "source": [
    "df_ratings=date_rating_indepenDates(df_ratings)# Extraemos fechas independientes"
   ]
  },
  {
   "cell_type": "code",
   "execution_count": 17,
   "metadata": {},
   "outputs": [],
   "source": [
    "# Transformamos las variables del dataset df_ratings\n",
    "# title, Extraemos el año de publicacion de cada pelicula en una variable nueva\n",
    "def launchYear_title_dfRatings(df_ratings):\n",
    "    df_ratings_copy = df_ratings.copy()\n",
    "    # Extraemos con expresiones regulares los años del title, rellenamos los nulos con 0 y casteamos a int\n",
    "    df_ratings_copy['launch_year'] = df_ratings_copy['title'].str.extract(r'\\((\\d{4})\\)', expand=False).fillna('0').astype(int)\n",
    "    # Eliminamos el año y cualquier contenido entre paréntesis en la columna 'title'\n",
    "    df_ratings_copy['title'] = df_ratings_copy['title'].apply(lambda x: x.split(' (')[0])\n",
    "    return df_ratings_copy"
   ]
  },
  {
   "cell_type": "code",
   "execution_count": 18,
   "metadata": {},
   "outputs": [],
   "source": [
    "df_ratings=launchYear_title_dfRatings(df_ratings) # Extrae año del titulo"
   ]
  },
  {
   "cell_type": "code",
   "execution_count": 19,
   "metadata": {},
   "outputs": [],
   "source": [
    "# Transformamos las variables del dataset df_ratings\n",
    "# Convertimos userId a entero\n",
    "def int_userId_dfRatings(df_ratings):\n",
    "    df_ratings_copy=df_ratings.copy()\n",
    "    # Convertir 'userId' a int\n",
    "    df_ratings_copy['userId'] = pd.to_numeric(df_ratings_copy['userId'], errors='coerce').astype('int64')\n",
    "    return df_ratings_copy"
   ]
  },
  {
   "cell_type": "code",
   "execution_count": 20,
   "metadata": {},
   "outputs": [],
   "source": [
    "df_ratings=int_userId_dfRatings(df_ratings)# Convierte userId a entero"
   ]
  },
  {
   "cell_type": "code",
   "execution_count": 21,
   "metadata": {},
   "outputs": [],
   "source": [
    "# Transformamos las variables del dataset df_ratings\n",
    "# Extraemos la longitud de cada title y lo añadimos como nueva variable\n",
    "def lenTitle_dfRatings(df_ratings):\n",
    "    df_ratings_copy=df_ratings.copy()\n",
    "    #Extraemos la longitud de cada uno de los titulos\n",
    "    df_ratings_copy['len_title']=df_ratings_copy['title'].apply(lambda x: len(x))\n",
    "\n",
    "    return df_ratings_copy"
   ]
  },
  {
   "cell_type": "code",
   "execution_count": 22,
   "metadata": {},
   "outputs": [],
   "source": [
    "df_ratings=lenTitle_dfRatings(df_ratings) # Extraemos longitud del titulo"
   ]
  },
  {
   "cell_type": "code",
   "execution_count": 23,
   "metadata": {},
   "outputs": [],
   "source": [
    "# Transformamos las variables del dataset df_ratings\n",
    "# Extraemos  el genero principal de cada movieId (se considera principal al primero que aparece en genres antes del '|')\n",
    "def mainGenre_dfRatings(df_ratings):\n",
    "    df_ratings_copy=df_ratings.copy()\n",
    "    # Extraemos el primer genero de la columna genres y lo almacenamos en una nueva variable\n",
    "    df_ratings_copy['main_genre']=df_ratings_copy['genres'].apply(lambda x: x.split('|')[0])\n",
    "    return df_ratings_copy\n"
   ]
  },
  {
   "cell_type": "code",
   "execution_count": 24,
   "metadata": {},
   "outputs": [],
   "source": [
    "df_ratings=mainGenre_dfRatings(df_ratings) #Extraemos genero principal"
   ]
  },
  {
   "cell_type": "code",
   "execution_count": 26,
   "metadata": {},
   "outputs": [],
   "source": [
    "# Guardamos cambios de datos procesados (esto nos permite un mayor control ante nuevos cambios)\n",
    "df_ratings.to_parquet('../../data/raw/data_model/dataset_process_testV0.1.parquet', index=False)"
   ]
  }
 ],
 "metadata": {
  "kernelspec": {
   "display_name": "Python 3",
   "language": "python",
   "name": "python3"
  },
  "language_info": {
   "codemirror_mode": {
    "name": "ipython",
    "version": 3
   },
   "file_extension": ".py",
   "mimetype": "text/x-python",
   "name": "python",
   "nbconvert_exporter": "python",
   "pygments_lexer": "ipython3",
   "version": "3.11.7"
  }
 },
 "nbformat": 4,
 "nbformat_minor": 2
}
