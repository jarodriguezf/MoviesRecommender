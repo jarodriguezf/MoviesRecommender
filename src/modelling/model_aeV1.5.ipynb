{
 "cells": [
  {
   "cell_type": "code",
   "execution_count": 1,
   "metadata": {},
   "outputs": [
    {
     "name": "stdout",
     "output_type": "stream",
     "text": [
      "WARNING:tensorflow:From c:\\Users\\jarod\\AppData\\Local\\Programs\\Python\\Python311\\Lib\\site-packages\\keras\\src\\losses.py:2976: The name tf.losses.sparse_softmax_cross_entropy is deprecated. Please use tf.compat.v1.losses.sparse_softmax_cross_entropy instead.\n",
      "\n"
     ]
    }
   ],
   "source": [
    "import pandas as pd\n",
    "import numpy as np\n",
    "from automation_process_dataV1_5 import united_functions\n",
    "from sklearn.preprocessing import MinMaxScaler\n",
    "import tensorflow as tf\n",
    "import matplotlib.pyplot as plt"
   ]
  },
  {
   "cell_type": "code",
   "execution_count": 2,
   "metadata": {},
   "outputs": [],
   "source": [
    "df_ = pd.read_parquet('../../data/raw/data_model/dataset_process_trainV1.0.parquet')#Carga de datos "
   ]
  },
  {
   "cell_type": "code",
   "execution_count": 3,
   "metadata": {},
   "outputs": [
    {
     "name": "stdout",
     "output_type": "stream",
     "text": [
      "Entrando a united_functions (script de procesamiento de datos)\n",
      "-Imputer realizado con exito_\n",
      "-Transformacion timestamp realizado con exito_\n",
      "-Extraccion fechas realizado con exito_\n",
      "-Transformas pelculas no vista realizado con exito_\n",
      "-Reseteo indice realizado con exito_\n",
      "-Extraccion año realizado con exito_\n",
      "-Casteo a entero realizado con exito_\n",
      "-Extraccion titulo realizado con exito_\n",
      "-Extraccion genero principal realizado con exito_\n",
      "-Extraccion genero secundario realizado con exito_\n",
      "-Extraccion genero terciario realizado con exito_\n",
      "-Extraccion valoracion rating realizado con exito_\n",
      "-Eliminacion columnas innecesarias realizado con exito_\n",
      "--Fin del procesamiento de datos--\n"
     ]
    }
   ],
   "source": [
    "df_processed = united_functions(df_)# Script de procesamiento de datos"
   ]
  },
  {
   "cell_type": "code",
   "execution_count": 4,
   "metadata": {},
   "outputs": [
    {
     "name": "stdout",
     "output_type": "stream",
     "text": [
      "<class 'pandas.core.frame.DataFrame'>\n",
      "RangeIndex: 15839920 entries, 0 to 15839919\n",
      "Data columns (total 14 columns):\n",
      " #   Column           Dtype  \n",
      "---  ------           -----  \n",
      " 0   userId           int64  \n",
      " 1   movieId          int64  \n",
      " 2   rating           float64\n",
      " 3   tagId            int64  \n",
      " 4   relevance        float64\n",
      " 5   year_rate        int32  \n",
      " 6   month_rate       int32  \n",
      " 7   day_rate         int32  \n",
      " 8   launch_year      int32  \n",
      " 9   len_title        int64  \n",
      " 10  main_genre       object \n",
      " 11  secondary_genre  object \n",
      " 12  third_genre      object \n",
      " 13  valoration       object \n",
      "dtypes: float64(2), int32(4), int64(4), object(4)\n",
      "memory usage: 1.4+ GB\n"
     ]
    }
   ],
   "source": [
    "df_processed.info()"
   ]
  },
  {
   "cell_type": "code",
   "execution_count": 5,
   "metadata": {},
   "outputs": [],
   "source": [
    "# Eliminamos variables userId y movieId, ya que solo entrenaremos lo referente a items (peliculas)\n",
    "def drop_userId(X):\n",
    "    X.drop(['userId', 'movieId'], axis =1, inplace = True)\n",
    "    return X"
   ]
  },
  {
   "cell_type": "code",
   "execution_count": 6,
   "metadata": {},
   "outputs": [],
   "source": [
    "X_set=drop_userId(df_processed)"
   ]
  },
  {
   "cell_type": "code",
   "execution_count": 7,
   "metadata": {},
   "outputs": [],
   "source": [
    "# Normalizamos los valores numericos\n",
    "def normalizer(X):  \n",
    "    # Divide el DataFrame en columnas numéricas y categóricas\n",
    "    columns_numeric = X.select_dtypes(include=['int', 'float']).columns\n",
    "\n",
    "    # normalizacion\n",
    "    scaler = MinMaxScaler()\n",
    "    X[columns_numeric] = scaler.fit_transform(X[columns_numeric])\n",
    "\n",
    "    return X, scaler"
   ]
  },
  {
   "cell_type": "code",
   "execution_count": 8,
   "metadata": {},
   "outputs": [],
   "source": [
    "X_set,scaler=normalizer(X_set)"
   ]
  },
  {
   "cell_type": "code",
   "execution_count": 9,
   "metadata": {},
   "outputs": [],
   "source": [
    "# Codificar a numerico las variables categoricas\n",
    "def categorical_encoder(X):\n",
    "    # Inicializa el mapeo\n",
    "    encoding_mapping = {}\n",
    "\n",
    "    categorical_columns = ['main_genre', 'secondary_genre', 'third_genre', 'valoration']\n",
    "    for column in categorical_columns:\n",
    "        # Convierte la columna a tipo 'category'\n",
    "        X[column] = X[column].astype('category')\n",
    "        # Guarda el mapeo de la codificación\n",
    "        encoding_mapping[column] = dict(enumerate(X[column].cat.categories))\n",
    "        # Aplica la codificación\n",
    "        X[column] = X[column].cat.codes\n",
    "    \n",
    "    return X, encoding_mapping"
   ]
  },
  {
   "cell_type": "code",
   "execution_count": 10,
   "metadata": {},
   "outputs": [],
   "source": [
    "X_set, encoding_mapping=categorical_encoder(X_set)"
   ]
  },
  {
   "cell_type": "markdown",
   "metadata": {},
   "source": [
    "Crear autoencoder V1.5"
   ]
  },
  {
   "cell_type": "code",
   "execution_count": 11,
   "metadata": {},
   "outputs": [],
   "source": [
    "del df_processed\n",
    "del df_"
   ]
  },
  {
   "cell_type": "code",
   "execution_count": 12,
   "metadata": {},
   "outputs": [
    {
     "data": {
      "text/plain": [
       "(15839920, 12)"
      ]
     },
     "execution_count": 12,
     "metadata": {},
     "output_type": "execute_result"
    }
   ],
   "source": [
    "X_set.shape"
   ]
  },
  {
   "cell_type": "code",
   "execution_count": 16,
   "metadata": {},
   "outputs": [],
   "source": [
    "# Arquitectura autoencoder\n",
    "input_size = 12\n",
    "encoder = tf.keras.Sequential([\n",
    "    tf.keras.layers.Dropout(0.2),\n",
    "    tf.keras.layers.Dense(128, activation='relu'),\n",
    "    tf.keras.layers.Dense(64, activation='relu'),\n",
    "    tf.keras.layers.Dense(32, activation='relu')\n",
    "])\n",
    "decoder = tf.keras.Sequential([\n",
    "    tf.keras.layers.Dense(64, activation='relu'),\n",
    "    tf.keras.layers.Dense(128, activation='relu'),\n",
    "    tf.keras.layers.Dense(input_size)\n",
    "])\n",
    "full_ae = tf.keras.Sequential([encoder,decoder])"
   ]
  },
  {
   "cell_type": "code",
   "execution_count": 17,
   "metadata": {},
   "outputs": [],
   "source": [
    "optimizer = tf.keras.optimizers.Adam(learning_rate=0.001)\n",
    "full_ae.compile(loss='mean_squared_error', optimizer=optimizer)# optimizador y funcion de perdida"
   ]
  },
  {
   "cell_type": "code",
   "execution_count": 18,
   "metadata": {},
   "outputs": [
    {
     "name": "stdout",
     "output_type": "stream",
     "text": [
      "Epoch 1/5\n",
      "494998/494998 [==============================] - 1134s 2ms/step - loss: 0.6684\n",
      "Epoch 2/5\n",
      "494998/494998 [==============================] - 1040s 2ms/step - loss: 0.6072\n",
      "Epoch 3/5\n",
      "494998/494998 [==============================] - 998s 2ms/step - loss: 0.5873\n",
      "Epoch 4/5\n",
      "494998/494998 [==============================] - 1000s 2ms/step - loss: 0.5784\n",
      "Epoch 5/5\n",
      "494998/494998 [==============================] - 1020s 2ms/step - loss: 0.5754\n"
     ]
    }
   ],
   "source": [
    "history = full_ae.fit(X_set, X_set, epochs=5, batch_size=32,shuffle=True)"
   ]
  },
  {
   "cell_type": "code",
   "execution_count": 19,
   "metadata": {},
   "outputs": [],
   "source": [
    "# grafico funcion perdida durante entrenamiento\n",
    "def plot_model_loss (history):\n",
    "    plt.plot(history.history['loss'])\n",
    "    plt.title('model loss')\n",
    "    plt.ylabel('loss')\n",
    "    plt.xlabel('epoch')\n",
    "    plt.legend(['train'], loc='upper left')\n",
    "    plt.show()"
   ]
  },
  {
   "cell_type": "code",
   "execution_count": 20,
   "metadata": {},
   "outputs": [
    {
     "data": {
      "image/png": "[encoded data removed]",
      "text/plain": [
       "<Figure size 640x480 with 1 Axes>"
      ]
     },
     "metadata": {},
     "output_type": "display_data"
    }
   ],
   "source": [
    "plot_model_loss (history)"
   ]
  },
  {
   "cell_type": "markdown",
   "metadata": {},
   "source": [
    "Prediccion con conjunto de prueba"
   ]
  },
  {
   "cell_type": "code",
   "execution_count": 21,
   "metadata": {},
   "outputs": [],
   "source": [
    "df_test = pd.read_parquet('../../data/raw/data_model/dataset_process_testV1.0.parquet')#Carga de datos prueba"
   ]
  },
  {
   "cell_type": "code",
   "execution_count": 22,
   "metadata": {},
   "outputs": [
    {
     "name": "stdout",
     "output_type": "stream",
     "text": [
      "Entrando a united_functions (script de procesamiento de datos)\n",
      "-Imputer realizado con exito_\n",
      "-Transformacion timestamp realizado con exito_\n",
      "-Extraccion fechas realizado con exito_\n",
      "-Transformas pelculas no vista realizado con exito_\n",
      "-Reseteo indice realizado con exito_\n",
      "-Extraccion año realizado con exito_\n",
      "-Casteo a entero realizado con exito_\n",
      "-Extraccion titulo realizado con exito_\n",
      "-Extraccion genero principal realizado con exito_\n",
      "-Extraccion genero secundario realizado con exito_\n",
      "-Extraccion genero terciario realizado con exito_\n",
      "-Extraccion valoracion rating realizado con exito_\n",
      "-Eliminacion columnas innecesarias realizado con exito_\n",
      "--Fin del procesamiento de datos--\n"
     ]
    }
   ],
   "source": [
    "df_processed_test = united_functions(df_test)# Script de procesamiento de datos"
   ]
  },
  {
   "cell_type": "code",
   "execution_count": 23,
   "metadata": {},
   "outputs": [],
   "source": [
    "userId=df_processed_test.iloc[:, 0].values # Obtenemos los id correpsondientes a usuarios \n",
    "movieId=df_processed_test.iloc[:, 1] .values# Obtenemos los id correpsondientes a usuarios \n",
    "df_processed_test.drop(['userId', 'movieId'], axis =1, inplace=True)"
   ]
  },
  {
   "cell_type": "code",
   "execution_count": 24,
   "metadata": {},
   "outputs": [],
   "source": [
    "X_test,scaler=normalizer(df_processed_test)# normalizacion\n",
    "X_test, encoding_mapping=categorical_encoder(df_processed_test)# encoder"
   ]
  },
  {
   "cell_type": "code",
   "execution_count": 25,
   "metadata": {},
   "outputs": [
    {
     "name": "stdout",
     "output_type": "stream",
     "text": [
      "123753/123753 [==============================] - 196s 2ms/step - loss: 1.4107\n",
      "Pérdida en el conjunto de prueba: 1.4106700420379639\n"
     ]
    }
   ],
   "source": [
    "test_loss = full_ae.evaluate(X_test, X_test, batch_size=32)\n",
    "print(f\"Pérdida en el conjunto de prueba: {test_loss}\")"
   ]
  },
  {
   "cell_type": "code",
   "execution_count": 26,
   "metadata": {},
   "outputs": [
    {
     "name": "stdout",
     "output_type": "stream",
     "text": [
      "123753/123753 [==============================] - 196s 2ms/step\n"
     ]
    }
   ],
   "source": [
    "prediction_ = full_ae.predict(X_test)# prediccion"
   ]
  },
  {
   "cell_type": "code",
   "execution_count": 27,
   "metadata": {},
   "outputs": [],
   "source": [
    "# transformamos en dataframe la prediccion\n",
    "columns_name = X_test.columns\n",
    "df_prediction = pd.DataFrame(prediction_, columns=columns_name)"
   ]
  },
  {
   "cell_type": "code",
   "execution_count": 28,
   "metadata": {},
   "outputs": [],
   "source": [
    "# Desescalar numericos y aplicar valores categoricos por clave de encoding_mapping\n",
    "def reconvert_types_pred(df, scaler=scaler, encoding_mapping=encoding_mapping):\n",
    "    # Extraigo del df las columnas no entrenadas por el scaler\n",
    "    df_scaler = df.drop(['main_genre','secondary_genre','third_genre','valoration'], axis = 1)\n",
    "\n",
    "    # Aplicar la transformación inversa utilizando el scaler\n",
    "    df[df_scaler.columns]=scaler.inverse_transform(df_scaler)\n",
    "    #Convertir a enteros y float los datos correspondientes numericos\n",
    "    int_values = ['tagId', 'year_rate','month_rate','day_rate','launch_year','len_title']\n",
    "    df[int_values]=df[int_values].astype(int)\n",
    "    df['rating']=round(df['rating'].astype(float),1)\n",
    "    df['relevance']=round(df['relevance'].astype(float),2)\n",
    "    \n",
    "    # Sobrescribir las claves del encoding_mapping por sus valores en el DataFrame\n",
    "    categorical_columns = ['main_genre', 'secondary_genre', 'third_genre', 'valoration']\n",
    "\n",
    "    #convertir a enteros\n",
    "    df[categorical_columns] = df[categorical_columns].astype(int)\n",
    "    # Codificar clave/valor en mapper\n",
    "    for column in categorical_columns:\n",
    "        df[column] = df[column].map(encoding_mapping[column])\n",
    "\n",
    "    return df"
   ]
  },
  {
   "cell_type": "code",
   "execution_count": 29,
   "metadata": {},
   "outputs": [],
   "source": [
    "df_prediction = reconvert_types_pred(df_prediction)# llamada encoding_mapping"
   ]
  },
  {
   "cell_type": "code",
   "execution_count": 30,
   "metadata": {},
   "outputs": [],
   "source": [
    "# Añadimos columnas restantes\n",
    "df_prediction['userId']=userId\n",
    "df_prediction['movieId']=movieId\n",
    "# Movemos a primera posicion\n",
    "movie=df_prediction.pop('movieId')\n",
    "df_prediction.insert(0, 'movieId', movie)\n",
    "# Movemos a primera posicion, reemplazando el movie\n",
    "user=df_prediction.pop('userId')\n",
    "df_prediction.insert(0, 'userId', user)"
   ]
  },
  {
   "cell_type": "code",
   "execution_count": 36,
   "metadata": {},
   "outputs": [
    {
     "data": {
      "text/html": [
       "<div>\n",
       "<style scoped>\n",
       "    .dataframe tbody tr th:only-of-type {\n",
       "        vertical-align: middle;\n",
       "    }\n",
       "\n",
       "    .dataframe tbody tr th {\n",
       "        vertical-align: top;\n",
       "    }\n",
       "\n",
       "    .dataframe thead th {\n",
       "        text-align: right;\n",
       "    }\n",
       "</style>\n",
       "<table border=\"1\" class=\"dataframe\">\n",
       "  <thead>\n",
       "    <tr style=\"text-align: right;\">\n",
       "      <th></th>\n",
       "      <th>userId</th>\n",
       "      <th>movieId</th>\n",
       "      <th>rating</th>\n",
       "      <th>tagId</th>\n",
       "      <th>relevance</th>\n",
       "      <th>year_rate</th>\n",
       "      <th>month_rate</th>\n",
       "      <th>day_rate</th>\n",
       "      <th>launch_year</th>\n",
       "      <th>len_title</th>\n",
       "      <th>main_genre</th>\n",
       "      <th>secondary_genre</th>\n",
       "      <th>third_genre</th>\n",
       "      <th>valoration</th>\n",
       "    </tr>\n",
       "  </thead>\n",
       "  <tbody>\n",
       "    <tr>\n",
       "      <th>780</th>\n",
       "      <td>33</td>\n",
       "      <td>608</td>\n",
       "      <td>3.8</td>\n",
       "      <td>452</td>\n",
       "      <td>0.55</td>\n",
       "      <td>1957</td>\n",
       "      <td>6</td>\n",
       "      <td>11</td>\n",
       "      <td>1991</td>\n",
       "      <td>16</td>\n",
       "      <td>Animation</td>\n",
       "      <td>Children</td>\n",
       "      <td>Drama</td>\n",
       "      <td>excellent</td>\n",
       "    </tr>\n",
       "    <tr>\n",
       "      <th>781</th>\n",
       "      <td>33</td>\n",
       "      <td>1566</td>\n",
       "      <td>1.9</td>\n",
       "      <td>441</td>\n",
       "      <td>0.40</td>\n",
       "      <td>2047</td>\n",
       "      <td>5</td>\n",
       "      <td>10</td>\n",
       "      <td>2009</td>\n",
       "      <td>18</td>\n",
       "      <td>Action</td>\n",
       "      <td>Adventure</td>\n",
       "      <td>Children</td>\n",
       "      <td>bad</td>\n",
       "    </tr>\n",
       "    <tr>\n",
       "      <th>782</th>\n",
       "      <td>33</td>\n",
       "      <td>1732</td>\n",
       "      <td>2.2</td>\n",
       "      <td>437</td>\n",
       "      <td>0.48</td>\n",
       "      <td>2067</td>\n",
       "      <td>6</td>\n",
       "      <td>10</td>\n",
       "      <td>1980</td>\n",
       "      <td>17</td>\n",
       "      <td>Animation</td>\n",
       "      <td>Comedy</td>\n",
       "      <td>Sci-Fi</td>\n",
       "      <td>bad</td>\n",
       "    </tr>\n",
       "    <tr>\n",
       "      <th>783</th>\n",
       "      <td>33</td>\n",
       "      <td>2002</td>\n",
       "      <td>3.6</td>\n",
       "      <td>370</td>\n",
       "      <td>0.34</td>\n",
       "      <td>1909</td>\n",
       "      <td>7</td>\n",
       "      <td>8</td>\n",
       "      <td>2046</td>\n",
       "      <td>17</td>\n",
       "      <td>Action</td>\n",
       "      <td>Children</td>\n",
       "      <td>Comedy</td>\n",
       "      <td>excellent</td>\n",
       "    </tr>\n",
       "    <tr>\n",
       "      <th>784</th>\n",
       "      <td>33</td>\n",
       "      <td>3751</td>\n",
       "      <td>3.8</td>\n",
       "      <td>355</td>\n",
       "      <td>0.74</td>\n",
       "      <td>1958</td>\n",
       "      <td>5</td>\n",
       "      <td>11</td>\n",
       "      <td>2008</td>\n",
       "      <td>12</td>\n",
       "      <td>Adventure</td>\n",
       "      <td>Animation</td>\n",
       "      <td>Comedy</td>\n",
       "      <td>excellent</td>\n",
       "    </tr>\n",
       "  </tbody>\n",
       "</table>\n",
       "</div>"
      ],
      "text/plain": [
       "     userId  movieId  rating  tagId  relevance  year_rate  month_rate  \\\n",
       "780      33      608     3.8    452       0.55       1957           6   \n",
       "781      33     1566     1.9    441       0.40       2047           5   \n",
       "782      33     1732     2.2    437       0.48       2067           6   \n",
       "783      33     2002     3.6    370       0.34       1909           7   \n",
       "784      33     3751     3.8    355       0.74       1958           5   \n",
       "\n",
       "     day_rate  launch_year  len_title main_genre secondary_genre third_genre  \\\n",
       "780        11         1991         16  Animation        Children       Drama   \n",
       "781        10         2009         18     Action       Adventure    Children   \n",
       "782        10         1980         17  Animation          Comedy      Sci-Fi   \n",
       "783         8         2046         17     Action        Children      Comedy   \n",
       "784        11         2008         12  Adventure       Animation      Comedy   \n",
       "\n",
       "    valoration  \n",
       "780  excellent  \n",
       "781        bad  \n",
       "782        bad  \n",
       "783  excellent  \n",
       "784  excellent  "
      ]
     },
     "execution_count": 36,
     "metadata": {},
     "output_type": "execute_result"
    }
   ],
   "source": [
    "df_prediction[df_prediction['userId']==33].head()"
   ]
  }
 ],
 "metadata": {
  "kernelspec": {
   "display_name": "Python 3",
   "language": "python",
   "name": "python3"
  },
  "language_info": {
   "codemirror_mode": {
    "name": "ipython",
    "version": 3
   },
   "file_extension": ".py",
   "mimetype": "text/x-python",
   "name": "python",
   "nbconvert_exporter": "python",
   "pygments_lexer": "ipython3",
   "version": "3.11.7"
  }
 },
 "nbformat": 4,
 "nbformat_minor": 2
}
