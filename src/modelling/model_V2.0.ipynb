{
 "cells": [
  {
   "cell_type": "code",
   "execution_count": 1,
   "metadata": {},
   "outputs": [],
   "source": [
    "import pandas as pd\n",
    "import numpy as np\n",
    "from automation_process_dataV2 import united_functions\n",
    "import matplotlib.pyplot as plt\n",
    "from sklearn.metrics.pairwise import cosine_similarity\n",
    "from sklearn.model_selection import train_test_split"
   ]
  },
  {
   "cell_type": "code",
   "execution_count": 2,
   "metadata": {},
   "outputs": [],
   "source": [
    "df_rating = pd.read_parquet('../../data/raw/data_model/ratings_train05.parquet')#Carga de datos"
   ]
  },
  {
   "cell_type": "code",
   "execution_count": 3,
   "metadata": {},
   "outputs": [],
   "source": [
    "# muestrear 0.5% de regitros\n",
    "_, subset_rating = train_test_split(df_rating, test_size=0.005, random_state=111)"
   ]
  },
  {
   "cell_type": "code",
   "execution_count": 4,
   "metadata": {},
   "outputs": [],
   "source": [
    "# Guardar muestra para aplicarla en la app final\n",
    "subset_rating.to_parquet('../../data/raw/data_model/final_data_used/subset_splitV2.parquet')"
   ]
  },
  {
   "cell_type": "code",
   "execution_count": 5,
   "metadata": {},
   "outputs": [],
   "source": [
    "subset_rating.reset_index(inplace=True, drop=True)"
   ]
  },
  {
   "cell_type": "code",
   "execution_count": 6,
   "metadata": {},
   "outputs": [
    {
     "data": {
      "text/plain": [
       "(5001, 6)"
      ]
     },
     "execution_count": 6,
     "metadata": {},
     "output_type": "execute_result"
    }
   ],
   "source": [
    "subset_rating.shape"
   ]
  },
  {
   "cell_type": "code",
   "execution_count": 7,
   "metadata": {},
   "outputs": [
    {
     "name": "stdout",
     "output_type": "stream",
     "text": [
      "INICIANDO PROCESAMIENTO DE DATOS...\n",
      "- Eliminacion de nulos..\n",
      "- Eliminando variables no necesarias...\n",
      "- Extrayendo año del titulo...\n",
      "- Almacenando en variable copia del df original...\n",
      "- Extraemos los generos de cada pelicula...\n",
      "- Eliminamos variables no necesarias...\n",
      "- Codificamos los generos y normalizamos para su correcto formato...\n",
      "FIN DE PROCESAMIENTO DE DATOS\n"
     ]
    }
   ],
   "source": [
    "df_processed, list_user_movies= united_functions(subset_rating)# Script de procesamiento de datos y retorno de titulo con id"
   ]
  },
  {
   "cell_type": "code",
   "execution_count": 8,
   "metadata": {},
   "outputs": [
    {
     "data": {
      "text/plain": [
       "(5001, 21)"
      ]
     },
     "execution_count": 8,
     "metadata": {},
     "output_type": "execute_result"
    }
   ],
   "source": [
    "df_processed.shape"
   ]
  },
  {
   "cell_type": "code",
   "execution_count": 11,
   "metadata": {},
   "outputs": [],
   "source": [
    "# Guardar resutado de procesamiento para aplicarla en la app final\n",
    "df_processed.to_csv('../../data/raw/data_model/final_data_used/process_splitV2.csv', index=False)\n",
    "list_user_movies.to_csv('../../data/raw/data_model/final_data_used/list_user_moviesV2.csv', index=False)"
   ]
  },
  {
   "cell_type": "code",
   "execution_count": 12,
   "metadata": {},
   "outputs": [],
   "source": [
    "# Diccionario de list_user_movies\n",
    "dicc_user_movies = {'userId':list_user_movies['userId'], 'movieId':list_user_movies['movieId'], 'title':list_user_movies['title']}"
   ]
  },
  {
   "cell_type": "markdown",
   "metadata": {},
   "source": [
    "Similitud del coseno (compara cada pelicula con todas las encontradas)"
   ]
  },
  {
   "cell_type": "code",
   "execution_count": 13,
   "metadata": {},
   "outputs": [],
   "source": [
    "simil_cosine=cosine_similarity(df_processed)# calculo de similitus del coseno"
   ]
  },
  {
   "cell_type": "code",
   "execution_count": 14,
   "metadata": {},
   "outputs": [],
   "source": [
    "# Rellenamos la diagonal con NaN y convertimos a dataframe\n",
    "np.fill_diagonal(simil_cosine, np.nan)\n",
    "df_similCosine = pd.DataFrame(simil_cosine)"
   ]
  },
  {
   "cell_type": "code",
   "execution_count": 15,
   "metadata": {},
   "outputs": [
    {
     "data": {
      "text/html": [
       "<div>\n",
       "<style scoped>\n",
       "    .dataframe tbody tr th:only-of-type {\n",
       "        vertical-align: middle;\n",
       "    }\n",
       "\n",
       "    .dataframe tbody tr th {\n",
       "        vertical-align: top;\n",
       "    }\n",
       "\n",
       "    .dataframe thead th {\n",
       "        text-align: right;\n",
       "    }\n",
       "</style>\n",
       "<table border=\"1\" class=\"dataframe\">\n",
       "  <thead>\n",
       "    <tr style=\"text-align: right;\">\n",
       "      <th></th>\n",
       "      <th>0</th>\n",
       "      <th>1</th>\n",
       "      <th>2</th>\n",
       "      <th>3</th>\n",
       "      <th>4</th>\n",
       "      <th>5</th>\n",
       "      <th>6</th>\n",
       "      <th>7</th>\n",
       "      <th>8</th>\n",
       "      <th>9</th>\n",
       "      <th>...</th>\n",
       "      <th>4991</th>\n",
       "      <th>4992</th>\n",
       "      <th>4993</th>\n",
       "      <th>4994</th>\n",
       "      <th>4995</th>\n",
       "      <th>4996</th>\n",
       "      <th>4997</th>\n",
       "      <th>4998</th>\n",
       "      <th>4999</th>\n",
       "      <th>5000</th>\n",
       "    </tr>\n",
       "  </thead>\n",
       "  <tbody>\n",
       "    <tr>\n",
       "      <th>0</th>\n",
       "      <td>NaN</td>\n",
       "      <td>0.843520</td>\n",
       "      <td>0.600872</td>\n",
       "      <td>0.288845</td>\n",
       "      <td>0.538716</td>\n",
       "      <td>0.483019</td>\n",
       "      <td>0.702642</td>\n",
       "      <td>0.590991</td>\n",
       "      <td>0.847506</td>\n",
       "      <td>0.497009</td>\n",
       "      <td>...</td>\n",
       "      <td>0.635295</td>\n",
       "      <td>0.563602</td>\n",
       "      <td>0.614177</td>\n",
       "      <td>0.364697</td>\n",
       "      <td>0.583594</td>\n",
       "      <td>0.542506</td>\n",
       "      <td>0.543597</td>\n",
       "      <td>0.702642</td>\n",
       "      <td>0.337237</td>\n",
       "      <td>0.475542</td>\n",
       "    </tr>\n",
       "    <tr>\n",
       "      <th>1</th>\n",
       "      <td>0.843520</td>\n",
       "      <td>NaN</td>\n",
       "      <td>0.726251</td>\n",
       "      <td>0.309750</td>\n",
       "      <td>0.638247</td>\n",
       "      <td>0.291717</td>\n",
       "      <td>0.821787</td>\n",
       "      <td>0.349481</td>\n",
       "      <td>0.990687</td>\n",
       "      <td>0.588802</td>\n",
       "      <td>...</td>\n",
       "      <td>0.340158</td>\n",
       "      <td>0.661471</td>\n",
       "      <td>0.378941</td>\n",
       "      <td>0.409325</td>\n",
       "      <td>0.684010</td>\n",
       "      <td>0.329371</td>\n",
       "      <td>0.289596</td>\n",
       "      <td>0.821787</td>\n",
       "      <td>0.354283</td>\n",
       "      <td>0.511865</td>\n",
       "    </tr>\n",
       "    <tr>\n",
       "      <th>2</th>\n",
       "      <td>0.600872</td>\n",
       "      <td>0.726251</td>\n",
       "      <td>NaN</td>\n",
       "      <td>0.166347</td>\n",
       "      <td>0.502494</td>\n",
       "      <td>0.150260</td>\n",
       "      <td>0.603828</td>\n",
       "      <td>0.187374</td>\n",
       "      <td>0.721732</td>\n",
       "      <td>0.424651</td>\n",
       "      <td>...</td>\n",
       "      <td>0.216809</td>\n",
       "      <td>0.513020</td>\n",
       "      <td>0.211906</td>\n",
       "      <td>0.191095</td>\n",
       "      <td>0.519683</td>\n",
       "      <td>0.180307</td>\n",
       "      <td>0.148670</td>\n",
       "      <td>0.603828</td>\n",
       "      <td>0.201863</td>\n",
       "      <td>0.271890</td>\n",
       "    </tr>\n",
       "    <tr>\n",
       "      <th>3</th>\n",
       "      <td>0.288845</td>\n",
       "      <td>0.309750</td>\n",
       "      <td>0.166347</td>\n",
       "      <td>NaN</td>\n",
       "      <td>0.167459</td>\n",
       "      <td>0.543172</td>\n",
       "      <td>0.264610</td>\n",
       "      <td>0.665741</td>\n",
       "      <td>0.324641</td>\n",
       "      <td>0.549462</td>\n",
       "      <td>...</td>\n",
       "      <td>0.212583</td>\n",
       "      <td>0.418075</td>\n",
       "      <td>0.450183</td>\n",
       "      <td>0.592248</td>\n",
       "      <td>0.204681</td>\n",
       "      <td>0.399952</td>\n",
       "      <td>0.649301</td>\n",
       "      <td>0.264610</td>\n",
       "      <td>0.440071</td>\n",
       "      <td>0.624581</td>\n",
       "    </tr>\n",
       "    <tr>\n",
       "      <th>4</th>\n",
       "      <td>0.538716</td>\n",
       "      <td>0.638247</td>\n",
       "      <td>0.502494</td>\n",
       "      <td>0.167459</td>\n",
       "      <td>NaN</td>\n",
       "      <td>0.146580</td>\n",
       "      <td>0.542783</td>\n",
       "      <td>0.188401</td>\n",
       "      <td>0.648305</td>\n",
       "      <td>0.585161</td>\n",
       "      <td>...</td>\n",
       "      <td>0.243236</td>\n",
       "      <td>0.730695</td>\n",
       "      <td>0.219470</td>\n",
       "      <td>0.171351</td>\n",
       "      <td>0.468416</td>\n",
       "      <td>0.184018</td>\n",
       "      <td>0.144650</td>\n",
       "      <td>0.542783</td>\n",
       "      <td>0.211701</td>\n",
       "      <td>0.271513</td>\n",
       "    </tr>\n",
       "    <tr>\n",
       "      <th>...</th>\n",
       "      <td>...</td>\n",
       "      <td>...</td>\n",
       "      <td>...</td>\n",
       "      <td>...</td>\n",
       "      <td>...</td>\n",
       "      <td>...</td>\n",
       "      <td>...</td>\n",
       "      <td>...</td>\n",
       "      <td>...</td>\n",
       "      <td>...</td>\n",
       "      <td>...</td>\n",
       "      <td>...</td>\n",
       "      <td>...</td>\n",
       "      <td>...</td>\n",
       "      <td>...</td>\n",
       "      <td>...</td>\n",
       "      <td>...</td>\n",
       "      <td>...</td>\n",
       "      <td>...</td>\n",
       "      <td>...</td>\n",
       "      <td>...</td>\n",
       "    </tr>\n",
       "    <tr>\n",
       "      <th>4996</th>\n",
       "      <td>0.542506</td>\n",
       "      <td>0.329371</td>\n",
       "      <td>0.180307</td>\n",
       "      <td>0.399952</td>\n",
       "      <td>0.184018</td>\n",
       "      <td>0.727130</td>\n",
       "      <td>0.285647</td>\n",
       "      <td>0.672131</td>\n",
       "      <td>0.349585</td>\n",
       "      <td>0.554744</td>\n",
       "      <td>...</td>\n",
       "      <td>0.739922</td>\n",
       "      <td>0.207153</td>\n",
       "      <td>0.680092</td>\n",
       "      <td>0.248902</td>\n",
       "      <td>0.445760</td>\n",
       "      <td>NaN</td>\n",
       "      <td>0.650533</td>\n",
       "      <td>0.285647</td>\n",
       "      <td>0.454871</td>\n",
       "      <td>0.329371</td>\n",
       "    </tr>\n",
       "    <tr>\n",
       "      <th>4997</th>\n",
       "      <td>0.543597</td>\n",
       "      <td>0.289596</td>\n",
       "      <td>0.148670</td>\n",
       "      <td>0.649301</td>\n",
       "      <td>0.144650</td>\n",
       "      <td>0.812346</td>\n",
       "      <td>0.238834</td>\n",
       "      <td>0.993233</td>\n",
       "      <td>0.294749</td>\n",
       "      <td>0.386872</td>\n",
       "      <td>...</td>\n",
       "      <td>0.471421</td>\n",
       "      <td>0.162515</td>\n",
       "      <td>0.720821</td>\n",
       "      <td>0.245534</td>\n",
       "      <td>0.179968</td>\n",
       "      <td>0.650533</td>\n",
       "      <td>NaN</td>\n",
       "      <td>0.238834</td>\n",
       "      <td>0.193194</td>\n",
       "      <td>0.289596</td>\n",
       "    </tr>\n",
       "    <tr>\n",
       "      <th>4998</th>\n",
       "      <td>0.702642</td>\n",
       "      <td>0.821787</td>\n",
       "      <td>0.603828</td>\n",
       "      <td>0.264610</td>\n",
       "      <td>0.542783</td>\n",
       "      <td>0.241209</td>\n",
       "      <td>0.691175</td>\n",
       "      <td>0.298165</td>\n",
       "      <td>0.830999</td>\n",
       "      <td>0.482972</td>\n",
       "      <td>...</td>\n",
       "      <td>0.333215</td>\n",
       "      <td>0.566051</td>\n",
       "      <td>0.334210</td>\n",
       "      <td>0.313796</td>\n",
       "      <td>0.581445</td>\n",
       "      <td>0.285647</td>\n",
       "      <td>0.238834</td>\n",
       "      <td>NaN</td>\n",
       "      <td>0.317141</td>\n",
       "      <td>0.433524</td>\n",
       "    </tr>\n",
       "    <tr>\n",
       "      <th>4999</th>\n",
       "      <td>0.337237</td>\n",
       "      <td>0.354283</td>\n",
       "      <td>0.201863</td>\n",
       "      <td>0.440071</td>\n",
       "      <td>0.211701</td>\n",
       "      <td>0.195313</td>\n",
       "      <td>0.592314</td>\n",
       "      <td>0.244335</td>\n",
       "      <td>0.386158</td>\n",
       "      <td>0.610995</td>\n",
       "      <td>...</td>\n",
       "      <td>0.286219</td>\n",
       "      <td>0.490946</td>\n",
       "      <td>0.277212</td>\n",
       "      <td>0.630310</td>\n",
       "      <td>0.750582</td>\n",
       "      <td>0.454871</td>\n",
       "      <td>0.193194</td>\n",
       "      <td>0.317141</td>\n",
       "      <td>NaN</td>\n",
       "      <td>0.700238</td>\n",
       "    </tr>\n",
       "    <tr>\n",
       "      <th>5000</th>\n",
       "      <td>0.475542</td>\n",
       "      <td>0.511865</td>\n",
       "      <td>0.271890</td>\n",
       "      <td>0.624581</td>\n",
       "      <td>0.271513</td>\n",
       "      <td>0.291717</td>\n",
       "      <td>0.433524</td>\n",
       "      <td>0.349481</td>\n",
       "      <td>0.532634</td>\n",
       "      <td>0.588802</td>\n",
       "      <td>...</td>\n",
       "      <td>0.340158</td>\n",
       "      <td>0.661471</td>\n",
       "      <td>0.378941</td>\n",
       "      <td>0.951153</td>\n",
       "      <td>0.333250</td>\n",
       "      <td>0.329371</td>\n",
       "      <td>0.289596</td>\n",
       "      <td>0.433524</td>\n",
       "      <td>0.700238</td>\n",
       "      <td>NaN</td>\n",
       "    </tr>\n",
       "  </tbody>\n",
       "</table>\n",
       "<p>5001 rows × 5001 columns</p>\n",
       "</div>"
      ],
      "text/plain": [
       "          0         1         2         3         4         5         6     \\\n",
       "0          NaN  0.843520  0.600872  0.288845  0.538716  0.483019  0.702642   \n",
       "1     0.843520       NaN  0.726251  0.309750  0.638247  0.291717  0.821787   \n",
       "2     0.600872  0.726251       NaN  0.166347  0.502494  0.150260  0.603828   \n",
       "3     0.288845  0.309750  0.166347       NaN  0.167459  0.543172  0.264610   \n",
       "4     0.538716  0.638247  0.502494  0.167459       NaN  0.146580  0.542783   \n",
       "...        ...       ...       ...       ...       ...       ...       ...   \n",
       "4996  0.542506  0.329371  0.180307  0.399952  0.184018  0.727130  0.285647   \n",
       "4997  0.543597  0.289596  0.148670  0.649301  0.144650  0.812346  0.238834   \n",
       "4998  0.702642  0.821787  0.603828  0.264610  0.542783  0.241209  0.691175   \n",
       "4999  0.337237  0.354283  0.201863  0.440071  0.211701  0.195313  0.592314   \n",
       "5000  0.475542  0.511865  0.271890  0.624581  0.271513  0.291717  0.433524   \n",
       "\n",
       "          7         8         9     ...      4991      4992      4993  \\\n",
       "0     0.590991  0.847506  0.497009  ...  0.635295  0.563602  0.614177   \n",
       "1     0.349481  0.990687  0.588802  ...  0.340158  0.661471  0.378941   \n",
       "2     0.187374  0.721732  0.424651  ...  0.216809  0.513020  0.211906   \n",
       "3     0.665741  0.324641  0.549462  ...  0.212583  0.418075  0.450183   \n",
       "4     0.188401  0.648305  0.585161  ...  0.243236  0.730695  0.219470   \n",
       "...        ...       ...       ...  ...       ...       ...       ...   \n",
       "4996  0.672131  0.349585  0.554744  ...  0.739922  0.207153  0.680092   \n",
       "4997  0.993233  0.294749  0.386872  ...  0.471421  0.162515  0.720821   \n",
       "4998  0.298165  0.830999  0.482972  ...  0.333215  0.566051  0.334210   \n",
       "4999  0.244335  0.386158  0.610995  ...  0.286219  0.490946  0.277212   \n",
       "5000  0.349481  0.532634  0.588802  ...  0.340158  0.661471  0.378941   \n",
       "\n",
       "          4994      4995      4996      4997      4998      4999      5000  \n",
       "0     0.364697  0.583594  0.542506  0.543597  0.702642  0.337237  0.475542  \n",
       "1     0.409325  0.684010  0.329371  0.289596  0.821787  0.354283  0.511865  \n",
       "2     0.191095  0.519683  0.180307  0.148670  0.603828  0.201863  0.271890  \n",
       "3     0.592248  0.204681  0.399952  0.649301  0.264610  0.440071  0.624581  \n",
       "4     0.171351  0.468416  0.184018  0.144650  0.542783  0.211701  0.271513  \n",
       "...        ...       ...       ...       ...       ...       ...       ...  \n",
       "4996  0.248902  0.445760       NaN  0.650533  0.285647  0.454871  0.329371  \n",
       "4997  0.245534  0.179968  0.650533       NaN  0.238834  0.193194  0.289596  \n",
       "4998  0.313796  0.581445  0.285647  0.238834       NaN  0.317141  0.433524  \n",
       "4999  0.630310  0.750582  0.454871  0.193194  0.317141       NaN  0.700238  \n",
       "5000  0.951153  0.333250  0.329371  0.289596  0.433524  0.700238       NaN  \n",
       "\n",
       "[5001 rows x 5001 columns]"
      ]
     },
     "execution_count": 15,
     "metadata": {},
     "output_type": "execute_result"
    }
   ],
   "source": [
    "df_similCosine"
   ]
  },
  {
   "cell_type": "code",
   "execution_count": 16,
   "metadata": {},
   "outputs": [],
   "source": [
    "# Guardar matriz similitudes coseno\n",
    "df_similCosine.to_csv('cosine_csv/df_similCosineV2.csv', index=False)"
   ]
  },
  {
   "cell_type": "markdown",
   "metadata": {},
   "source": [
    "Logica que implementa la recomendacion en base a un usuario y pelicula vista"
   ]
  },
  {
   "cell_type": "code",
   "execution_count": 16,
   "metadata": {},
   "outputs": [],
   "source": [
    "def comprobar_existencia(diccionario, movie_id, user_id):    \n",
    "    for i in range(len(diccionario['userId'])):\n",
    "        if diccionario['userId'].iloc[i] == user_id and diccionario['movieId'].iloc[i] == movie_id:\n",
    "            return True\n",
    "    return False"
   ]
  },
  {
   "cell_type": "code",
   "execution_count": 17,
   "metadata": {},
   "outputs": [],
   "source": [
    "def obtener_index_movieId(diccionario, movie_id):\n",
    "    for i in range(len(diccionario['movieId'])):\n",
    "        if diccionario['movieId'].iloc[i]==movie_id:\n",
    "            index = i\n",
    "            break\n",
    "    return index"
   ]
  },
  {
   "cell_type": "code",
   "execution_count": 18,
   "metadata": {},
   "outputs": [],
   "source": [
    "def get_title_from_movieId(user_id ,diccionario):\n",
    "    index = diccionario['userId'].loc[diccionario['userId'] == user_id].index\n",
    "    # Obtén los títulos de las películas\n",
    "    titles_saws = diccionario['title'].loc[index]\n",
    "    return titles_saws"
   ]
  },
  {
   "cell_type": "code",
   "execution_count": 19,
   "metadata": {},
   "outputs": [],
   "source": [
    "# Funcion de recomendacion para un usuario y pelicula\n",
    "def get_recommendations(user_id, movie_id,dicc_user_movies=dicc_user_movies, simil_cosine=df_similCosine, threshold=0.7):\n",
    "    #Comprobamos que el usuario para la pelicula dada existe\n",
    "    comprobar_user_movie_exist=comprobar_existencia(dicc_user_movies, movie_id, user_id)\n",
    "\n",
    "    if comprobar_user_movie_exist:\n",
    "       #Obtener indice de la pelicula dada\n",
    "        index=obtener_index_movieId(dicc_user_movies, movie_id)\n",
    "\n",
    "        # Obtén la lista de similitudes del coseno para una película y usuario dada\n",
    "        cosine_sim_list = simil_cosine.iloc[index]\n",
    "        \n",
    "        # Ordena las películas en función de la similitud del coseno\n",
    "        most_similar_movies_sorted=cosine_sim_list.sort_values(ascending=False)\n",
    "\n",
    "        # Obtiene los índices de las 5 películas más similares superior al umbral \n",
    "        most_similar_movies = most_similar_movies_sorted[most_similar_movies_sorted > threshold][:5].index\n",
    "\n",
    "        # Obtiene los títulos de las películas más similares\n",
    "        most_similar_movie_titles = list(set([dicc_user_movies['title'][id] for id in most_similar_movies if id in dicc_user_movies['title']]))\n",
    "        \n",
    "        # Obtener los titulos de todas las peliculas vistas por el usuario\n",
    "        titles_saws = get_title_from_movieId(user_id ,dicc_user_movies)\n",
    "        titles_saws = list(titles_saws)\n",
    "        \n",
    "        # Pelicula actual pasada por parametros (title)\n",
    "        actual_title = dicc_user_movies['movieId'].loc[dicc_user_movies['movieId'] == movie_id].index[0]\n",
    "\n",
    "        print('Porque has visto:',dicc_user_movies['title'].loc[actual_title])\n",
    "        \n",
    "        # Filtra las películas recomendadas para excluir las que el usuario ya ha visto\n",
    "        recommended_movies = [movie for movie in most_similar_movie_titles if movie not in titles_saws]\n",
    "\n",
    "        # Si las peliculas se devuelven vacias se retorna la condicion\n",
    "        if not recommended_movies:\n",
    "            return 'No se encontro una pelicula lo suficientemente significativa para recomendar'\n",
    "        print('Recomendamos:')\n",
    "        return recommended_movies\n",
    "    else: \n",
    "        return 'No se encontro usuario para pelicula dada'\n",
    "        "
   ]
  },
  {
   "cell_type": "code",
   "execution_count": 21,
   "metadata": {},
   "outputs": [
    {
     "name": "stdout",
     "output_type": "stream",
     "text": [
      "Porque has visto: Hitchhiker's Guide to the Galaxy, The\n",
      "Recomendamos:\n"
     ]
    },
    {
     "data": {
      "text/plain": [
       "['Galaxy Quest',\n",
       " \"Bill & Ted's Excellent Adventure\",\n",
       " 'Back to the Future Part II']"
      ]
     },
     "execution_count": 21,
     "metadata": {},
     "output_type": "execute_result"
    }
   ],
   "source": [
    "result_recommendation=get_recommendations(47985,33004)#userId, movieId\n",
    "result_recommendation"
   ]
  },
  {
   "cell_type": "markdown",
   "metadata": {},
   "source": [
    "Podemos ver que para la pelicula Hitchhiker's Guide to the Galaxy, The (cuyo genero es comedia/ciencia ficcion lanzada en el 2005), \n",
    "\n",
    "se recomiendan tres peliculas de comedia/ciencia, ambas lanzadas en años similares."
   ]
  },
  {
   "cell_type": "code",
   "execution_count": 20,
   "metadata": {},
   "outputs": [
    {
     "data": {
      "text/html": [
       "<div>\n",
       "<style scoped>\n",
       "    .dataframe tbody tr th:only-of-type {\n",
       "        vertical-align: middle;\n",
       "    }\n",
       "\n",
       "    .dataframe tbody tr th {\n",
       "        vertical-align: top;\n",
       "    }\n",
       "\n",
       "    .dataframe thead th {\n",
       "        text-align: right;\n",
       "    }\n",
       "</style>\n",
       "<table border=\"1\" class=\"dataframe\">\n",
       "  <thead>\n",
       "    <tr style=\"text-align: right;\">\n",
       "      <th></th>\n",
       "      <th>userId</th>\n",
       "      <th>movieId</th>\n",
       "      <th>rating</th>\n",
       "      <th>title</th>\n",
       "    </tr>\n",
       "  </thead>\n",
       "  <tbody>\n",
       "    <tr>\n",
       "      <th>1991</th>\n",
       "      <td>47985.0</td>\n",
       "      <td>33004</td>\n",
       "      <td>4.5</td>\n",
       "      <td>Hitchhiker's Guide to the Galaxy, The</td>\n",
       "    </tr>\n",
       "    <tr>\n",
       "      <th>1992</th>\n",
       "      <td>116941.0</td>\n",
       "      <td>5401</td>\n",
       "      <td>4.0</td>\n",
       "      <td>Undercover Brother</td>\n",
       "    </tr>\n",
       "    <tr>\n",
       "      <th>1993</th>\n",
       "      <td>7405.0</td>\n",
       "      <td>2826</td>\n",
       "      <td>2.0</td>\n",
       "      <td>13th Warrior, The</td>\n",
       "    </tr>\n",
       "    <tr>\n",
       "      <th>1994</th>\n",
       "      <td>87208.0</td>\n",
       "      <td>2762</td>\n",
       "      <td>5.0</td>\n",
       "      <td>Sixth Sense, The</td>\n",
       "    </tr>\n",
       "    <tr>\n",
       "      <th>1995</th>\n",
       "      <td>53360.0</td>\n",
       "      <td>1617</td>\n",
       "      <td>5.0</td>\n",
       "      <td>L.A. Confidential</td>\n",
       "    </tr>\n",
       "    <tr>\n",
       "      <th>1996</th>\n",
       "      <td>83373.0</td>\n",
       "      <td>2206</td>\n",
       "      <td>3.5</td>\n",
       "      <td>Suspicion</td>\n",
       "    </tr>\n",
       "    <tr>\n",
       "      <th>1997</th>\n",
       "      <td>104655.0</td>\n",
       "      <td>2193</td>\n",
       "      <td>3.0</td>\n",
       "      <td>Willow</td>\n",
       "    </tr>\n",
       "    <tr>\n",
       "      <th>1998</th>\n",
       "      <td>50541.0</td>\n",
       "      <td>3081</td>\n",
       "      <td>3.5</td>\n",
       "      <td>Sleepy Hollow</td>\n",
       "    </tr>\n",
       "    <tr>\n",
       "      <th>1999</th>\n",
       "      <td>11984.0</td>\n",
       "      <td>700</td>\n",
       "      <td>3.0</td>\n",
       "      <td>Angus</td>\n",
       "    </tr>\n",
       "    <tr>\n",
       "      <th>2000</th>\n",
       "      <td>27783.0</td>\n",
       "      <td>1245</td>\n",
       "      <td>5.0</td>\n",
       "      <td>Miller's Crossing</td>\n",
       "    </tr>\n",
       "  </tbody>\n",
       "</table>\n",
       "</div>"
      ],
      "text/plain": [
       "        userId  movieId  rating                                  title\n",
       "1991   47985.0    33004     4.5  Hitchhiker's Guide to the Galaxy, The\n",
       "1992  116941.0     5401     4.0                     Undercover Brother\n",
       "1993    7405.0     2826     2.0                      13th Warrior, The\n",
       "1994   87208.0     2762     5.0                       Sixth Sense, The\n",
       "1995   53360.0     1617     5.0                      L.A. Confidential\n",
       "1996   83373.0     2206     3.5                              Suspicion\n",
       "1997  104655.0     2193     3.0                                 Willow\n",
       "1998   50541.0     3081     3.5                          Sleepy Hollow\n",
       "1999   11984.0      700     3.0                                  Angus\n",
       "2000   27783.0     1245     5.0                      Miller's Crossing"
      ]
     },
     "execution_count": 20,
     "metadata": {},
     "output_type": "execute_result"
    }
   ],
   "source": [
    "list_user_movies.tail(10)"
   ]
  },
  {
   "cell_type": "code",
   "execution_count": 17,
   "metadata": {},
   "outputs": [],
   "source": [
    "# Buscar usuarios \n",
    "def movies_peruser(idUser):    \n",
    "    print(list_user_movies[list_user_movies['userId']==idUser])"
   ]
  },
  {
   "cell_type": "code",
   "execution_count": 24,
   "metadata": {},
   "outputs": [
    {
     "name": "stdout",
     "output_type": "stream",
     "text": [
      "         userId  movieId  rating             title\n",
      "19995  136540.0       36     3.0  Dead Man Walking\n"
     ]
    }
   ],
   "source": [
    "movies_peruser(136540)"
   ]
  }
 ],
 "metadata": {
  "kernelspec": {
   "display_name": "Python 3",
   "language": "python",
   "name": "python3"
  },
  "language_info": {
   "codemirror_mode": {
    "name": "ipython",
    "version": 3
   },
   "file_extension": ".py",
   "mimetype": "text/x-python",
   "name": "python",
   "nbconvert_exporter": "python",
   "pygments_lexer": "ipython3",
   "version": "3.11.7"
  }
 },
 "nbformat": 4,
 "nbformat_minor": 2
}
