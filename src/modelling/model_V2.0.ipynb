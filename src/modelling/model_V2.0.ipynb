{
 "cells": [
  {
   "cell_type": "code",
   "execution_count": 2,
   "metadata": {},
   "outputs": [],
   "source": [
    "import pandas as pd\n",
    "import numpy as np\n",
    "from automation_process_dataV2 import united_functions\n",
    "import matplotlib.pyplot as plt\n",
    "from sklearn.metrics.pairwise import cosine_similarity\n",
    "from sklearn.model_selection import train_test_split"
   ]
  },
  {
   "cell_type": "code",
   "execution_count": 3,
   "metadata": {},
   "outputs": [],
   "source": [
    "df_rating = pd.read_parquet('../../data/raw/data_model/ratings_train05.parquet')#Carga de datos"
   ]
  },
  {
   "cell_type": "code",
   "execution_count": 4,
   "metadata": {},
   "outputs": [],
   "source": [
    "# muestrear 2% de regitros\n",
    "_, subset_rating = train_test_split(df_rating, test_size=0.02, random_state=111)"
   ]
  },
  {
   "cell_type": "code",
   "execution_count": 5,
   "metadata": {},
   "outputs": [],
   "source": [
    "subset_rating.reset_index(inplace=True, drop=True)"
   ]
  },
  {
   "cell_type": "code",
   "execution_count": 6,
   "metadata": {},
   "outputs": [
    {
     "data": {
      "text/plain": [
       "(20001, 6)"
      ]
     },
     "execution_count": 6,
     "metadata": {},
     "output_type": "execute_result"
    }
   ],
   "source": [
    "subset_rating.shape"
   ]
  },
  {
   "cell_type": "code",
   "execution_count": 7,
   "metadata": {},
   "outputs": [
    {
     "name": "stdout",
     "output_type": "stream",
     "text": [
      "INICIANDO PROCESAMIENTO DE DATOS...\n",
      "- procesando tags y fusionando datasets..\n",
      "- Eliminacion de nulos..\n",
      "- Eliminando variables no necesarias...\n",
      "- Extrayendo año del titulo...\n",
      "- Almacenando en variable copia del df original...\n",
      "- Extraemos los generos de cada pelicula...\n",
      "- Eliminamos variables no necesarias...\n",
      "- Codificamos los generos y normalizamos para su correcto formato...\n",
      "FIN DE PROCESAMIENTO DE DATOS\n"
     ]
    }
   ],
   "source": [
    "df_processed, list_user_movies= united_functions(subset_rating)# Script de procesamiento de datos y retorno de titulo con id"
   ]
  },
  {
   "cell_type": "code",
   "execution_count": 8,
   "metadata": {},
   "outputs": [
    {
     "data": {
      "text/plain": [
       "(20000, 21)"
      ]
     },
     "execution_count": 8,
     "metadata": {},
     "output_type": "execute_result"
    }
   ],
   "source": [
    "df_processed.shape"
   ]
  },
  {
   "cell_type": "code",
   "execution_count": 9,
   "metadata": {},
   "outputs": [],
   "source": [
    "# Diccionario de list_user_movies\n",
    "dicc_user_movies = {'userId':list_user_movies['userId'], 'movieId':list_user_movies['movieId'], 'title':list_user_movies['title']}"
   ]
  },
  {
   "cell_type": "markdown",
   "metadata": {},
   "source": [
    "Similitud del coseno (compara cada pelicula con todas las encontradas)"
   ]
  },
  {
   "cell_type": "code",
   "execution_count": 10,
   "metadata": {},
   "outputs": [],
   "source": [
    "simil_cosine=cosine_similarity(df_processed)# calculo de similitus del coseno"
   ]
  },
  {
   "cell_type": "code",
   "execution_count": 11,
   "metadata": {},
   "outputs": [],
   "source": [
    "# Rellenamos la diagonal con NaN y convertimos a dataframe\n",
    "np.fill_diagonal(simil_cosine, np.nan)\n",
    "df_similCosine = pd.DataFrame(simil_cosine)"
   ]
  },
  {
   "cell_type": "markdown",
   "metadata": {},
   "source": [
    "Logica que implementa la recomendacion en base a un usuario y pelicula vista"
   ]
  },
  {
   "cell_type": "code",
   "execution_count": 12,
   "metadata": {},
   "outputs": [],
   "source": [
    "def comprobar_existencia(diccionario, movie_id, user_id):    \n",
    "    for i in range(len(diccionario['userId'])):\n",
    "        if diccionario['userId'].iloc[i] == user_id and diccionario['movieId'].iloc[i] == movie_id:\n",
    "            return True\n",
    "    return False"
   ]
  },
  {
   "cell_type": "code",
   "execution_count": 13,
   "metadata": {},
   "outputs": [],
   "source": [
    "def obtener_index_movieId(diccionario, movie_id):\n",
    "    for i in range(len(diccionario['movieId'])):\n",
    "        if diccionario['movieId'].iloc[i]==movie_id:\n",
    "            index = i\n",
    "            break\n",
    "    return index"
   ]
  },
  {
   "cell_type": "code",
   "execution_count": 14,
   "metadata": {},
   "outputs": [],
   "source": [
    "def get_title_from_movieId(user_id ,diccionario):\n",
    "    index = diccionario['userId'].loc[diccionario['userId'] == user_id].index\n",
    "    # Obtén los títulos de las películas\n",
    "    titles_saws = diccionario['title'].loc[index]\n",
    "    return titles_saws"
   ]
  },
  {
   "cell_type": "code",
   "execution_count": 15,
   "metadata": {},
   "outputs": [],
   "source": [
    "# Funcion de recomendacion para un usuario y pelicula\n",
    "def get_recommendations(user_id, movie_id,dicc_user_movies=dicc_user_movies, simil_cosine=df_similCosine, threshold=0.7):\n",
    "    #Comprobamos que el usuario para la pelicula dada existe\n",
    "    comprobar_user_movie_exist=comprobar_existencia(dicc_user_movies, movie_id, user_id)\n",
    "\n",
    "    if comprobar_user_movie_exist:\n",
    "       #Obtener indice de la pelicula dada\n",
    "        index=obtener_index_movieId(dicc_user_movies, movie_id)\n",
    "\n",
    "        # Obtén la lista de similitudes del coseno para una película y usuario dada\n",
    "        cosine_sim_list = simil_cosine.iloc[index]\n",
    "        \n",
    "        # Ordena las películas en función de la similitud del coseno\n",
    "        most_similar_movies_sorted=cosine_sim_list.sort_values(ascending=False)\n",
    "\n",
    "        # Obtiene los índices de las 5 películas más similares superior al umbral \n",
    "        most_similar_movies = most_similar_movies_sorted[most_similar_movies_sorted > threshold][:5].index\n",
    "\n",
    "        # Obtiene los títulos de las películas más similares\n",
    "        most_similar_movie_titles = list(set([dicc_user_movies['title'][id] for id in most_similar_movies if id in dicc_user_movies['title']]))\n",
    "        \n",
    "        # Obtener los titulos de todas las peliculas vistas por el usuario\n",
    "        titles_saws = get_title_from_movieId(user_id ,dicc_user_movies)\n",
    "        titles_saws = list(titles_saws)\n",
    "        \n",
    "        # Pelicula actual pasada por parametros (title)\n",
    "        actual_title = dicc_user_movies['movieId'].loc[dicc_user_movies['movieId'] == movie_id].index[0]\n",
    "\n",
    "        print('Porque has visto:',dicc_user_movies['title'].loc[actual_title])\n",
    "        \n",
    "        # Filtra las películas recomendadas para excluir las que el usuario ya ha visto\n",
    "        recommended_movies = [movie for movie in most_similar_movie_titles if movie not in titles_saws]\n",
    "\n",
    "        # Si las peliculas se devuelven vacias se retorna la condicion\n",
    "        if not recommended_movies:\n",
    "            return 'No se encontro una pelicula lo suficientemente significativa para recomendar'\n",
    "        print('Recomendamos:')\n",
    "        return recommended_movies\n",
    "    else: \n",
    "        return 'No se encontro usuario para pelicula dada'\n",
    "        "
   ]
  },
  {
   "cell_type": "code",
   "execution_count": 19,
   "metadata": {},
   "outputs": [
    {
     "name": "stdout",
     "output_type": "stream",
     "text": [
      "Porque has visto: Dead Man Walking\n",
      "Recomendamos:\n"
     ]
    },
    {
     "data": {
      "text/plain": [
       "['Negotiator, The', 'Casino']"
      ]
     },
     "execution_count": 19,
     "metadata": {},
     "output_type": "execute_result"
    }
   ],
   "source": [
    "result_recommendation=get_recommendations(136540,36)#userId, movieId\n",
    "result_recommendation"
   ]
  },
  {
   "cell_type": "markdown",
   "metadata": {},
   "source": [
    "Podemos ver que para la pelicula Dead Man Walking (cuyo genero es crimen/suspenso lanzada en el 1995), \n",
    "\n",
    "se recomiendan dos peliculas de crimenes y suspense, ambas lanzadas en el 1995 y 1998."
   ]
  },
  {
   "cell_type": "code",
   "execution_count": 16,
   "metadata": {},
   "outputs": [
    {
     "data": {
      "text/html": [
       "<div>\n",
       "<style scoped>\n",
       "    .dataframe tbody tr th:only-of-type {\n",
       "        vertical-align: middle;\n",
       "    }\n",
       "\n",
       "    .dataframe tbody tr th {\n",
       "        vertical-align: top;\n",
       "    }\n",
       "\n",
       "    .dataframe thead th {\n",
       "        text-align: right;\n",
       "    }\n",
       "</style>\n",
       "<table border=\"1\" class=\"dataframe\">\n",
       "  <thead>\n",
       "    <tr style=\"text-align: right;\">\n",
       "      <th></th>\n",
       "      <th>userId</th>\n",
       "      <th>movieId</th>\n",
       "      <th>rating</th>\n",
       "      <th>title</th>\n",
       "    </tr>\n",
       "  </thead>\n",
       "  <tbody>\n",
       "    <tr>\n",
       "      <th>19991</th>\n",
       "      <td>92360.0</td>\n",
       "      <td>4816</td>\n",
       "      <td>3.0</td>\n",
       "      <td>Zoolander</td>\n",
       "    </tr>\n",
       "    <tr>\n",
       "      <th>19992</th>\n",
       "      <td>35192.0</td>\n",
       "      <td>2012</td>\n",
       "      <td>3.0</td>\n",
       "      <td>Back to the Future Part III</td>\n",
       "    </tr>\n",
       "    <tr>\n",
       "      <th>19993</th>\n",
       "      <td>91709.0</td>\n",
       "      <td>1499</td>\n",
       "      <td>2.5</td>\n",
       "      <td>Anaconda</td>\n",
       "    </tr>\n",
       "    <tr>\n",
       "      <th>19994</th>\n",
       "      <td>22337.0</td>\n",
       "      <td>1090</td>\n",
       "      <td>3.5</td>\n",
       "      <td>Platoon</td>\n",
       "    </tr>\n",
       "    <tr>\n",
       "      <th>19995</th>\n",
       "      <td>136540.0</td>\n",
       "      <td>36</td>\n",
       "      <td>3.0</td>\n",
       "      <td>Dead Man Walking</td>\n",
       "    </tr>\n",
       "    <tr>\n",
       "      <th>19996</th>\n",
       "      <td>44535.0</td>\n",
       "      <td>38388</td>\n",
       "      <td>2.5</td>\n",
       "      <td>Goal! The Dream Begins</td>\n",
       "    </tr>\n",
       "    <tr>\n",
       "      <th>19997</th>\n",
       "      <td>136429.0</td>\n",
       "      <td>315</td>\n",
       "      <td>4.0</td>\n",
       "      <td>Specialist, The</td>\n",
       "    </tr>\n",
       "    <tr>\n",
       "      <th>19998</th>\n",
       "      <td>39514.0</td>\n",
       "      <td>354</td>\n",
       "      <td>3.0</td>\n",
       "      <td>Cobb</td>\n",
       "    </tr>\n",
       "    <tr>\n",
       "      <th>19999</th>\n",
       "      <td>106343.0</td>\n",
       "      <td>377</td>\n",
       "      <td>5.0</td>\n",
       "      <td>Speed</td>\n",
       "    </tr>\n",
       "    <tr>\n",
       "      <th>20000</th>\n",
       "      <td>138459.0</td>\n",
       "      <td>39444</td>\n",
       "      <td>4.0</td>\n",
       "      <td>Weather Man, The</td>\n",
       "    </tr>\n",
       "  </tbody>\n",
       "</table>\n",
       "</div>"
      ],
      "text/plain": [
       "         userId  movieId  rating                        title\n",
       "19991   92360.0     4816     3.0                    Zoolander\n",
       "19992   35192.0     2012     3.0  Back to the Future Part III\n",
       "19993   91709.0     1499     2.5                     Anaconda\n",
       "19994   22337.0     1090     3.5                      Platoon\n",
       "19995  136540.0       36     3.0             Dead Man Walking\n",
       "19996   44535.0    38388     2.5       Goal! The Dream Begins\n",
       "19997  136429.0      315     4.0              Specialist, The\n",
       "19998   39514.0      354     3.0                         Cobb\n",
       "19999  106343.0      377     5.0                        Speed\n",
       "20000  138459.0    39444     4.0             Weather Man, The"
      ]
     },
     "execution_count": 16,
     "metadata": {},
     "output_type": "execute_result"
    }
   ],
   "source": [
    "list_user_movies.tail(10)"
   ]
  },
  {
   "cell_type": "code",
   "execution_count": 17,
   "metadata": {},
   "outputs": [],
   "source": [
    "# Buscar usuarios \n",
    "def movies_peruser(idUser):    \n",
    "    print(list_user_movies[list_user_movies['userId']==idUser])"
   ]
  },
  {
   "cell_type": "code",
   "execution_count": 18,
   "metadata": {},
   "outputs": [
    {
     "name": "stdout",
     "output_type": "stream",
     "text": [
      "         userId  movieId  rating             title\n",
      "19995  136540.0       36     3.0  Dead Man Walking\n"
     ]
    }
   ],
   "source": [
    "movies_peruser(136540)"
   ]
  }
 ],
 "metadata": {
  "kernelspec": {
   "display_name": "Python 3",
   "language": "python",
   "name": "python3"
  },
  "language_info": {
   "codemirror_mode": {
    "name": "ipython",
    "version": 3
   },
   "file_extension": ".py",
   "mimetype": "text/x-python",
   "name": "python",
   "nbconvert_exporter": "python",
   "pygments_lexer": "ipython3",
   "version": "3.11.7"
  }
 },
 "nbformat": 4,
 "nbformat_minor": 2
}
