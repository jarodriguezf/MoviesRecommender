{
 "cells": [
  {
   "cell_type": "code",
   "execution_count": 1,
   "metadata": {},
   "outputs": [],
   "source": [
    "import pandas as pd\n",
    "import numpy as np\n",
    "from automation_process_dataV2 import united_functions\n",
    "import matplotlib.pyplot as plt\n",
    "from sklearn.metrics.pairwise import cosine_similarity\n",
    "from sklearn.model_selection import train_test_split"
   ]
  },
  {
   "cell_type": "code",
   "execution_count": 2,
   "metadata": {},
   "outputs": [],
   "source": [
    "df_rating = pd.read_parquet('../../data/raw/data_model/ratings_train05.parquet')#Carga de datos"
   ]
  },
  {
   "cell_type": "code",
   "execution_count": 3,
   "metadata": {},
   "outputs": [],
   "source": [
    "# muestrear 2% de regitros\n",
    "_, subset_rating = train_test_split(df_rating, test_size=0.02, random_state=111)"
   ]
  },
  {
   "cell_type": "code",
   "execution_count": 26,
   "metadata": {},
   "outputs": [],
   "source": [
    "# Guardar muestra para aplicarla en la app final\n",
    "subset_rating.to_parquet('../../data/raw/data_model/final_data_used/subset_splitV2.parquet')"
   ]
  },
  {
   "cell_type": "code",
   "execution_count": 4,
   "metadata": {},
   "outputs": [],
   "source": [
    "subset_rating.reset_index(inplace=True, drop=True)"
   ]
  },
  {
   "cell_type": "code",
   "execution_count": 5,
   "metadata": {},
   "outputs": [
    {
     "data": {
      "text/plain": [
       "(20001, 6)"
      ]
     },
     "execution_count": 5,
     "metadata": {},
     "output_type": "execute_result"
    }
   ],
   "source": [
    "subset_rating.shape"
   ]
  },
  {
   "cell_type": "code",
   "execution_count": 5,
   "metadata": {},
   "outputs": [
    {
     "name": "stdout",
     "output_type": "stream",
     "text": [
      "INICIANDO PROCESAMIENTO DE DATOS...\n",
      "- Eliminacion de nulos..\n",
      "- Eliminando variables no necesarias...\n",
      "- Extrayendo año del titulo...\n",
      "- Almacenando en variable copia del df original...\n",
      "- Extraemos los generos de cada pelicula...\n",
      "- Eliminamos variables no necesarias...\n",
      "- Codificamos los generos y normalizamos para su correcto formato...\n",
      "FIN DE PROCESAMIENTO DE DATOS\n"
     ]
    }
   ],
   "source": [
    "df_processed, list_user_movies= united_functions(subset_rating)# Script de procesamiento de datos y retorno de titulo con id"
   ]
  },
  {
   "cell_type": "code",
   "execution_count": 6,
   "metadata": {},
   "outputs": [
    {
     "data": {
      "text/plain": [
       "(20000, 21)"
      ]
     },
     "execution_count": 6,
     "metadata": {},
     "output_type": "execute_result"
    }
   ],
   "source": [
    "df_processed.shape"
   ]
  },
  {
   "cell_type": "code",
   "execution_count": 28,
   "metadata": {},
   "outputs": [],
   "source": [
    "# Guardar resutado de procesamiento para aplicarla en la app final\n",
    "df_processed.to_csv('../../data/raw/data_model/final_data_used/process_splitV2.csv')\n",
    "list_user_movies.to_csv('../../data/raw/data_model/final_data_used/list_user_moviesV2.csv')"
   ]
  },
  {
   "cell_type": "code",
   "execution_count": 7,
   "metadata": {},
   "outputs": [],
   "source": [
    "# Diccionario de list_user_movies\n",
    "dicc_user_movies = {'userId':list_user_movies['userId'], 'movieId':list_user_movies['movieId'], 'title':list_user_movies['title']}"
   ]
  },
  {
   "cell_type": "markdown",
   "metadata": {},
   "source": [
    "Similitud del coseno (compara cada pelicula con todas las encontradas)"
   ]
  },
  {
   "cell_type": "code",
   "execution_count": 8,
   "metadata": {},
   "outputs": [],
   "source": [
    "simil_cosine=cosine_similarity(df_processed)# calculo de similitus del coseno"
   ]
  },
  {
   "cell_type": "code",
   "execution_count": 9,
   "metadata": {},
   "outputs": [],
   "source": [
    "# Rellenamos la diagonal con NaN y convertimos a dataframe\n",
    "np.fill_diagonal(simil_cosine, np.nan)\n",
    "df_similCosine = pd.DataFrame(simil_cosine)"
   ]
  },
  {
   "cell_type": "code",
   "execution_count": 10,
   "metadata": {},
   "outputs": [
    {
     "data": {
      "text/html": [
       "<div>\n",
       "<style scoped>\n",
       "    .dataframe tbody tr th:only-of-type {\n",
       "        vertical-align: middle;\n",
       "    }\n",
       "\n",
       "    .dataframe tbody tr th {\n",
       "        vertical-align: top;\n",
       "    }\n",
       "\n",
       "    .dataframe thead th {\n",
       "        text-align: right;\n",
       "    }\n",
       "</style>\n",
       "<table border=\"1\" class=\"dataframe\">\n",
       "  <thead>\n",
       "    <tr style=\"text-align: right;\">\n",
       "      <th></th>\n",
       "      <th>0</th>\n",
       "      <th>1</th>\n",
       "      <th>2</th>\n",
       "      <th>3</th>\n",
       "      <th>4</th>\n",
       "      <th>5</th>\n",
       "      <th>6</th>\n",
       "      <th>7</th>\n",
       "      <th>8</th>\n",
       "      <th>9</th>\n",
       "      <th>...</th>\n",
       "      <th>19990</th>\n",
       "      <th>19991</th>\n",
       "      <th>19992</th>\n",
       "      <th>19993</th>\n",
       "      <th>19994</th>\n",
       "      <th>19995</th>\n",
       "      <th>19996</th>\n",
       "      <th>19997</th>\n",
       "      <th>19998</th>\n",
       "      <th>19999</th>\n",
       "    </tr>\n",
       "  </thead>\n",
       "  <tbody>\n",
       "    <tr>\n",
       "      <th>0</th>\n",
       "      <td>NaN</td>\n",
       "      <td>0.842656</td>\n",
       "      <td>0.607109</td>\n",
       "      <td>0.288322</td>\n",
       "      <td>0.544108</td>\n",
       "      <td>0.481809</td>\n",
       "      <td>0.702519</td>\n",
       "      <td>0.590835</td>\n",
       "      <td>0.846874</td>\n",
       "      <td>0.495868</td>\n",
       "      <td>...</td>\n",
       "      <td>0.473396</td>\n",
       "      <td>0.280579</td>\n",
       "      <td>0.578960</td>\n",
       "      <td>0.682836</td>\n",
       "      <td>0.683817</td>\n",
       "      <td>0.833724</td>\n",
       "      <td>0.869675</td>\n",
       "      <td>0.841092</td>\n",
       "      <td>0.628432</td>\n",
       "      <td>0.713236</td>\n",
       "    </tr>\n",
       "    <tr>\n",
       "      <th>1</th>\n",
       "      <td>0.842656</td>\n",
       "      <td>NaN</td>\n",
       "      <td>0.733138</td>\n",
       "      <td>0.310207</td>\n",
       "      <td>0.644210</td>\n",
       "      <td>0.290645</td>\n",
       "      <td>0.822146</td>\n",
       "      <td>0.349792</td>\n",
       "      <td>0.990699</td>\n",
       "      <td>0.588129</td>\n",
       "      <td>...</td>\n",
       "      <td>0.511196</td>\n",
       "      <td>0.301185</td>\n",
       "      <td>0.337543</td>\n",
       "      <td>0.805703</td>\n",
       "      <td>0.812214</td>\n",
       "      <td>0.996599</td>\n",
       "      <td>0.717141</td>\n",
       "      <td>0.999171</td>\n",
       "      <td>0.400708</td>\n",
       "      <td>0.834055</td>\n",
       "    </tr>\n",
       "    <tr>\n",
       "      <th>2</th>\n",
       "      <td>0.607109</td>\n",
       "      <td>0.733138</td>\n",
       "      <td>NaN</td>\n",
       "      <td>0.171774</td>\n",
       "      <td>0.506069</td>\n",
       "      <td>0.155326</td>\n",
       "      <td>0.608460</td>\n",
       "      <td>0.193433</td>\n",
       "      <td>0.727803</td>\n",
       "      <td>0.428583</td>\n",
       "      <td>...</td>\n",
       "      <td>0.280538</td>\n",
       "      <td>0.167716</td>\n",
       "      <td>0.182017</td>\n",
       "      <td>0.982183</td>\n",
       "      <td>0.601077</td>\n",
       "      <td>0.725879</td>\n",
       "      <td>0.531549</td>\n",
       "      <td>0.740619</td>\n",
       "      <td>0.236906</td>\n",
       "      <td>0.608358</td>\n",
       "    </tr>\n",
       "    <tr>\n",
       "      <th>3</th>\n",
       "      <td>0.288322</td>\n",
       "      <td>0.310207</td>\n",
       "      <td>0.171774</td>\n",
       "      <td>NaN</td>\n",
       "      <td>0.171720</td>\n",
       "      <td>0.543137</td>\n",
       "      <td>0.265371</td>\n",
       "      <td>0.666060</td>\n",
       "      <td>0.325113</td>\n",
       "      <td>0.549422</td>\n",
       "      <td>...</td>\n",
       "      <td>0.625106</td>\n",
       "      <td>0.387393</td>\n",
       "      <td>0.433246</td>\n",
       "      <td>0.243444</td>\n",
       "      <td>0.508439</td>\n",
       "      <td>0.303785</td>\n",
       "      <td>0.449792</td>\n",
       "      <td>0.301365</td>\n",
       "      <td>0.456003</td>\n",
       "      <td>0.521820</td>\n",
       "    </tr>\n",
       "    <tr>\n",
       "      <th>4</th>\n",
       "      <td>0.544108</td>\n",
       "      <td>0.644210</td>\n",
       "      <td>0.506069</td>\n",
       "      <td>0.171720</td>\n",
       "      <td>NaN</td>\n",
       "      <td>0.150540</td>\n",
       "      <td>0.546823</td>\n",
       "      <td>0.193153</td>\n",
       "      <td>0.653586</td>\n",
       "      <td>0.588053</td>\n",
       "      <td>...</td>\n",
       "      <td>0.278314</td>\n",
       "      <td>0.168455</td>\n",
       "      <td>0.177832</td>\n",
       "      <td>0.538573</td>\n",
       "      <td>0.528492</td>\n",
       "      <td>0.630032</td>\n",
       "      <td>0.477776</td>\n",
       "      <td>0.651252</td>\n",
       "      <td>0.492964</td>\n",
       "      <td>0.545922</td>\n",
       "    </tr>\n",
       "    <tr>\n",
       "      <th>...</th>\n",
       "      <td>...</td>\n",
       "      <td>...</td>\n",
       "      <td>...</td>\n",
       "      <td>...</td>\n",
       "      <td>...</td>\n",
       "      <td>...</td>\n",
       "      <td>...</td>\n",
       "      <td>...</td>\n",
       "      <td>...</td>\n",
       "      <td>...</td>\n",
       "      <td>...</td>\n",
       "      <td>...</td>\n",
       "      <td>...</td>\n",
       "      <td>...</td>\n",
       "      <td>...</td>\n",
       "      <td>...</td>\n",
       "      <td>...</td>\n",
       "      <td>...</td>\n",
       "      <td>...</td>\n",
       "      <td>...</td>\n",
       "      <td>...</td>\n",
       "    </tr>\n",
       "    <tr>\n",
       "      <th>19995</th>\n",
       "      <td>0.833724</td>\n",
       "      <td>0.996599</td>\n",
       "      <td>0.725879</td>\n",
       "      <td>0.303785</td>\n",
       "      <td>0.630032</td>\n",
       "      <td>0.289773</td>\n",
       "      <td>0.809076</td>\n",
       "      <td>0.342789</td>\n",
       "      <td>0.976409</td>\n",
       "      <td>0.586725</td>\n",
       "      <td>...</td>\n",
       "      <td>0.502933</td>\n",
       "      <td>0.294090</td>\n",
       "      <td>0.335038</td>\n",
       "      <td>0.794992</td>\n",
       "      <td>0.808161</td>\n",
       "      <td>NaN</td>\n",
       "      <td>0.705524</td>\n",
       "      <td>0.993912</td>\n",
       "      <td>0.378652</td>\n",
       "      <td>0.823204</td>\n",
       "    </tr>\n",
       "    <tr>\n",
       "      <th>19996</th>\n",
       "      <td>0.869675</td>\n",
       "      <td>0.717141</td>\n",
       "      <td>0.531549</td>\n",
       "      <td>0.449792</td>\n",
       "      <td>0.477776</td>\n",
       "      <td>0.606225</td>\n",
       "      <td>0.603503</td>\n",
       "      <td>0.749620</td>\n",
       "      <td>0.725331</td>\n",
       "      <td>0.617692</td>\n",
       "      <td>...</td>\n",
       "      <td>0.377032</td>\n",
       "      <td>0.225132</td>\n",
       "      <td>0.739746</td>\n",
       "      <td>0.588434</td>\n",
       "      <td>0.584139</td>\n",
       "      <td>0.705524</td>\n",
       "      <td>NaN</td>\n",
       "      <td>0.718949</td>\n",
       "      <td>0.769106</td>\n",
       "      <td>0.609109</td>\n",
       "    </tr>\n",
       "    <tr>\n",
       "      <th>19997</th>\n",
       "      <td>0.841092</td>\n",
       "      <td>0.999171</td>\n",
       "      <td>0.740619</td>\n",
       "      <td>0.301365</td>\n",
       "      <td>0.651252</td>\n",
       "      <td>0.280611</td>\n",
       "      <td>0.824025</td>\n",
       "      <td>0.339740</td>\n",
       "      <td>0.991823</td>\n",
       "      <td>0.587109</td>\n",
       "      <td>...</td>\n",
       "      <td>0.495837</td>\n",
       "      <td>0.292892</td>\n",
       "      <td>0.326397</td>\n",
       "      <td>0.808679</td>\n",
       "      <td>0.812690</td>\n",
       "      <td>0.993912</td>\n",
       "      <td>0.718949</td>\n",
       "      <td>NaN</td>\n",
       "      <td>0.393962</td>\n",
       "      <td>0.834079</td>\n",
       "    </tr>\n",
       "    <tr>\n",
       "      <th>19998</th>\n",
       "      <td>0.628432</td>\n",
       "      <td>0.400708</td>\n",
       "      <td>0.236906</td>\n",
       "      <td>0.456003</td>\n",
       "      <td>0.492964</td>\n",
       "      <td>0.598480</td>\n",
       "      <td>0.363407</td>\n",
       "      <td>0.745773</td>\n",
       "      <td>0.441263</td>\n",
       "      <td>0.613919</td>\n",
       "      <td>...</td>\n",
       "      <td>0.400708</td>\n",
       "      <td>0.241325</td>\n",
       "      <td>0.730781</td>\n",
       "      <td>0.331772</td>\n",
       "      <td>0.321011</td>\n",
       "      <td>0.378652</td>\n",
       "      <td>0.769106</td>\n",
       "      <td>0.393962</td>\n",
       "      <td>NaN</td>\n",
       "      <td>0.374204</td>\n",
       "    </tr>\n",
       "    <tr>\n",
       "      <th>19999</th>\n",
       "      <td>0.713236</td>\n",
       "      <td>0.834055</td>\n",
       "      <td>0.608358</td>\n",
       "      <td>0.521820</td>\n",
       "      <td>0.545922</td>\n",
       "      <td>0.254856</td>\n",
       "      <td>0.698165</td>\n",
       "      <td>0.313240</td>\n",
       "      <td>0.840534</td>\n",
       "      <td>0.709159</td>\n",
       "      <td>...</td>\n",
       "      <td>0.834055</td>\n",
       "      <td>0.516224</td>\n",
       "      <td>0.297613</td>\n",
       "      <td>0.679526</td>\n",
       "      <td>0.677928</td>\n",
       "      <td>0.823204</td>\n",
       "      <td>0.609109</td>\n",
       "      <td>0.834079</td>\n",
       "      <td>0.374204</td>\n",
       "      <td>NaN</td>\n",
       "    </tr>\n",
       "  </tbody>\n",
       "</table>\n",
       "<p>20000 rows × 20000 columns</p>\n",
       "</div>"
      ],
      "text/plain": [
       "          0         1         2         3         4         5         6      \\\n",
       "0           NaN  0.842656  0.607109  0.288322  0.544108  0.481809  0.702519   \n",
       "1      0.842656       NaN  0.733138  0.310207  0.644210  0.290645  0.822146   \n",
       "2      0.607109  0.733138       NaN  0.171774  0.506069  0.155326  0.608460   \n",
       "3      0.288322  0.310207  0.171774       NaN  0.171720  0.543137  0.265371   \n",
       "4      0.544108  0.644210  0.506069  0.171720       NaN  0.150540  0.546823   \n",
       "...         ...       ...       ...       ...       ...       ...       ...   \n",
       "19995  0.833724  0.996599  0.725879  0.303785  0.630032  0.289773  0.809076   \n",
       "19996  0.869675  0.717141  0.531549  0.449792  0.477776  0.606225  0.603503   \n",
       "19997  0.841092  0.999171  0.740619  0.301365  0.651252  0.280611  0.824025   \n",
       "19998  0.628432  0.400708  0.236906  0.456003  0.492964  0.598480  0.363407   \n",
       "19999  0.713236  0.834055  0.608358  0.521820  0.545922  0.254856  0.698165   \n",
       "\n",
       "          7         8         9      ...     19990     19991     19992  \\\n",
       "0      0.590835  0.846874  0.495868  ...  0.473396  0.280579  0.578960   \n",
       "1      0.349792  0.990699  0.588129  ...  0.511196  0.301185  0.337543   \n",
       "2      0.193433  0.727803  0.428583  ...  0.280538  0.167716  0.182017   \n",
       "3      0.666060  0.325113  0.549422  ...  0.625106  0.387393  0.433246   \n",
       "4      0.193153  0.653586  0.588053  ...  0.278314  0.168455  0.177832   \n",
       "...         ...       ...       ...  ...       ...       ...       ...   \n",
       "19995  0.342789  0.976409  0.586725  ...  0.502933  0.294090  0.335038   \n",
       "19996  0.749620  0.725331  0.617692  ...  0.377032  0.225132  0.739746   \n",
       "19997  0.339740  0.991823  0.587109  ...  0.495837  0.292892  0.326397   \n",
       "19998  0.745773  0.441263  0.613919  ...  0.400708  0.241325  0.730781   \n",
       "19999  0.313240  0.840534  0.709159  ...  0.834055  0.516224  0.297613   \n",
       "\n",
       "          19993     19994     19995     19996     19997     19998     19999  \n",
       "0      0.682836  0.683817  0.833724  0.869675  0.841092  0.628432  0.713236  \n",
       "1      0.805703  0.812214  0.996599  0.717141  0.999171  0.400708  0.834055  \n",
       "2      0.982183  0.601077  0.725879  0.531549  0.740619  0.236906  0.608358  \n",
       "3      0.243444  0.508439  0.303785  0.449792  0.301365  0.456003  0.521820  \n",
       "4      0.538573  0.528492  0.630032  0.477776  0.651252  0.492964  0.545922  \n",
       "...         ...       ...       ...       ...       ...       ...       ...  \n",
       "19995  0.794992  0.808161       NaN  0.705524  0.993912  0.378652  0.823204  \n",
       "19996  0.588434  0.584139  0.705524       NaN  0.718949  0.769106  0.609109  \n",
       "19997  0.808679  0.812690  0.993912  0.718949       NaN  0.393962  0.834079  \n",
       "19998  0.331772  0.321011  0.378652  0.769106  0.393962       NaN  0.374204  \n",
       "19999  0.679526  0.677928  0.823204  0.609109  0.834079  0.374204       NaN  \n",
       "\n",
       "[20000 rows x 20000 columns]"
      ]
     },
     "execution_count": 10,
     "metadata": {},
     "output_type": "execute_result"
    }
   ],
   "source": [
    "df_similCosine"
   ]
  },
  {
   "cell_type": "code",
   "execution_count": 27,
   "metadata": {},
   "outputs": [],
   "source": [
    "# Guardar matriz similitudes coseno\n",
    "df_similCosine.to_csv('cosine_csv/df_similCosineV2.csv')"
   ]
  },
  {
   "cell_type": "markdown",
   "metadata": {},
   "source": [
    "Logica que implementa la recomendacion en base a un usuario y pelicula vista"
   ]
  },
  {
   "cell_type": "code",
   "execution_count": 11,
   "metadata": {},
   "outputs": [],
   "source": [
    "def comprobar_existencia(diccionario, movie_id, user_id):    \n",
    "    for i in range(len(diccionario['userId'])):\n",
    "        if diccionario['userId'].iloc[i] == user_id and diccionario['movieId'].iloc[i] == movie_id:\n",
    "            return True\n",
    "    return False"
   ]
  },
  {
   "cell_type": "code",
   "execution_count": 12,
   "metadata": {},
   "outputs": [],
   "source": [
    "def obtener_index_movieId(diccionario, movie_id):\n",
    "    for i in range(len(diccionario['movieId'])):\n",
    "        if diccionario['movieId'].iloc[i]==movie_id:\n",
    "            index = i\n",
    "            break\n",
    "    return index"
   ]
  },
  {
   "cell_type": "code",
   "execution_count": 13,
   "metadata": {},
   "outputs": [],
   "source": [
    "def get_title_from_movieId(user_id ,diccionario):\n",
    "    index = diccionario['userId'].loc[diccionario['userId'] == user_id].index\n",
    "    # Obtén los títulos de las películas\n",
    "    titles_saws = diccionario['title'].loc[index]\n",
    "    return titles_saws"
   ]
  },
  {
   "cell_type": "code",
   "execution_count": 14,
   "metadata": {},
   "outputs": [],
   "source": [
    "# Funcion de recomendacion para un usuario y pelicula\n",
    "def get_recommendations(user_id, movie_id,dicc_user_movies=dicc_user_movies, simil_cosine=df_similCosine, threshold=0.7):\n",
    "    #Comprobamos que el usuario para la pelicula dada existe\n",
    "    comprobar_user_movie_exist=comprobar_existencia(dicc_user_movies, movie_id, user_id)\n",
    "\n",
    "    if comprobar_user_movie_exist:\n",
    "       #Obtener indice de la pelicula dada\n",
    "        index=obtener_index_movieId(dicc_user_movies, movie_id)\n",
    "\n",
    "        # Obtén la lista de similitudes del coseno para una película y usuario dada\n",
    "        cosine_sim_list = simil_cosine.iloc[index]\n",
    "        \n",
    "        # Ordena las películas en función de la similitud del coseno\n",
    "        most_similar_movies_sorted=cosine_sim_list.sort_values(ascending=False)\n",
    "\n",
    "        # Obtiene los índices de las 5 películas más similares superior al umbral \n",
    "        most_similar_movies = most_similar_movies_sorted[most_similar_movies_sorted > threshold][:5].index\n",
    "\n",
    "        # Obtiene los títulos de las películas más similares\n",
    "        most_similar_movie_titles = list(set([dicc_user_movies['title'][id] for id in most_similar_movies if id in dicc_user_movies['title']]))\n",
    "        \n",
    "        # Obtener los titulos de todas las peliculas vistas por el usuario\n",
    "        titles_saws = get_title_from_movieId(user_id ,dicc_user_movies)\n",
    "        titles_saws = list(titles_saws)\n",
    "        \n",
    "        # Pelicula actual pasada por parametros (title)\n",
    "        actual_title = dicc_user_movies['movieId'].loc[dicc_user_movies['movieId'] == movie_id].index[0]\n",
    "\n",
    "        print('Porque has visto:',dicc_user_movies['title'].loc[actual_title])\n",
    "        \n",
    "        # Filtra las películas recomendadas para excluir las que el usuario ya ha visto\n",
    "        recommended_movies = [movie for movie in most_similar_movie_titles if movie not in titles_saws]\n",
    "\n",
    "        # Si las peliculas se devuelven vacias se retorna la condicion\n",
    "        if not recommended_movies:\n",
    "            return 'No se encontro una pelicula lo suficientemente significativa para recomendar'\n",
    "        print('Recomendamos:')\n",
    "        return recommended_movies\n",
    "    else: \n",
    "        return 'No se encontro usuario para pelicula dada'\n",
    "        "
   ]
  },
  {
   "cell_type": "code",
   "execution_count": 25,
   "metadata": {},
   "outputs": [
    {
     "name": "stdout",
     "output_type": "stream",
     "text": [
      "Porque has visto: Dead Man Walking\n",
      "Recomendamos:\n"
     ]
    },
    {
     "data": {
      "text/plain": [
       "['Casino', 'Negotiator, The']"
      ]
     },
     "execution_count": 25,
     "metadata": {},
     "output_type": "execute_result"
    }
   ],
   "source": [
    "result_recommendation=get_recommendations(136540,36)#userId, movieId\n",
    "result_recommendation"
   ]
  },
  {
   "cell_type": "markdown",
   "metadata": {},
   "source": [
    "Podemos ver que para la pelicula Dead Man Walking (cuyo genero es crimen/suspenso lanzada en el 1995), \n",
    "\n",
    "se recomiendan dos peliculas de crimenes y suspense, ambas lanzadas en el 1995 y 1998."
   ]
  },
  {
   "cell_type": "code",
   "execution_count": 16,
   "metadata": {},
   "outputs": [
    {
     "data": {
      "text/html": [
       "<div>\n",
       "<style scoped>\n",
       "    .dataframe tbody tr th:only-of-type {\n",
       "        vertical-align: middle;\n",
       "    }\n",
       "\n",
       "    .dataframe tbody tr th {\n",
       "        vertical-align: top;\n",
       "    }\n",
       "\n",
       "    .dataframe thead th {\n",
       "        text-align: right;\n",
       "    }\n",
       "</style>\n",
       "<table border=\"1\" class=\"dataframe\">\n",
       "  <thead>\n",
       "    <tr style=\"text-align: right;\">\n",
       "      <th></th>\n",
       "      <th>userId</th>\n",
       "      <th>movieId</th>\n",
       "      <th>rating</th>\n",
       "      <th>title</th>\n",
       "    </tr>\n",
       "  </thead>\n",
       "  <tbody>\n",
       "    <tr>\n",
       "      <th>19991</th>\n",
       "      <td>92360.0</td>\n",
       "      <td>4816</td>\n",
       "      <td>3.0</td>\n",
       "      <td>Zoolander</td>\n",
       "    </tr>\n",
       "    <tr>\n",
       "      <th>19992</th>\n",
       "      <td>35192.0</td>\n",
       "      <td>2012</td>\n",
       "      <td>3.0</td>\n",
       "      <td>Back to the Future Part III</td>\n",
       "    </tr>\n",
       "    <tr>\n",
       "      <th>19993</th>\n",
       "      <td>91709.0</td>\n",
       "      <td>1499</td>\n",
       "      <td>2.5</td>\n",
       "      <td>Anaconda</td>\n",
       "    </tr>\n",
       "    <tr>\n",
       "      <th>19994</th>\n",
       "      <td>22337.0</td>\n",
       "      <td>1090</td>\n",
       "      <td>3.5</td>\n",
       "      <td>Platoon</td>\n",
       "    </tr>\n",
       "    <tr>\n",
       "      <th>19995</th>\n",
       "      <td>136540.0</td>\n",
       "      <td>36</td>\n",
       "      <td>3.0</td>\n",
       "      <td>Dead Man Walking</td>\n",
       "    </tr>\n",
       "    <tr>\n",
       "      <th>19996</th>\n",
       "      <td>44535.0</td>\n",
       "      <td>38388</td>\n",
       "      <td>2.5</td>\n",
       "      <td>Goal! The Dream Begins</td>\n",
       "    </tr>\n",
       "    <tr>\n",
       "      <th>19997</th>\n",
       "      <td>136429.0</td>\n",
       "      <td>315</td>\n",
       "      <td>4.0</td>\n",
       "      <td>Specialist, The</td>\n",
       "    </tr>\n",
       "    <tr>\n",
       "      <th>19998</th>\n",
       "      <td>39514.0</td>\n",
       "      <td>354</td>\n",
       "      <td>3.0</td>\n",
       "      <td>Cobb</td>\n",
       "    </tr>\n",
       "    <tr>\n",
       "      <th>19999</th>\n",
       "      <td>106343.0</td>\n",
       "      <td>377</td>\n",
       "      <td>5.0</td>\n",
       "      <td>Speed</td>\n",
       "    </tr>\n",
       "    <tr>\n",
       "      <th>20000</th>\n",
       "      <td>138459.0</td>\n",
       "      <td>39444</td>\n",
       "      <td>4.0</td>\n",
       "      <td>Weather Man, The</td>\n",
       "    </tr>\n",
       "  </tbody>\n",
       "</table>\n",
       "</div>"
      ],
      "text/plain": [
       "         userId  movieId  rating                        title\n",
       "19991   92360.0     4816     3.0                    Zoolander\n",
       "19992   35192.0     2012     3.0  Back to the Future Part III\n",
       "19993   91709.0     1499     2.5                     Anaconda\n",
       "19994   22337.0     1090     3.5                      Platoon\n",
       "19995  136540.0       36     3.0             Dead Man Walking\n",
       "19996   44535.0    38388     2.5       Goal! The Dream Begins\n",
       "19997  136429.0      315     4.0              Specialist, The\n",
       "19998   39514.0      354     3.0                         Cobb\n",
       "19999  106343.0      377     5.0                        Speed\n",
       "20000  138459.0    39444     4.0             Weather Man, The"
      ]
     },
     "execution_count": 16,
     "metadata": {},
     "output_type": "execute_result"
    }
   ],
   "source": [
    "list_user_movies.tail(10)"
   ]
  },
  {
   "cell_type": "code",
   "execution_count": 17,
   "metadata": {},
   "outputs": [],
   "source": [
    "# Buscar usuarios \n",
    "def movies_peruser(idUser):    \n",
    "    print(list_user_movies[list_user_movies['userId']==idUser])"
   ]
  },
  {
   "cell_type": "code",
   "execution_count": 24,
   "metadata": {},
   "outputs": [
    {
     "name": "stdout",
     "output_type": "stream",
     "text": [
      "         userId  movieId  rating             title\n",
      "19995  136540.0       36     3.0  Dead Man Walking\n"
     ]
    }
   ],
   "source": [
    "movies_peruser(136540)"
   ]
  }
 ],
 "metadata": {
  "kernelspec": {
   "display_name": "Python 3",
   "language": "python",
   "name": "python3"
  },
  "language_info": {
   "codemirror_mode": {
    "name": "ipython",
    "version": 3
   },
   "file_extension": ".py",
   "mimetype": "text/x-python",
   "name": "python",
   "nbconvert_exporter": "python",
   "pygments_lexer": "ipython3",
   "version": "3.11.7"
  }
 },
 "nbformat": 4,
 "nbformat_minor": 2
}
