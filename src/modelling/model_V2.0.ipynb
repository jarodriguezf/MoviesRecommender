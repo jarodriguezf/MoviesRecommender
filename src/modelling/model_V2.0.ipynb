{
 "cells": [
  {
   "cell_type": "code",
   "execution_count": 1,
   "metadata": {},
   "outputs": [],
   "source": [
    "import pandas as pd\n",
    "import numpy as np\n",
    "from automation_process_dataV2 import united_functions\n",
    "import matplotlib.pyplot as plt\n",
    "from sklearn.metrics.pairwise import cosine_similarity\n",
    "from sklearn.model_selection import train_test_split"
   ]
  },
  {
   "cell_type": "code",
   "execution_count": 2,
   "metadata": {},
   "outputs": [],
   "source": [
    "df_rating = pd.read_parquet('../../data/raw/data_model/ratings_train05.parquet')#Carga de datos"
   ]
  },
  {
   "cell_type": "code",
   "execution_count": 3,
   "metadata": {},
   "outputs": [],
   "source": [
    "# muestrear 0.2% de regitros\n",
    "_, subset_rating = train_test_split(df_rating, test_size=0.002, random_state=111)"
   ]
  },
  {
   "cell_type": "code",
   "execution_count": 5,
   "metadata": {},
   "outputs": [],
   "source": [
    "# Guardar muestra para aplicarla en la app final\n",
    "subset_rating.to_parquet('../../data/raw/data_model/final_data_used/subset_splitV2.parquet')"
   ]
  },
  {
   "cell_type": "code",
   "execution_count": 6,
   "metadata": {},
   "outputs": [],
   "source": [
    "subset_rating.reset_index(inplace=True, drop=True)"
   ]
  },
  {
   "cell_type": "code",
   "execution_count": 7,
   "metadata": {},
   "outputs": [
    {
     "data": {
      "text/plain": [
       "(2001, 6)"
      ]
     },
     "execution_count": 7,
     "metadata": {},
     "output_type": "execute_result"
    }
   ],
   "source": [
    "subset_rating.shape"
   ]
  },
  {
   "cell_type": "code",
   "execution_count": 8,
   "metadata": {},
   "outputs": [
    {
     "name": "stdout",
     "output_type": "stream",
     "text": [
      "INICIANDO PROCESAMIENTO DE DATOS...\n",
      "- Eliminacion de nulos..\n",
      "- Eliminando variables no necesarias...\n",
      "- Extrayendo año del titulo...\n",
      "- Almacenando en variable copia del df original...\n",
      "- Extraemos los generos de cada pelicula...\n",
      "- Eliminamos variables no necesarias...\n",
      "- Codificamos los generos y normalizamos para su correcto formato...\n",
      "FIN DE PROCESAMIENTO DE DATOS\n"
     ]
    }
   ],
   "source": [
    "df_processed, list_user_movies= united_functions(subset_rating)# Script de procesamiento de datos y retorno de titulo con id"
   ]
  },
  {
   "cell_type": "code",
   "execution_count": 9,
   "metadata": {},
   "outputs": [
    {
     "data": {
      "text/plain": [
       "(2001, 21)"
      ]
     },
     "execution_count": 9,
     "metadata": {},
     "output_type": "execute_result"
    }
   ],
   "source": [
    "df_processed.shape"
   ]
  },
  {
   "cell_type": "code",
   "execution_count": 10,
   "metadata": {},
   "outputs": [],
   "source": [
    "# Guardar resutado de procesamiento para aplicarla en la app final\n",
    "df_processed.to_csv('../../data/raw/data_model/final_data_used/process_splitV2.csv', index=False)\n",
    "list_user_movies.to_csv('../../data/raw/data_model/final_data_used/list_user_moviesV2.csv', index=False)"
   ]
  },
  {
   "cell_type": "code",
   "execution_count": 11,
   "metadata": {},
   "outputs": [],
   "source": [
    "# Diccionario de list_user_movies\n",
    "dicc_user_movies = {'userId':list_user_movies['userId'], 'movieId':list_user_movies['movieId'], 'title':list_user_movies['title']}"
   ]
  },
  {
   "cell_type": "markdown",
   "metadata": {},
   "source": [
    "Similitud del coseno (compara cada pelicula con todas las encontradas)"
   ]
  },
  {
   "cell_type": "code",
   "execution_count": 12,
   "metadata": {},
   "outputs": [],
   "source": [
    "simil_cosine=cosine_similarity(df_processed)# calculo de similitus del coseno"
   ]
  },
  {
   "cell_type": "code",
   "execution_count": 13,
   "metadata": {},
   "outputs": [],
   "source": [
    "# Rellenamos la diagonal con NaN y convertimos a dataframe\n",
    "np.fill_diagonal(simil_cosine, np.nan)\n",
    "df_similCosine = pd.DataFrame(simil_cosine)"
   ]
  },
  {
   "cell_type": "code",
   "execution_count": 14,
   "metadata": {},
   "outputs": [
    {
     "data": {
      "text/html": [
       "<div>\n",
       "<style scoped>\n",
       "    .dataframe tbody tr th:only-of-type {\n",
       "        vertical-align: middle;\n",
       "    }\n",
       "\n",
       "    .dataframe tbody tr th {\n",
       "        vertical-align: top;\n",
       "    }\n",
       "\n",
       "    .dataframe thead th {\n",
       "        text-align: right;\n",
       "    }\n",
       "</style>\n",
       "<table border=\"1\" class=\"dataframe\">\n",
       "  <thead>\n",
       "    <tr style=\"text-align: right;\">\n",
       "      <th></th>\n",
       "      <th>0</th>\n",
       "      <th>1</th>\n",
       "      <th>2</th>\n",
       "      <th>3</th>\n",
       "      <th>4</th>\n",
       "      <th>5</th>\n",
       "      <th>6</th>\n",
       "      <th>7</th>\n",
       "      <th>8</th>\n",
       "      <th>9</th>\n",
       "      <th>...</th>\n",
       "      <th>1991</th>\n",
       "      <th>1992</th>\n",
       "      <th>1993</th>\n",
       "      <th>1994</th>\n",
       "      <th>1995</th>\n",
       "      <th>1996</th>\n",
       "      <th>1997</th>\n",
       "      <th>1998</th>\n",
       "      <th>1999</th>\n",
       "      <th>2000</th>\n",
       "    </tr>\n",
       "  </thead>\n",
       "  <tbody>\n",
       "    <tr>\n",
       "      <th>0</th>\n",
       "      <td>NaN</td>\n",
       "      <td>0.843428</td>\n",
       "      <td>0.594415</td>\n",
       "      <td>0.286990</td>\n",
       "      <td>0.533208</td>\n",
       "      <td>0.482399</td>\n",
       "      <td>0.701530</td>\n",
       "      <td>0.589643</td>\n",
       "      <td>0.847257</td>\n",
       "      <td>0.496401</td>\n",
       "      <td>...</td>\n",
       "      <td>0.390592</td>\n",
       "      <td>0.504716</td>\n",
       "      <td>0.294600</td>\n",
       "      <td>0.634479</td>\n",
       "      <td>0.572945</td>\n",
       "      <td>0.479707</td>\n",
       "      <td>0.307607</td>\n",
       "      <td>0.313744</td>\n",
       "      <td>0.462326</td>\n",
       "      <td>0.785469</td>\n",
       "    </tr>\n",
       "    <tr>\n",
       "      <th>1</th>\n",
       "      <td>0.843428</td>\n",
       "      <td>NaN</td>\n",
       "      <td>0.719865</td>\n",
       "      <td>0.306876</td>\n",
       "      <td>0.632761</td>\n",
       "      <td>0.289994</td>\n",
       "      <td>0.820801</td>\n",
       "      <td>0.346512</td>\n",
       "      <td>0.990637</td>\n",
       "      <td>0.588075</td>\n",
       "      <td>...</td>\n",
       "      <td>0.412079</td>\n",
       "      <td>0.534662</td>\n",
       "      <td>0.321590</td>\n",
       "      <td>0.732730</td>\n",
       "      <td>0.367171</td>\n",
       "      <td>0.196818</td>\n",
       "      <td>0.327712</td>\n",
       "      <td>0.333956</td>\n",
       "      <td>0.494644</td>\n",
       "      <td>0.648961</td>\n",
       "    </tr>\n",
       "    <tr>\n",
       "      <th>2</th>\n",
       "      <td>0.594415</td>\n",
       "      <td>0.719865</td>\n",
       "      <td>NaN</td>\n",
       "      <td>0.160108</td>\n",
       "      <td>0.498939</td>\n",
       "      <td>0.144188</td>\n",
       "      <td>0.598924</td>\n",
       "      <td>0.180433</td>\n",
       "      <td>0.715948</td>\n",
       "      <td>0.420044</td>\n",
       "      <td>...</td>\n",
       "      <td>0.224959</td>\n",
       "      <td>0.287931</td>\n",
       "      <td>0.156036</td>\n",
       "      <td>0.531433</td>\n",
       "      <td>0.206993</td>\n",
       "      <td>0.127863</td>\n",
       "      <td>0.173139</td>\n",
       "      <td>0.176965</td>\n",
       "      <td>0.257567</td>\n",
       "      <td>0.478600</td>\n",
       "    </tr>\n",
       "    <tr>\n",
       "      <th>3</th>\n",
       "      <td>0.286990</td>\n",
       "      <td>0.306876</td>\n",
       "      <td>0.160108</td>\n",
       "      <td>NaN</td>\n",
       "      <td>0.162507</td>\n",
       "      <td>0.542132</td>\n",
       "      <td>0.261890</td>\n",
       "      <td>0.664622</td>\n",
       "      <td>0.321951</td>\n",
       "      <td>0.548450</td>\n",
       "      <td>...</td>\n",
       "      <td>0.461071</td>\n",
       "      <td>0.618625</td>\n",
       "      <td>0.654933</td>\n",
       "      <td>0.250074</td>\n",
       "      <td>0.414267</td>\n",
       "      <td>0.123378</td>\n",
       "      <td>0.660698</td>\n",
       "      <td>0.401275</td>\n",
       "      <td>0.623657</td>\n",
       "      <td>0.407076</td>\n",
       "    </tr>\n",
       "    <tr>\n",
       "      <th>4</th>\n",
       "      <td>0.533208</td>\n",
       "      <td>0.632761</td>\n",
       "      <td>0.498939</td>\n",
       "      <td>0.162507</td>\n",
       "      <td>NaN</td>\n",
       "      <td>0.141761</td>\n",
       "      <td>0.538549</td>\n",
       "      <td>0.182907</td>\n",
       "      <td>0.643354</td>\n",
       "      <td>0.581969</td>\n",
       "      <td>...</td>\n",
       "      <td>0.234755</td>\n",
       "      <td>0.298035</td>\n",
       "      <td>0.150796</td>\n",
       "      <td>0.486848</td>\n",
       "      <td>0.220044</td>\n",
       "      <td>0.146017</td>\n",
       "      <td>0.177126</td>\n",
       "      <td>0.413682</td>\n",
       "      <td>0.261099</td>\n",
       "      <td>0.439122</td>\n",
       "    </tr>\n",
       "    <tr>\n",
       "      <th>...</th>\n",
       "      <td>...</td>\n",
       "      <td>...</td>\n",
       "      <td>...</td>\n",
       "      <td>...</td>\n",
       "      <td>...</td>\n",
       "      <td>...</td>\n",
       "      <td>...</td>\n",
       "      <td>...</td>\n",
       "      <td>...</td>\n",
       "      <td>...</td>\n",
       "      <td>...</td>\n",
       "      <td>...</td>\n",
       "      <td>...</td>\n",
       "      <td>...</td>\n",
       "      <td>...</td>\n",
       "      <td>...</td>\n",
       "      <td>...</td>\n",
       "      <td>...</td>\n",
       "      <td>...</td>\n",
       "      <td>...</td>\n",
       "      <td>...</td>\n",
       "    </tr>\n",
       "    <tr>\n",
       "      <th>1996</th>\n",
       "      <td>0.479707</td>\n",
       "      <td>0.196818</td>\n",
       "      <td>0.127863</td>\n",
       "      <td>0.123378</td>\n",
       "      <td>0.146017</td>\n",
       "      <td>0.756744</td>\n",
       "      <td>0.197121</td>\n",
       "      <td>0.409122</td>\n",
       "      <td>0.236164</td>\n",
       "      <td>0.115356</td>\n",
       "      <td>...</td>\n",
       "      <td>0.188627</td>\n",
       "      <td>0.235643</td>\n",
       "      <td>0.102228</td>\n",
       "      <td>0.449691</td>\n",
       "      <td>0.859768</td>\n",
       "      <td>NaN</td>\n",
       "      <td>0.136732</td>\n",
       "      <td>0.377204</td>\n",
       "      <td>0.197704</td>\n",
       "      <td>0.637909</td>\n",
       "    </tr>\n",
       "    <tr>\n",
       "      <th>1997</th>\n",
       "      <td>0.307607</td>\n",
       "      <td>0.327712</td>\n",
       "      <td>0.173139</td>\n",
       "      <td>0.660698</td>\n",
       "      <td>0.177126</td>\n",
       "      <td>0.393708</td>\n",
       "      <td>0.282173</td>\n",
       "      <td>0.482258</td>\n",
       "      <td>0.346357</td>\n",
       "      <td>0.610060</td>\n",
       "      <td>...</td>\n",
       "      <td>0.508940</td>\n",
       "      <td>0.348833</td>\n",
       "      <td>0.991506</td>\n",
       "      <td>0.270630</td>\n",
       "      <td>0.243079</td>\n",
       "      <td>0.136732</td>\n",
       "      <td>NaN</td>\n",
       "      <td>0.442864</td>\n",
       "      <td>0.319372</td>\n",
       "      <td>0.233598</td>\n",
       "    </tr>\n",
       "    <tr>\n",
       "      <th>1998</th>\n",
       "      <td>0.313744</td>\n",
       "      <td>0.333956</td>\n",
       "      <td>0.176965</td>\n",
       "      <td>0.401275</td>\n",
       "      <td>0.413682</td>\n",
       "      <td>0.367989</td>\n",
       "      <td>0.288160</td>\n",
       "      <td>0.228083</td>\n",
       "      <td>0.353578</td>\n",
       "      <td>0.377847</td>\n",
       "      <td>...</td>\n",
       "      <td>0.275743</td>\n",
       "      <td>0.356057</td>\n",
       "      <td>0.433018</td>\n",
       "      <td>0.684115</td>\n",
       "      <td>0.434099</td>\n",
       "      <td>0.377204</td>\n",
       "      <td>0.442864</td>\n",
       "      <td>NaN</td>\n",
       "      <td>0.325587</td>\n",
       "      <td>0.238969</td>\n",
       "    </tr>\n",
       "    <tr>\n",
       "      <th>1999</th>\n",
       "      <td>0.462326</td>\n",
       "      <td>0.494644</td>\n",
       "      <td>0.257567</td>\n",
       "      <td>0.623657</td>\n",
       "      <td>0.261099</td>\n",
       "      <td>0.280386</td>\n",
       "      <td>0.421547</td>\n",
       "      <td>0.337042</td>\n",
       "      <td>0.518347</td>\n",
       "      <td>0.587063</td>\n",
       "      <td>...</td>\n",
       "      <td>0.739305</td>\n",
       "      <td>0.991948</td>\n",
       "      <td>0.309982</td>\n",
       "      <td>0.402248</td>\n",
       "      <td>0.361038</td>\n",
       "      <td>0.197704</td>\n",
       "      <td>0.319372</td>\n",
       "      <td>0.325587</td>\n",
       "      <td>NaN</td>\n",
       "      <td>0.346023</td>\n",
       "    </tr>\n",
       "    <tr>\n",
       "      <th>2000</th>\n",
       "      <td>0.785469</td>\n",
       "      <td>0.648961</td>\n",
       "      <td>0.478600</td>\n",
       "      <td>0.407076</td>\n",
       "      <td>0.439122</td>\n",
       "      <td>0.711396</td>\n",
       "      <td>0.556944</td>\n",
       "      <td>0.671431</td>\n",
       "      <td>0.668661</td>\n",
       "      <td>0.380225</td>\n",
       "      <td>...</td>\n",
       "      <td>0.306371</td>\n",
       "      <td>0.390625</td>\n",
       "      <td>0.205054</td>\n",
       "      <td>0.511727</td>\n",
       "      <td>0.820730</td>\n",
       "      <td>0.637909</td>\n",
       "      <td>0.233598</td>\n",
       "      <td>0.238969</td>\n",
       "      <td>0.346023</td>\n",
       "      <td>NaN</td>\n",
       "    </tr>\n",
       "  </tbody>\n",
       "</table>\n",
       "<p>2001 rows × 2001 columns</p>\n",
       "</div>"
      ],
      "text/plain": [
       "          0         1         2         3         4         5         6     \\\n",
       "0          NaN  0.843428  0.594415  0.286990  0.533208  0.482399  0.701530   \n",
       "1     0.843428       NaN  0.719865  0.306876  0.632761  0.289994  0.820801   \n",
       "2     0.594415  0.719865       NaN  0.160108  0.498939  0.144188  0.598924   \n",
       "3     0.286990  0.306876  0.160108       NaN  0.162507  0.542132  0.261890   \n",
       "4     0.533208  0.632761  0.498939  0.162507       NaN  0.141761  0.538549   \n",
       "...        ...       ...       ...       ...       ...       ...       ...   \n",
       "1996  0.479707  0.196818  0.127863  0.123378  0.146017  0.756744  0.197121   \n",
       "1997  0.307607  0.327712  0.173139  0.660698  0.177126  0.393708  0.282173   \n",
       "1998  0.313744  0.333956  0.176965  0.401275  0.413682  0.367989  0.288160   \n",
       "1999  0.462326  0.494644  0.257567  0.623657  0.261099  0.280386  0.421547   \n",
       "2000  0.785469  0.648961  0.478600  0.407076  0.439122  0.711396  0.556944   \n",
       "\n",
       "          7         8         9     ...      1991      1992      1993  \\\n",
       "0     0.589643  0.847257  0.496401  ...  0.390592  0.504716  0.294600   \n",
       "1     0.346512  0.990637  0.588075  ...  0.412079  0.534662  0.321590   \n",
       "2     0.180433  0.715948  0.420044  ...  0.224959  0.287931  0.156036   \n",
       "3     0.664622  0.321951  0.548450  ...  0.461071  0.618625  0.654933   \n",
       "4     0.182907  0.643354  0.581969  ...  0.234755  0.298035  0.150796   \n",
       "...        ...       ...       ...  ...       ...       ...       ...   \n",
       "1996  0.409122  0.236164  0.115356  ...  0.188627  0.235643  0.102228   \n",
       "1997  0.482258  0.346357  0.610060  ...  0.508940  0.348833  0.991506   \n",
       "1998  0.228083  0.353578  0.377847  ...  0.275743  0.356057  0.433018   \n",
       "1999  0.337042  0.518347  0.587063  ...  0.739305  0.991948  0.309982   \n",
       "2000  0.671431  0.668661  0.380225  ...  0.306371  0.390625  0.205054   \n",
       "\n",
       "          1994      1995      1996      1997      1998      1999      2000  \n",
       "0     0.634479  0.572945  0.479707  0.307607  0.313744  0.462326  0.785469  \n",
       "1     0.732730  0.367171  0.196818  0.327712  0.333956  0.494644  0.648961  \n",
       "2     0.531433  0.206993  0.127863  0.173139  0.176965  0.257567  0.478600  \n",
       "3     0.250074  0.414267  0.123378  0.660698  0.401275  0.623657  0.407076  \n",
       "4     0.486848  0.220044  0.146017  0.177126  0.413682  0.261099  0.439122  \n",
       "...        ...       ...       ...       ...       ...       ...       ...  \n",
       "1996  0.449691  0.859768       NaN  0.136732  0.377204  0.197704  0.637909  \n",
       "1997  0.270630  0.243079  0.136732       NaN  0.442864  0.319372  0.233598  \n",
       "1998  0.684115  0.434099  0.377204  0.442864       NaN  0.325587  0.238969  \n",
       "1999  0.402248  0.361038  0.197704  0.319372  0.325587       NaN  0.346023  \n",
       "2000  0.511727  0.820730  0.637909  0.233598  0.238969  0.346023       NaN  \n",
       "\n",
       "[2001 rows x 2001 columns]"
      ]
     },
     "execution_count": 14,
     "metadata": {},
     "output_type": "execute_result"
    }
   ],
   "source": [
    "df_similCosine"
   ]
  },
  {
   "cell_type": "code",
   "execution_count": 15,
   "metadata": {},
   "outputs": [],
   "source": [
    "# Guardar matriz similitudes coseno\n",
    "df_similCosine.to_csv('cosine_csv/df_similCosineV2.csv', index=False)"
   ]
  },
  {
   "cell_type": "markdown",
   "metadata": {},
   "source": [
    "Logica que implementa la recomendacion en base a un usuario y pelicula vista"
   ]
  },
  {
   "cell_type": "code",
   "execution_count": 16,
   "metadata": {},
   "outputs": [],
   "source": [
    "def comprobar_existencia(diccionario, movie_id, user_id):    \n",
    "    for i in range(len(diccionario['userId'])):\n",
    "        if diccionario['userId'].iloc[i] == user_id and diccionario['movieId'].iloc[i] == movie_id:\n",
    "            return True\n",
    "    return False"
   ]
  },
  {
   "cell_type": "code",
   "execution_count": 17,
   "metadata": {},
   "outputs": [],
   "source": [
    "def obtener_index_movieId(diccionario, movie_id):\n",
    "    for i in range(len(diccionario['movieId'])):\n",
    "        if diccionario['movieId'].iloc[i]==movie_id:\n",
    "            index = i\n",
    "            break\n",
    "    return index"
   ]
  },
  {
   "cell_type": "code",
   "execution_count": 18,
   "metadata": {},
   "outputs": [],
   "source": [
    "def get_title_from_movieId(user_id ,diccionario):\n",
    "    index = diccionario['userId'].loc[diccionario['userId'] == user_id].index\n",
    "    # Obtén los títulos de las películas\n",
    "    titles_saws = diccionario['title'].loc[index]\n",
    "    return titles_saws"
   ]
  },
  {
   "cell_type": "code",
   "execution_count": 19,
   "metadata": {},
   "outputs": [],
   "source": [
    "# Funcion de recomendacion para un usuario y pelicula\n",
    "def get_recommendations(user_id, movie_id,dicc_user_movies=dicc_user_movies, simil_cosine=df_similCosine, threshold=0.7):\n",
    "    #Comprobamos que el usuario para la pelicula dada existe\n",
    "    comprobar_user_movie_exist=comprobar_existencia(dicc_user_movies, movie_id, user_id)\n",
    "\n",
    "    if comprobar_user_movie_exist:\n",
    "       #Obtener indice de la pelicula dada\n",
    "        index=obtener_index_movieId(dicc_user_movies, movie_id)\n",
    "\n",
    "        # Obtén la lista de similitudes del coseno para una película y usuario dada\n",
    "        cosine_sim_list = simil_cosine.iloc[index]\n",
    "        \n",
    "        # Ordena las películas en función de la similitud del coseno\n",
    "        most_similar_movies_sorted=cosine_sim_list.sort_values(ascending=False)\n",
    "\n",
    "        # Obtiene los índices de las 5 películas más similares superior al umbral \n",
    "        most_similar_movies = most_similar_movies_sorted[most_similar_movies_sorted > threshold][:5].index\n",
    "\n",
    "        # Obtiene los títulos de las películas más similares\n",
    "        most_similar_movie_titles = list(set([dicc_user_movies['title'][id] for id in most_similar_movies if id in dicc_user_movies['title']]))\n",
    "        \n",
    "        # Obtener los titulos de todas las peliculas vistas por el usuario\n",
    "        titles_saws = get_title_from_movieId(user_id ,dicc_user_movies)\n",
    "        titles_saws = list(titles_saws)\n",
    "        \n",
    "        # Pelicula actual pasada por parametros (title)\n",
    "        actual_title = dicc_user_movies['movieId'].loc[dicc_user_movies['movieId'] == movie_id].index[0]\n",
    "\n",
    "        print('Porque has visto:',dicc_user_movies['title'].loc[actual_title])\n",
    "        \n",
    "        # Filtra las películas recomendadas para excluir las que el usuario ya ha visto\n",
    "        recommended_movies = [movie for movie in most_similar_movie_titles if movie not in titles_saws]\n",
    "\n",
    "        # Si las peliculas se devuelven vacias se retorna la condicion\n",
    "        if not recommended_movies:\n",
    "            return 'No se encontro una pelicula lo suficientemente significativa para recomendar'\n",
    "        print('Recomendamos:')\n",
    "        return recommended_movies\n",
    "    else: \n",
    "        return 'No se encontro usuario para pelicula dada'\n",
    "        "
   ]
  },
  {
   "cell_type": "code",
   "execution_count": 21,
   "metadata": {},
   "outputs": [
    {
     "name": "stdout",
     "output_type": "stream",
     "text": [
      "Porque has visto: Hitchhiker's Guide to the Galaxy, The\n",
      "Recomendamos:\n"
     ]
    },
    {
     "data": {
      "text/plain": [
       "['Galaxy Quest',\n",
       " \"Bill & Ted's Excellent Adventure\",\n",
       " 'Back to the Future Part II']"
      ]
     },
     "execution_count": 21,
     "metadata": {},
     "output_type": "execute_result"
    }
   ],
   "source": [
    "result_recommendation=get_recommendations(47985,33004)#userId, movieId\n",
    "result_recommendation"
   ]
  },
  {
   "cell_type": "markdown",
   "metadata": {},
   "source": [
    "Podemos ver que para la pelicula Hitchhiker's Guide to the Galaxy, The (cuyo genero es comedia/ciencia ficcion lanzada en el 2005), \n",
    "\n",
    "se recomiendan tres peliculas de comedia/ciencia, ambas lanzadas en años similares."
   ]
  },
  {
   "cell_type": "code",
   "execution_count": 20,
   "metadata": {},
   "outputs": [
    {
     "data": {
      "text/html": [
       "<div>\n",
       "<style scoped>\n",
       "    .dataframe tbody tr th:only-of-type {\n",
       "        vertical-align: middle;\n",
       "    }\n",
       "\n",
       "    .dataframe tbody tr th {\n",
       "        vertical-align: top;\n",
       "    }\n",
       "\n",
       "    .dataframe thead th {\n",
       "        text-align: right;\n",
       "    }\n",
       "</style>\n",
       "<table border=\"1\" class=\"dataframe\">\n",
       "  <thead>\n",
       "    <tr style=\"text-align: right;\">\n",
       "      <th></th>\n",
       "      <th>userId</th>\n",
       "      <th>movieId</th>\n",
       "      <th>rating</th>\n",
       "      <th>title</th>\n",
       "    </tr>\n",
       "  </thead>\n",
       "  <tbody>\n",
       "    <tr>\n",
       "      <th>1991</th>\n",
       "      <td>47985.0</td>\n",
       "      <td>33004</td>\n",
       "      <td>4.5</td>\n",
       "      <td>Hitchhiker's Guide to the Galaxy, The</td>\n",
       "    </tr>\n",
       "    <tr>\n",
       "      <th>1992</th>\n",
       "      <td>116941.0</td>\n",
       "      <td>5401</td>\n",
       "      <td>4.0</td>\n",
       "      <td>Undercover Brother</td>\n",
       "    </tr>\n",
       "    <tr>\n",
       "      <th>1993</th>\n",
       "      <td>7405.0</td>\n",
       "      <td>2826</td>\n",
       "      <td>2.0</td>\n",
       "      <td>13th Warrior, The</td>\n",
       "    </tr>\n",
       "    <tr>\n",
       "      <th>1994</th>\n",
       "      <td>87208.0</td>\n",
       "      <td>2762</td>\n",
       "      <td>5.0</td>\n",
       "      <td>Sixth Sense, The</td>\n",
       "    </tr>\n",
       "    <tr>\n",
       "      <th>1995</th>\n",
       "      <td>53360.0</td>\n",
       "      <td>1617</td>\n",
       "      <td>5.0</td>\n",
       "      <td>L.A. Confidential</td>\n",
       "    </tr>\n",
       "    <tr>\n",
       "      <th>1996</th>\n",
       "      <td>83373.0</td>\n",
       "      <td>2206</td>\n",
       "      <td>3.5</td>\n",
       "      <td>Suspicion</td>\n",
       "    </tr>\n",
       "    <tr>\n",
       "      <th>1997</th>\n",
       "      <td>104655.0</td>\n",
       "      <td>2193</td>\n",
       "      <td>3.0</td>\n",
       "      <td>Willow</td>\n",
       "    </tr>\n",
       "    <tr>\n",
       "      <th>1998</th>\n",
       "      <td>50541.0</td>\n",
       "      <td>3081</td>\n",
       "      <td>3.5</td>\n",
       "      <td>Sleepy Hollow</td>\n",
       "    </tr>\n",
       "    <tr>\n",
       "      <th>1999</th>\n",
       "      <td>11984.0</td>\n",
       "      <td>700</td>\n",
       "      <td>3.0</td>\n",
       "      <td>Angus</td>\n",
       "    </tr>\n",
       "    <tr>\n",
       "      <th>2000</th>\n",
       "      <td>27783.0</td>\n",
       "      <td>1245</td>\n",
       "      <td>5.0</td>\n",
       "      <td>Miller's Crossing</td>\n",
       "    </tr>\n",
       "  </tbody>\n",
       "</table>\n",
       "</div>"
      ],
      "text/plain": [
       "        userId  movieId  rating                                  title\n",
       "1991   47985.0    33004     4.5  Hitchhiker's Guide to the Galaxy, The\n",
       "1992  116941.0     5401     4.0                     Undercover Brother\n",
       "1993    7405.0     2826     2.0                      13th Warrior, The\n",
       "1994   87208.0     2762     5.0                       Sixth Sense, The\n",
       "1995   53360.0     1617     5.0                      L.A. Confidential\n",
       "1996   83373.0     2206     3.5                              Suspicion\n",
       "1997  104655.0     2193     3.0                                 Willow\n",
       "1998   50541.0     3081     3.5                          Sleepy Hollow\n",
       "1999   11984.0      700     3.0                                  Angus\n",
       "2000   27783.0     1245     5.0                      Miller's Crossing"
      ]
     },
     "execution_count": 20,
     "metadata": {},
     "output_type": "execute_result"
    }
   ],
   "source": [
    "list_user_movies.tail(10)"
   ]
  },
  {
   "cell_type": "code",
   "execution_count": 17,
   "metadata": {},
   "outputs": [],
   "source": [
    "# Buscar usuarios \n",
    "def movies_peruser(idUser):    \n",
    "    print(list_user_movies[list_user_movies['userId']==idUser])"
   ]
  },
  {
   "cell_type": "code",
   "execution_count": 24,
   "metadata": {},
   "outputs": [
    {
     "name": "stdout",
     "output_type": "stream",
     "text": [
      "         userId  movieId  rating             title\n",
      "19995  136540.0       36     3.0  Dead Man Walking\n"
     ]
    }
   ],
   "source": [
    "movies_peruser(136540)"
   ]
  }
 ],
 "metadata": {
  "kernelspec": {
   "display_name": "Python 3",
   "language": "python",
   "name": "python3"
  },
  "language_info": {
   "codemirror_mode": {
    "name": "ipython",
    "version": 3
   },
   "file_extension": ".py",
   "mimetype": "text/x-python",
   "name": "python",
   "nbconvert_exporter": "python",
   "pygments_lexer": "ipython3",
   "version": "3.11.7"
  }
 },
 "nbformat": 4,
 "nbformat_minor": 2
}
